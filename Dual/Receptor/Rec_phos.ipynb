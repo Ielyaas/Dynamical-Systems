{
 "cells": [
  {
   "cell_type": "code",
   "execution_count": 1,
   "metadata": {},
   "outputs": [],
   "source": [
    "import sys, os\n",
    "import numpy as np\n",
    "\n",
    "sys.path.insert(0, \"/Users/Shared/auto/07p/python\")\n",
    "from auto import *\n",
    "import scipy.optimize as op"
   ]
  },
  {
   "cell_type": "code",
   "execution_count": 2,
   "metadata": {},
   "outputs": [
    {
     "data": {
      "text/plain": [
       "array([ 9.72903188e-25,  7.80038261e-02,  3.28396164e+00,  5.25247267e-01,\n",
       "       -3.17568939e-26])"
      ]
     },
     "execution_count": 2,
     "metadata": {},
     "output_type": "execute_result"
    }
   ],
   "source": [
    "Ka=0; A=5; K1=0.05; K3=5; k2=10; k_2=0.05; k4=0.05; k_4=10;\n",
    "Kf=10; Kc=0.2; Kp=0.2; Kb=0.4; Kh=0.08;\n",
    "tau_max=100; Ktau=0.09; Vs=0.9; Kbar=1.957e-5; Ks=0.2;\n",
    "Vpm=0.11; Kpm=0.3; alpha0=0.0027; alpha1=0.015; Kce=14;\n",
    "delta=2.5; gamma=5.5; V_plc=0.5; Kplc=0.1; V_D=0.5; Vp=0.2; Kpkc=0.118; V_pkc=0;\n",
    "\n",
    "def f(x):\n",
    "    \n",
    "    rho_d = k4/(1+K3) + k_2/(1+(1/K3))\n",
    "    rho_p = k_4/(1+(1/K1)) + k2/(1+K1)\n",
    "    ce = gamma*(x[2]-x[1])\n",
    "    phi_c = x[1]**4/(x[1]**4+Kc**4)\n",
    "    phi_p = x[4]**2/(x[4]**2+Kp**2)\n",
    "    phi_p_down = Kp**2/(x[4]**2+Kp**2)\n",
    "    h_inf = Kh**4/(x[1]**4+Kh**4)\n",
    "    tau = tau_max*Ktau**4/(x[1]**4+Ktau**4)\n",
    "    beta = phi_c*phi_p*x[3]\n",
    "    alpha = phi_p_down*(1-phi_c*h_inf)\n",
    "    Po = beta/(beta+Kb*(beta+alpha))\n",
    "    PLC = V_plc*x[1]**2/(x[1]**2+Kplc**2)\n",
    "    PKC = V_D*x[1]**2/(x[1]**2+Kpkc**2)\n",
    "    Jipr = Kf*Po*(ce-x[1])\n",
    "    Jserca = Vs*(x[1]**2-Kbar*ce**2)/(x[1]**2+Ks**2)\n",
    "    Jin = alpha0 + alpha1*Kce**4/(ce**4+Kce**4)\n",
    "    Jpm = Vpm*x[1]**2/(x[1]**2+Kpm**2)\n",
    "    \n",
    "    return np.array([Ka*A*(1-x[0])*rho_d - x[0]*(V_pkc*PKC*rho_p + PLC/(1+K1))\n",
    "                    ,Jipr-Jserca+delta*(Jin-Jpm),delta*(Jin-Jpm),\n",
    "                    (h_inf-x[3])/tau,x[0]*PLC-x[4]])\n",
    "\n",
    "sol = op.root(f,x0=np.array([1e-10,0.07800382,3.2839616,0.525247,1e-10]))\n",
    "sol.x"
   ]
  },
  {
   "cell_type": "code",
   "execution_count": 3,
   "metadata": {},
   "outputs": [
    {
     "data": {
      "text/plain": [
       "    fjac: array([[-6.89655178e-01,  1.87602854e-11,  3.36248943e-12,\n",
       "         2.92521333e-11,  7.24137926e-01],\n",
       "       [-1.18710130e-11, -9.91792017e-01, -1.14845004e-01,\n",
       "        -5.62069336e-02,  1.71924886e-11],\n",
       "       [ 4.82626075e-12,  1.24044096e-01, -9.70843416e-01,\n",
       "        -2.05124654e-01,  1.41770471e-11],\n",
       "       [-2.05094040e-11,  3.10105895e-02,  2.10413133e-01,\n",
       "        -9.77120595e-01,  1.81583715e-11],\n",
       "       [-7.24137926e-01, -1.65975451e-12, -1.37496225e-11,\n",
       "        -6.30371135e-13, -6.89655178e-01]])\n",
       "     fun: array([-1.75255623e-25,  1.91073735e-17,  2.16840434e-18,  0.00000000e+00,\n",
       "        2.15775298e-25])\n",
       " message: 'The solution converged.'\n",
       "    nfev: 8\n",
       "     qtf: array([-2.56241314e-18,  3.85936904e-16,  1.29745326e-16,  5.10431994e-16,\n",
       "       -7.38370346e-20])\n",
       "       r: array([ 2.61198266e-01, -5.97714291e-11,  3.57947965e-13, -7.99788960e-13,\n",
       "       -7.24137923e-01,  3.55876678e+00, -6.29837683e-02,  8.79232989e-04,\n",
       "       -9.62000435e-11,  1.72584064e-02,  3.20872074e-03, -4.07380234e-11,\n",
       "        1.52848868e-02, -1.22652094e-10,  6.89655175e-01])\n",
       "  status: 1\n",
       " success: True\n",
       "       x: array([ 9.72903188e-25,  7.80038261e-02,  3.28396164e+00,  5.25247267e-01,\n",
       "       -3.17568939e-26])"
      ]
     },
     "execution_count": 3,
     "metadata": {},
     "output_type": "execute_result"
    }
   ],
   "source": [
    "sol"
   ]
  },
  {
   "cell_type": "code",
   "execution_count": 4,
   "metadata": {},
   "outputs": [
    {
     "data": {
      "text/plain": [
       "array([-1.75255623e-25,  1.91073735e-17,  2.16840434e-18,  0.00000000e+00,\n",
       "        2.15775298e-25])"
      ]
     },
     "execution_count": 4,
     "metadata": {},
     "output_type": "execute_result"
    }
   ],
   "source": [
    "f(sol.x)"
   ]
  },
  {
   "cell_type": "code",
   "execution_count": 5,
   "metadata": {
    "scrolled": true
   },
   "outputs": [
    {
     "data": {
      "text/plain": [
       "<function AUTOCommands.cl>"
      ]
     },
     "execution_count": 5,
     "metadata": {},
     "output_type": "execute_result"
    }
   ],
   "source": [
    "cl"
   ]
  },
  {
   "cell_type": "code",
   "execution_count": 6,
   "metadata": {},
   "outputs": [
    {
     "name": "stdout",
     "output_type": "stream",
     "text": [
      "2.7.14 |Anaconda custom (64-bit)| (default, Dec  7 2017, 11:07:58) \n",
      "[GCC 4.2.1 Compatible Clang 4.0.1 (tags/RELEASE_401/final)]\n"
     ]
    }
   ],
   "source": [
    "import sys\n",
    "print(sys.version)"
   ]
  },
  {
   "cell_type": "code",
   "execution_count": 7,
   "metadata": {},
   "outputs": [
    {
     "name": "stdout",
     "output_type": "stream",
     "text": [
      "Starting Rec_phos ...\n",
      "\n",
      "  BR    PT  TY  LAB       Ka         L2-NORM        V_pkc         V_plc        PAR(4)        PAR(5)        PAR(6)        PAR(7)     \n",
      "   1     1  EP    1   0.00000E+00   3.32662E+00   0.00000E+00   5.00000E-01   1.00000E-10   7.80038E-02   3.28396E+00   5.25247E-01\n",
      "   1    70  HB    2   8.34515E-02   2.93974E+00   0.00000E+00   5.00000E-01   9.14260E-02   8.78153E-02   2.90848E+00   4.07856E-01\n",
      "   1   648  HB    3   3.76681E+00   8.47048E-01   0.00000E+00   5.00000E-01   7.57482E-01   1.31373E-01   2.33097E-01   1.20887E-01\n",
      "   1  5000        4   4.72846E+01   1.05833E+00   0.00000E+00   5.00000E-01   9.75129E-01   1.31373E-01   2.04974E-01   1.20886E-01\n",
      "   1     1        5   9.72846E+01   1.07093E+00   0.00000E+00   5.00000E-01   9.87755E-01   1.31373E-01   2.03887E-01   1.20886E-01\n",
      "   1  5001        6   1.47285E+02   1.07504E+00   0.00000E+00   5.00000E-01   9.91878E-01   1.31373E-01   2.03541E-01   1.20886E-01\n",
      "   1     2        7   1.97285E+02   1.07709E+00   0.00000E+00   5.00000E-01   9.93924E-01   1.31373E-01   2.03371E-01   1.20886E-01\n",
      "   1  5002        8   2.47285E+02   1.07831E+00   0.00000E+00   5.00000E-01   9.95147E-01   1.31373E-01   2.03270E-01   1.20886E-01\n",
      "   1     3        9   2.97285E+02   1.07912E+00   0.00000E+00   5.00000E-01   9.95960E-01   1.31373E-01   2.03203E-01   1.20886E-01\n",
      "   1  5003       10   3.47285E+02   1.07970E+00   0.00000E+00   5.00000E-01   9.96539E-01   1.31373E-01   2.03155E-01   1.20886E-01\n",
      "   1     4       11   3.97285E+02   1.08014E+00   0.00000E+00   5.00000E-01   9.96974E-01   1.31373E-01   2.03119E-01   1.20886E-01\n",
      "   1  5004       12   4.47285E+02   1.08048E+00   0.00000E+00   5.00000E-01   9.97311E-01   1.31373E-01   2.03092E-01   1.20886E-01\n",
      "   1     5       13   4.97285E+02   1.08075E+00   0.00000E+00   5.00000E-01   9.97581E-01   1.31373E-01   2.03070E-01   1.20886E-01\n",
      "   1  5005       14   5.47285E+02   1.08097E+00   0.00000E+00   5.00000E-01   9.97801E-01   1.31373E-01   2.03052E-01   1.20886E-01\n",
      "   1     6       15   5.97285E+02   1.08115E+00   0.00000E+00   5.00000E-01   9.97985E-01   1.31373E-01   2.03036E-01   1.20886E-01\n",
      "   1  5006       16   6.47285E+02   1.08131E+00   0.00000E+00   5.00000E-01   9.98140E-01   1.31373E-01   2.03024E-01   1.20886E-01\n",
      "   1     7       17   6.97285E+02   1.08144E+00   0.00000E+00   5.00000E-01   9.98273E-01   1.31373E-01   2.03013E-01   1.20886E-01\n",
      "   1  5007       18   7.47285E+02   1.08155E+00   0.00000E+00   5.00000E-01   9.98389E-01   1.31373E-01   2.03003E-01   1.20886E-01\n",
      "   1     8       19   7.97285E+02   1.08166E+00   0.00000E+00   5.00000E-01   9.98490E-01   1.31373E-01   2.02995E-01   1.20886E-01\n",
      "   1  5008       20   8.47285E+02   1.08174E+00   0.00000E+00   5.00000E-01   9.98579E-01   1.31373E-01   2.02988E-01   1.20886E-01\n",
      "   1     9       21   8.97285E+02   1.08182E+00   0.00000E+00   5.00000E-01   9.98658E-01   1.31373E-01   2.02981E-01   1.20886E-01\n",
      "   1  5009       22   9.47285E+02   1.08189E+00   0.00000E+00   5.00000E-01   9.98729E-01   1.31373E-01   2.02976E-01   1.20886E-01\n",
      "   1    10       23   9.97285E+02   1.08196E+00   0.00000E+00   5.00000E-01   9.98792E-01   1.31373E-01   2.02970E-01   1.20886E-01\n",
      "   1  5010       24   1.04728E+03   1.08202E+00   0.00000E+00   5.00000E-01   9.98850E-01   1.31373E-01   2.02966E-01   1.20886E-01\n",
      "   1    11       25   1.09728E+03   1.08207E+00   0.00000E+00   5.00000E-01   9.98902E-01   1.31373E-01   2.02961E-01   1.20886E-01\n",
      "   1  5011       26   1.14728E+03   1.08212E+00   0.00000E+00   5.00000E-01   9.98950E-01   1.31373E-01   2.02958E-01   1.20886E-01\n",
      "   1    12       27   1.19728E+03   1.08216E+00   0.00000E+00   5.00000E-01   9.98994E-01   1.31373E-01   2.02954E-01   1.20886E-01\n",
      "   1  5012       28   1.24728E+03   1.08220E+00   0.00000E+00   5.00000E-01   9.99034E-01   1.31373E-01   2.02951E-01   1.20886E-01\n",
      "   1    13       29   1.29728E+03   1.08224E+00   0.00000E+00   5.00000E-01   9.99071E-01   1.31373E-01   2.02948E-01   1.20886E-01\n",
      "   1  5013       30   1.34728E+03   1.08227E+00   0.00000E+00   5.00000E-01   9.99106E-01   1.31373E-01   2.02945E-01   1.20886E-01\n",
      "   1    14       31   1.39728E+03   1.08230E+00   0.00000E+00   5.00000E-01   9.99138E-01   1.31373E-01   2.02942E-01   1.20886E-01\n",
      "   1  5014       32   1.44728E+03   1.08233E+00   0.00000E+00   5.00000E-01   9.99167E-01   1.31373E-01   2.02940E-01   1.20886E-01\n",
      "   1    15       33   1.49728E+03   1.08236E+00   0.00000E+00   5.00000E-01   9.99195E-01   1.31373E-01   2.02938E-01   1.20886E-01\n",
      "   1  5015       34   1.54728E+03   1.08239E+00   0.00000E+00   5.00000E-01   9.99221E-01   1.31373E-01   2.02935E-01   1.20886E-01\n",
      "   1    16       35   1.59728E+03   1.08241E+00   0.00000E+00   5.00000E-01   9.99246E-01   1.31373E-01   2.02933E-01   1.20886E-01\n",
      "   1  5016       36   1.64728E+03   1.08243E+00   0.00000E+00   5.00000E-01   9.99268E-01   1.31373E-01   2.02932E-01   1.20886E-01\n",
      "   1    17       37   1.69728E+03   1.08246E+00   0.00000E+00   5.00000E-01   9.99290E-01   1.31373E-01   2.02930E-01   1.20886E-01\n",
      "   1  5017       38   1.74728E+03   1.08248E+00   0.00000E+00   5.00000E-01   9.99310E-01   1.31373E-01   2.02928E-01   1.20886E-01\n",
      "   1    18       39   1.79728E+03   1.08250E+00   0.00000E+00   5.00000E-01   9.99329E-01   1.31373E-01   2.02927E-01   1.20886E-01\n",
      "   1  5018       40   1.84728E+03   1.08251E+00   0.00000E+00   5.00000E-01   9.99348E-01   1.31373E-01   2.02925E-01   1.20886E-01\n",
      "   1    19       41   1.89728E+03   1.08253E+00   0.00000E+00   5.00000E-01   9.99365E-01   1.31373E-01   2.02924E-01   1.20886E-01\n",
      "   1  5019       42   1.94728E+03   1.08255E+00   0.00000E+00   5.00000E-01   9.99381E-01   1.31373E-01   2.02922E-01   1.20886E-01\n",
      "   1    20  EP   43   1.99728E+03   1.08256E+00   0.00000E+00   5.00000E-01   9.99397E-01   1.31373E-01   2.02921E-01   1.20886E-01\n",
      "\n",
      " Total Time    0.181E+02\n",
      "Rec_phos ... done\n"
     ]
    },
    {
     "name": "stderr",
     "output_type": "stream",
     "text": [
      "Note: The following floating-point exceptions are signalling: IEEE_UNDERFLOW_FLAG IEEE_DENORMAL\n"
     ]
    }
   ],
   "source": [
    "Eq = run(e='Rec_phos',c='Rec_phos.eq')"
   ]
  },
  {
   "cell_type": "code",
   "execution_count": 12,
   "metadata": {},
   "outputs": [
    {
     "name": "stdout",
     "output_type": "stream",
     "text": [
      "Starting Rec_phos ...\n",
      "\n",
      "  BR    PT  TY  LAB       Ka         L2-NORM        MAX R         MAX c         MAX ct        MAX h         MAX p         PERIOD    \n",
      "   2    80  TR   44   8.39789E-02   2.91870E+00   9.57616E-02   9.67812E-02   2.89864E+00   4.03784E-01   2.13321E-02   1.98253E+01\n",
      "   2   100       45   8.48148E-02   2.89986E+00   9.79054E-02   1.00787E-01   2.88439E+00   3.97922E-01   2.18173E-02   2.18346E+01\n",
      "   2   200       46   9.05977E-02   2.80530E+00   1.08566E-01   1.15145E-01   2.81066E+00   3.68944E-01   2.33844E-02   3.16486E+01\n",
      "   2   300       47   9.74541E-02   2.71246E+00   1.21021E-01   1.29573E-01   2.74395E+00   3.44132E-01   2.49476E-02   4.45741E+01\n",
      " ** On entry to DGEBAL parameter number  3 had an illegal value\n",
      "Rec_phos ... done\n"
     ]
    },
    {
     "name": "stderr",
     "output_type": "stream",
     "text": [
      "Note: The following floating-point exceptions are signalling: IEEE_INVALID_FLAG IEEE_OVERFLOW_FLAG IEEE_UNDERFLOW_FLAG IEEE_DENORMAL\n"
     ]
    }
   ],
   "source": [
    "PO1 = run(Eq('HB1'),c ='Rec_phos.per',THL={11:0.0},THU={2:0.0},ICP=['Ka',11],NPR=100,NMX=1000)"
   ]
  },
  {
   "cell_type": "code",
   "execution_count": null,
   "metadata": {},
   "outputs": [],
   "source": [
    "PO2 = run(Eq('HB2'),c ='Rec_phos.per',THL={11:0.0},THU={2:0.0},ICP=['Ka',11],NPR=100,NMX=1000)"
   ]
  },
  {
   "cell_type": "code",
   "execution_count": null,
   "metadata": {},
   "outputs": [],
   "source": []
  },
  {
   "cell_type": "code",
   "execution_count": null,
   "metadata": {},
   "outputs": [],
   "source": [
    "HB2P_1 = run(Eq('HB2'), ISW=2, ICP=[1,2,11], ILP=0, DS=0.01, EPSL= 1e-06, EPSU = 1e-06, EPSS = 1e-03,NMX=100000)\n",
    "HB2P_2 = run(Eq('HB2'), ISW=2, ICP=[1,2,11], ILP=0, DS='-',NMX=100000)\n",
    "HB2P = HB2P_1 + HB2P_2"
   ]
  },
  {
   "cell_type": "code",
   "execution_count": null,
   "metadata": {},
   "outputs": [],
   "source": [
    "SN2P_1 = run(Eq('LP'), IRS=5, ISW=2, ICP=[1,2],ILP=0, DS=0.01, EPSL= 1e-06, EPSU = 1e-06, EPSS = 1e-03)\n",
    "SN2P_2 = run(Eq('LP'), IRS=5, ISW=2, ICP=[1,2], DS='-', ILP=0)\n",
    "SN2P = SN2P_1 + SN2P_2"
   ]
  },
  {
   "cell_type": "code",
   "execution_count": null,
   "metadata": {},
   "outputs": [],
   "source": [
    "SNP = run(PO1('LP') ,IRS=17, ISW=2, ICP=[1,2,11], ILP=0, DS=0.01, EPSL= 1e-06, EPSU = 1e-06, EPSS = 1e-03) "
   ]
  },
  {
   "cell_type": "code",
   "execution_count": null,
   "metadata": {
    "scrolled": true
   },
   "outputs": [],
   "source": [
    "SNP2P_1 = run(SNP('EP'), ISW=2, ICP=[1,2,11], ILP=0, DSMAX = 1, DS = 0.1, EPSL = 1e-06, EPSU = 1e-06, EPSS = 1e-04)\n",
    "SNP2P_2 = run(SNP('EP'), ISW=2, ICP=[1,2,11], ILP=0, DSMAX = 1, DS = -0.1, EPSL= 1e-05, EPSU = 1e-05, EPSS = 1e-02)\n",
    "SNP2P = SNP2P_1 + SNP2P_2"
   ]
  },
  {
   "cell_type": "code",
   "execution_count": null,
   "metadata": {},
   "outputs": [],
   "source": [
    "import pandas as pd\n",
    "import matplotlib.pyplot as plt"
   ]
  },
  {
   "cell_type": "code",
   "execution_count": null,
   "metadata": {},
   "outputs": [],
   "source": [
    "def auto_to_csv(branch,name,solution_type):\n",
    "    \"\"\" The goal of this function is to save as a csv file the results of an AUTO continuation \n",
    "        and return a panda dataframe of the data\"\"\"\n",
    "    \"\"\" Input:\n",
    "        branch: an AUTO branch solution acquired using run(blablabla)\n",
    "        name: The name of the output csv file, must be a string\n",
    "        solution_type: 'EQ' for equilibrium, 'PR' for periodic orbit, 'HB' for Hopf two parameters continuation\n",
    "            'SNP' Saddle node of periodic orbits\n",
    "        \n",
    "        Output:\n",
    "        panda dataframe of the branch solution\"\"\"\n",
    "    \n",
    "    \n",
    "    \"\"\"Relabelling the branch solution \"\"\"\n",
    "    branch = rl(branch)\n",
    "    \"\"\"Saving the branch solution\"\"\"\n",
    "    sv(branch,name)\n",
    "    \n",
    "    \"\"\"Acquire the b. file\"\"\"\n",
    "    name_b = 'b.' + name\n",
    "    content = None\n",
    "    with open(name_b, 'r') as f:\n",
    "        content = f.readlines()\n",
    "\n",
    "    \"\"\"Read the file from the beginning of the interesting part (depends on its type)\"\"\"\n",
    "    if solution_type == 'EQ':\n",
    "        content_csv = [[el for el in content[14].split(' ') if len(el) > 0 and el != '\\n']]\n",
    "        \n",
    "    elif solution_type == 'PR':\n",
    "        content_csv = [[el for el in content[16].split(' ') if len(el) > 0 and el != '\\n']]\n",
    "        \n",
    "    elif solution_type == 'HB':\n",
    "        content_csv = [[el for el in content[17].split(' ') if len(el) > 0 and el != '\\n']]\n",
    "    \n",
    "    elif solution_type == 'SNP':\n",
    "        content_csv = [[el for el in content[18].split(' ') if len(el) > 0 and el != '\\n']]\n",
    "        \n",
    "    elif solution_type == 'SN':\n",
    "        content_csv = [[el for el in content[17].split(' ') if len(el) > 0 and el != '\\n']]\n",
    "    else:\n",
    "        print('Solution type not supported')\n",
    "        return;\n",
    "    \n",
    "        \n",
    "    \"\"\" Rename the branch\"\"\"\n",
    "    content_csv[0][0] = 'branch'\n",
    "    column_names = content_csv[0]\n",
    "    \n",
    "    \"\"\"Split and read the content\"\"\"\n",
    "    for line in content:\n",
    "        dummy = line.split(' ')\n",
    "        dummy = [el for el in dummy if len(el) > 0 and el != '\\n']\n",
    "        if dummy[0] == '0':\n",
    "            continue\n",
    "\n",
    "        for el_i, el in enumerate(dummy):\n",
    "            if el_i < 4:\n",
    "                dummy[el_i] = int(el)\n",
    "            else:\n",
    "                dummy[el_i] = float(el)\n",
    "\n",
    "        if len(dummy) > 1:\n",
    "            content_csv.append(dummy)\n",
    "        \n",
    "    # transform into panda data frame\n",
    "    print(column_names)\n",
    "    df = pd.DataFrame(content_csv, columns=column_names)\n",
    "    \n",
    "    # Export to csv\n",
    "    name_csv = name + '.csv'\n",
    "    df[1:-1].to_csv(name_csv)\n",
    "\n",
    "        \n",
    "    \n",
    "    \n",
    "    \n",
    "    return df[1:-1]"
   ]
  },
  {
   "cell_type": "code",
   "execution_count": null,
   "metadata": {},
   "outputs": [],
   "source": [
    "df_eq = auto_to_csv(Eq,'Eq','EQ')"
   ]
  },
  {
   "cell_type": "code",
   "execution_count": null,
   "metadata": {},
   "outputs": [],
   "source": [
    "df_PR = auto_to_csv(PO1,'PO1','PR')"
   ]
  },
  {
   "cell_type": "code",
   "execution_count": null,
   "metadata": {},
   "outputs": [],
   "source": [
    "df_HB2P = auto_to_csv(HB2P,'HB2P','HB')"
   ]
  },
  {
   "cell_type": "code",
   "execution_count": null,
   "metadata": {},
   "outputs": [],
   "source": [
    "df_SN2P = auto_to_csv(SN2P,'SN2P','SN')"
   ]
  },
  {
   "cell_type": "code",
   "execution_count": null,
   "metadata": {},
   "outputs": [],
   "source": [
    "df_SNP2P = auto_to_csv(SNP2P,'SNP2P','SNP')"
   ]
  },
  {
   "cell_type": "code",
   "execution_count": null,
   "metadata": {},
   "outputs": [],
   "source": [
    "import plotly.plotly as py\n",
    "from plotly.graph_objs import *\n",
    "from plotly.offline import iplot, init_notebook_mode\n",
    "init_notebook_mode(connected=True)"
   ]
  },
  {
   "cell_type": "code",
   "execution_count": null,
   "metadata": {},
   "outputs": [],
   "source": [
    "trace_eq = Scatter(x=df_eq['R_act'],\n",
    "                  y=df_eq['PAR(5)'],\n",
    "                  name='Equilibria',\n",
    "                  mode = 'lines')\n",
    "trace_per = Scatter(x=df_PR['R_act'],\n",
    "                  y=df_PR['PAR(5)'],\n",
    "                  name='Periodic Orbit',\n",
    "                   mode='lines')\n",
    "trace_per_min = Scatter(x=df_PR['R_act'],\n",
    "                  y=df_PR['PAR(8)'],\n",
    "                  name='Periodic Orbit',\n",
    "                   mode='lines')\n",
    "data = [trace_eq,trace_per,trace_per_min]\n",
    "layout = Layout(title=\"Bifurcation diagram\",\n",
    "               xaxis=dict(title='Agonist'),\n",
    "               yaxis=dict(title='[Ca]'))\n",
    "fig = Figure(data=data, layout=layout)\n",
    "iplot(fig)"
   ]
  },
  {
   "cell_type": "code",
   "execution_count": null,
   "metadata": {},
   "outputs": [],
   "source": [
    "trace_HB1 = Scatter(x=df_HB2P['ct'],\n",
    "                  y=df_HB2P['R_act'],\n",
    "                  name='HB',\n",
    "                  mode = 'lines')\n",
    "trace_SN = Scatter(x=df_SN2P['ct'],\n",
    "                  y=df_SN2P['R_act'],\n",
    "                  name='SN',\n",
    "                  mode = 'lines')\n",
    "trace_SNP = Scatter(x=df_SNP2P['U(2)'],\n",
    "                  y=df_SNP2P['R_act'],\n",
    "                  name='SNP',\n",
    "                  mode = 'lines')\n",
    "data = [trace_HB1, trace_SN, trace_SNP]\n",
    "layout = Layout(title=\"Bifurcation diagram\",\n",
    "               xaxis=dict(title='ct'),\n",
    "               yaxis=dict(title='R_act'))\n",
    "fig = Figure(data=data, layout=layout)\n",
    "iplot(fig)"
   ]
  },
  {
   "cell_type": "code",
   "execution_count": null,
   "metadata": {
    "scrolled": false
   },
   "outputs": [],
   "source": [
    "df_eqs = []\n",
    "df_PRs = []\n",
    "initial = run(e='hepatocyte_npm',c='hepatocyte_npm.eq',DS='-',RL0 = 0.01, ICP =[2])\n",
    "for R_act in np.linspace(0.04,0.5,200):\n",
    "    first_eq = run(initial('EP2'),DS='-',RL0 = -10,RL1 = R_act, ICP =[1])\n",
    "    Eq = run(first_eq('EP1'),c='hepatocyte_npm.eq',ICP =  [2,1,3,5,6,7,8,9,10,80])\n",
    "    PO = []\n",
    "    hb_count = 0\n",
    "    for i in range(len(Eq())):\n",
    "        if Eq()[i]['TY'] == 'HB':\n",
    "            hb_count += 1\n",
    "            PO = PO + run(Eq('HB'+ str(hb_count)),c ='hepatocyte_npm.per',ICP =  [2,11,1,3,5,6,7,8,9,10,80],ILP = 0,ISP = 0)\n",
    "#     if Eq('HB2'):\n",
    "#         PO1 = run(Eq('HB1'),c ='hepatocyte_npm.per',ICP =  [2,11,1,3,5,6,7,8,9,10,80],ILP = 0,ISP = 0)\n",
    "#         PO1 = PO1 + run(Eq('HB2'),c ='hepatocyte_npm.per',ICP =  [2,11,1,3,5,6,7,8,9,10,80],ILP = 0,ISP = 0)\n",
    "#     elif Eq('HB1'):\n",
    "#         PO1 = run(Eq('HB1'),c ='hepatocyte_npm.per',ICP =  [2,11,1,3,5,6,7,8,9,10,80],ILP = 0,ISP = 0)\n",
    "    df_eqs.append(auto_to_csv(Eq,'Eq_R_act'+str(R_act),'EQ'))\n",
    "    df_PRs.append(auto_to_csv(PO,'PO_R_act'+str(R_act),'PR'))\n",
    "    "
   ]
  },
  {
   "cell_type": "code",
   "execution_count": null,
   "metadata": {},
   "outputs": [],
   "source": [
    "len(Eq())\n"
   ]
  },
  {
   "cell_type": "code",
   "execution_count": null,
   "metadata": {},
   "outputs": [],
   "source": [
    "trace_eq = Scatter(x=df_eqs[8]['ct'],\n",
    "                  y=df_eqs[8]['PAR(5)'],\n",
    "                  name='Equilibria',\n",
    "                  mode = 'lines')\n",
    "trace_per = Scatter(x=df_PRs[8]['ct'],\n",
    "                  y=df_PRs[8]['PAR(5)'],\n",
    "                  name='Periodic Orbit',\n",
    "                   mode='lines')\n",
    "trace_per_min = Scatter(x=df_PRs[8]['ct'],\n",
    "                  y=df_PRs[8]['PAR(8)'],\n",
    "                  name='Periodic Orbit',\n",
    "                   mode='lines')\n",
    "data = [trace_eq,trace_per,trace_per_min]\n",
    "layout = Layout(title=\"Bifurcation diagram\",\n",
    "               xaxis=dict(title='Agonist'),\n",
    "               yaxis=dict(title='[Ca]'))\n",
    "fig = Figure(data=data, layout=layout)\n",
    "iplot(fig)"
   ]
  },
  {
   "cell_type": "code",
   "execution_count": null,
   "metadata": {},
   "outputs": [],
   "source": [
    "df_per1[1:-1].to_csv('per1.csv')"
   ]
  },
  {
   "cell_type": "code",
   "execution_count": null,
   "metadata": {},
   "outputs": [],
   "source": [
    "df_per2[1:-1].to_csv('per2.csv')"
   ]
  },
  {
   "cell_type": "code",
   "execution_count": null,
   "metadata": {},
   "outputs": [],
   "source": [
    "df_per2[1:-1]"
   ]
  },
  {
   "cell_type": "code",
   "execution_count": null,
   "metadata": {},
   "outputs": [],
   "source": []
  }
 ],
 "metadata": {
  "anaconda-cloud": {},
  "kernelspec": {
   "display_name": "Python 2",
   "language": "python",
   "name": "python2"
  },
  "language_info": {
   "codemirror_mode": {
    "name": "ipython",
    "version": 2
   },
   "file_extension": ".py",
   "mimetype": "text/x-python",
   "name": "python",
   "nbconvert_exporter": "python",
   "pygments_lexer": "ipython2",
   "version": "2.7.14"
  }
 },
 "nbformat": 4,
 "nbformat_minor": 2
}
