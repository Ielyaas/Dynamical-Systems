{
 "cells": [
  {
   "cell_type": "code",
   "execution_count": 1,
   "metadata": {},
   "outputs": [],
   "source": [
    "import sys, os\n",
    "import numpy as np\n",
    "\n",
    "sys.path.insert(0, \"/Users/Shared/auto/07p/python\")\n",
    "from auto import *\n",
    "import scipy.optimize as op"
   ]
  },
  {
   "cell_type": "code",
   "execution_count": 2,
   "metadata": {},
   "outputs": [
    {
     "data": {
      "text/plain": [
       "array([0.0023753 , 0.00028758])"
      ]
     },
     "execution_count": 2,
     "metadata": {},
     "output_type": "execute_result"
    }
   ],
   "source": [
    "Kf=10; Kb=0.4; Kp=0.2; Kc=0.2; Kh=0.08; tauP=1;\n",
    "Vs=0.9; Kbar=1.957e-5; Ks=0.2;\n",
    "gamma=5.5; ct=0.1; h=0.001;\n",
    "Kplc=0.1; R_act=0.51;\n",
    "    \n",
    "def f(x):\n",
    "    \n",
    "    m = x[0]**4/(x[0]**4+Kc**4)\n",
    "    h_inf = Kh**4/(Kh**4+x[0]**4)\n",
    "    b = x[1]**2/(Kp**2+x[1]**2)\n",
    "    a = 1-b\n",
    "    beta = b*m*h\n",
    "    alpha = a*(1-m*h_inf)\n",
    "    Po = beta/(beta+Kb*(beta+alpha))\n",
    "    PLC = R_act*x[0]**2/(Kplc**2+x[0]**2)\n",
    "    ce = gamma*(ct-x[0])\n",
    "    Jserca = Vs*(x[0]**2-Kbar*ce**2)/(x[0]**2+Ks**2)\n",
    "    Jipr = Kf*Po*(ce-x[0])\n",
    "    \n",
    "    return np.array([Jipr-Jserca,tauP*(PLC-x[1])])\n",
    "\n",
    "sol = op.root(f,x0=np.array([6.07518337580197e-7,1.882351936069223e-10]))\n",
    "sol.x"
   ]
  },
  {
   "cell_type": "code",
   "execution_count": 3,
   "metadata": {},
   "outputs": [
    {
     "data": {
      "text/plain": [
       "    fjac: array([[-0.41212677,  0.91112652],\n",
       "       [-0.91112652, -0.41212677]])\n",
       "     fun: array([-1.14624820e-18,  2.71050543e-18])\n",
       " message: 'The solution converged.'\n",
       "    nfev: 26\n",
       "     qtf: array([ 4.00464563e-12, -3.40783127e-14])\n",
       "       r: array([ 0.26637965, -0.77496047,  0.4109331 ])\n",
       "  status: 1\n",
       " success: True\n",
       "       x: array([0.0023753 , 0.00028758])"
      ]
     },
     "execution_count": 3,
     "metadata": {},
     "output_type": "execute_result"
    }
   ],
   "source": [
    "sol"
   ]
  },
  {
   "cell_type": "code",
   "execution_count": 4,
   "metadata": {},
   "outputs": [
    {
     "data": {
      "text/plain": [
       "array([-1.14624820e-18,  2.71050543e-18])"
      ]
     },
     "execution_count": 4,
     "metadata": {},
     "output_type": "execute_result"
    }
   ],
   "source": [
    "f(sol.x)"
   ]
  },
  {
   "cell_type": "code",
   "execution_count": 5,
   "metadata": {},
   "outputs": [
    {
     "name": "stdout",
     "output_type": "stream",
     "text": [
      "2.7.14 |Anaconda custom (64-bit)| (default, Dec  7 2017, 11:07:58) \n",
      "[GCC 4.2.1 Compatible Clang 4.0.1 (tags/RELEASE_401/final)]\n"
     ]
    }
   ],
   "source": [
    "import sys\n",
    "print(sys.version)"
   ]
  },
  {
   "cell_type": "code",
   "execution_count": 6,
   "metadata": {},
   "outputs": [
    {
     "data": {
      "text/plain": [
       "<function AUTOCommands.cl>"
      ]
     },
     "execution_count": 6,
     "metadata": {},
     "output_type": "execute_result"
    }
   ],
   "source": [
    "cl"
   ]
  },
  {
   "cell_type": "code",
   "execution_count": 7,
   "metadata": {},
   "outputs": [
    {
     "name": "stdout",
     "output_type": "stream",
     "text": [
      "Starting hep_fixed_h ...\n",
      "\n",
      "  BR    PT  TY  LAB       ct         L2-NORM          h          PAR(5)        PAR(6)        PAR(7)        PAR(8)        PAR(80)    \n",
      "   1     1  EP    1   1.00000E-01   2.39265E-03   1.00000E-03   2.37530E-03   2.87580E-04   2.37530E-03   2.87580E-04   2.00000E+00\n",
      "   1    26  BP    2   1.69501E-09   7.69453E-12   1.00000E-03  -7.69453E-12  -4.18393E-20  -7.69453E-12  -4.18393E-20   2.00000E+00\n",
      "   1    27  EP    3  -9.99718E-03   2.37480E-04   1.00000E-03  -2.37463E-04   2.87580E-06  -2.37463E-04   2.87580E-06   1.00000E+00\n",
      "\n",
      "  BR    PT  TY  LAB       ct         L2-NORM          h          PAR(5)        PAR(6)        PAR(7)        PAR(8)        PAR(80)    \n",
      "   2     2  EP    4  -2.05427E-05   5.12285E-07   1.00000E-03   5.12285E-07   1.33843E-11   5.12285E-07   1.33843E-11   2.00000E+00\n",
      "\n",
      "  BR    PT  TY  LAB       ct         L2-NORM          h          PAR(5)        PAR(6)        PAR(7)        PAR(8)        PAR(80)    \n",
      "   2   200        5   1.75281E+00   9.29257E-02   1.00000E-03  -4.37631E-02   8.19755E-02  -4.37631E-02   8.19755E-02   1.00000E+00\n",
      "   2   326  EP    6   3.00738E+00   2.08549E-01   1.00000E-03  -7.81433E-02   1.93355E-01  -7.81433E-02   1.93355E-01   1.00000E+00\n",
      "\n",
      " Total Time    0.400E-01\n",
      "hep_fixed_h ... done\n"
     ]
    },
    {
     "name": "stderr",
     "output_type": "stream",
     "text": [
      "Note: The following floating-point exceptions are signalling: IEEE_UNDERFLOW_FLAG IEEE_DENORMAL\n"
     ]
    }
   ],
   "source": [
    "Eq = run(e='hep_fixed_h',c='hep_fixed_h.eq',DS='-')"
   ]
  },
  {
   "cell_type": "code",
   "execution_count": null,
   "metadata": {},
   "outputs": [],
   "source": [
    "import pandas as pd\n",
    "import matplotlib.pyplot as plt"
   ]
  },
  {
   "cell_type": "code",
   "execution_count": null,
   "metadata": {},
   "outputs": [],
   "source": [
    "def auto_to_csv(branch,name,solution_type):\n",
    "    \"\"\" The goal of this function is to save as a csv file the results of an AUTO continuation \n",
    "        and return a panda dataframe of the data\"\"\"\n",
    "    \"\"\" Input:\n",
    "        branch: an AUTO branch solution acquired using run(blablabla)\n",
    "        name: The name of the output csv file, must be a string\n",
    "        solution_type: 'EQ' for equilibrium, 'PR' for periodic orbit, 'HB' for Hopf two parameters continuation\n",
    "            'SNP' Saddle node of periodic orbits\n",
    "        \n",
    "        Output:\n",
    "        panda dataframe of the branch solution\"\"\"\n",
    "    \n",
    "    \n",
    "    \"\"\"Relabelling the branch solution \"\"\"\n",
    "    branch = rl(branch)\n",
    "    \"\"\"Saving the branch solution\"\"\"\n",
    "    sv(branch,name)\n",
    "    \n",
    "    \"\"\"Acquire the b. file\"\"\"\n",
    "    name_b = 'b.' + name\n",
    "    content = None\n",
    "    with open(name_b, 'r') as f:\n",
    "        content = f.readlines()\n",
    "\n",
    "    \"\"\"Read the file from the beginning of the interesting part (depends on its type)\"\"\"\n",
    "    if solution_type == 'EQ':\n",
    "        content_csv = [[el for el in content[14].split(' ') if len(el) > 0 and el != '\\n']]\n",
    "        \n",
    "    elif solution_type == 'PR':\n",
    "        content_csv = [[el for el in content[16].split(' ') if len(el) > 0 and el != '\\n']]\n",
    "        \n",
    "    elif solution_type == 'HB':\n",
    "        content_csv = [[el for el in content[17].split(' ') if len(el) > 0 and el != '\\n']]\n",
    "    \n",
    "    elif solution_type == 'SNP':\n",
    "        content_csv = [[el for el in content[18].split(' ') if len(el) > 0 and el != '\\n']]\n",
    "        \n",
    "    elif solution_type == 'SN':\n",
    "        content_csv = [[el for el in content[17].split(' ') if len(el) > 0 and el != '\\n']]\n",
    "    else:\n",
    "        print('Solution type not supported')\n",
    "        return;\n",
    "    \n",
    "        \n",
    "    \"\"\" Rename the branch\"\"\"\n",
    "    content_csv[0][0] = 'branch'\n",
    "    column_names = content_csv[0]\n",
    "    \n",
    "    \"\"\"Split and read the content\"\"\"\n",
    "    for line in content:\n",
    "        dummy = line.split(' ')\n",
    "        dummy = [el for el in dummy if len(el) > 0 and el != '\\n']\n",
    "        if dummy[0] == '0':\n",
    "            continue\n",
    "\n",
    "        for el_i, el in enumerate(dummy):\n",
    "            if el_i < 4:\n",
    "                dummy[el_i] = int(el)\n",
    "            else:\n",
    "                dummy[el_i] = float(el)\n",
    "\n",
    "        if len(dummy) > 1:\n",
    "            content_csv.append(dummy)\n",
    "        \n",
    "    # transform into panda data frame\n",
    "    print(column_names)\n",
    "    df = pd.DataFrame(content_csv, columns=column_names)\n",
    "    \n",
    "    # Export to csv\n",
    "    name_csv = name + '.csv'\n",
    "    df[1:-1].to_csv(name_csv)\n",
    "\n",
    "        \n",
    "    \n",
    "    \n",
    "    \n",
    "    return df[1:-1]"
   ]
  },
  {
   "cell_type": "code",
   "execution_count": null,
   "metadata": {},
   "outputs": [],
   "source": [
    "df_eq = auto_to_csv(Eq,'Eq','EQ')"
   ]
  },
  {
   "cell_type": "code",
   "execution_count": null,
   "metadata": {},
   "outputs": [],
   "source": [
    "import plotly.plotly as py\n",
    "from plotly.graph_objs import *\n",
    "from plotly.offline import iplot, init_notebook_mode\n",
    "init_notebook_mode(connected=True)"
   ]
  },
  {
   "cell_type": "code",
   "execution_count": null,
   "metadata": {},
   "outputs": [],
   "source": [
    "trace_eq = Scatter(x=df_eq['ct'],\n",
    "                  y=df_eq['PAR(5)'],\n",
    "                  name='Equilibria',\n",
    "                  mode = 'lines')\n",
    "data = [trace_eq]\n",
    "layout = Layout(title=\"Bifurcation diagram\",\n",
    "               xaxis=dict(title='[Ct]'),\n",
    "               yaxis=dict(title='[Ca]'))\n",
    "fig = Figure(data=data, layout=layout)\n",
    "iplot(fig)"
   ]
  },
  {
   "cell_type": "code",
   "execution_count": null,
   "metadata": {
    "scrolled": false
   },
   "outputs": [],
   "source": [
    "df_eqs = []\n",
    "\n",
    "for h in np.linspace(0.0031,0.41,500):\n",
    "    initial = run(e='hep_fixed_h',c='hep_fixed_h.eq',RL1 = h,ICP = [2])\n",
    "    Eq = run(initial('EP2'),c='hep_fixed_h.eq',ICP =  [1,2,5,6,7,8,80])\n",
    "   \n",
    "    df_eqs.append(auto_to_csv(Eq,'Eq_h'+str(h),'EQ'))\n",
    "    "
   ]
  },
  {
   "cell_type": "code",
   "execution_count": null,
   "metadata": {},
   "outputs": [],
   "source": []
  }
 ],
 "metadata": {
  "anaconda-cloud": {},
  "kernelspec": {
   "display_name": "Python 2",
   "language": "python",
   "name": "python2"
  },
  "language_info": {
   "codemirror_mode": {
    "name": "ipython",
    "version": 2
   },
   "file_extension": ".py",
   "mimetype": "text/x-python",
   "name": "python",
   "nbconvert_exporter": "python",
   "pygments_lexer": "ipython2",
   "version": "2.7.14"
  }
 },
 "nbformat": 4,
 "nbformat_minor": 2
}
