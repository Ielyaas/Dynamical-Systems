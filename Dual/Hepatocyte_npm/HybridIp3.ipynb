{
 "cells": [
  {
   "cell_type": "code",
   "execution_count": 2,
   "metadata": {},
   "outputs": [
    {
     "ename": "ImportError",
     "evalue": "No module named dill",
     "output_type": "error",
     "traceback": [
      "\u001b[0;31m---------------------------------------------------------------------------\u001b[0m",
      "\u001b[0;31mImportError\u001b[0m                               Traceback (most recent call last)",
      "\u001b[0;32m<ipython-input-2-77fa65b34bac>\u001b[0m in \u001b[0;36m<module>\u001b[0;34m()\u001b[0m\n\u001b[0;32m----> 1\u001b[0;31m \u001b[0;32mimport\u001b[0m \u001b[0msys\u001b[0m\u001b[0;34m,\u001b[0m \u001b[0mos\u001b[0m\u001b[0;34m,\u001b[0m \u001b[0mdill\u001b[0m\u001b[0;34m\u001b[0m\u001b[0m\n\u001b[0m\u001b[1;32m      2\u001b[0m \u001b[0;32mimport\u001b[0m \u001b[0mnumpy\u001b[0m \u001b[0;32mas\u001b[0m \u001b[0mnp\u001b[0m\u001b[0;34m\u001b[0m\u001b[0m\n\u001b[1;32m      3\u001b[0m \u001b[0;34m\u001b[0m\u001b[0m\n\u001b[1;32m      4\u001b[0m \u001b[0msys\u001b[0m\u001b[0;34m.\u001b[0m\u001b[0mpath\u001b[0m\u001b[0;34m.\u001b[0m\u001b[0minsert\u001b[0m\u001b[0;34m(\u001b[0m\u001b[0;36m0\u001b[0m\u001b[0;34m,\u001b[0m \u001b[0;34m\"/Users/Shared/auto/07p/python\"\u001b[0m\u001b[0;34m)\u001b[0m\u001b[0;34m\u001b[0m\u001b[0m\n\u001b[1;32m      5\u001b[0m \u001b[0;32mfrom\u001b[0m \u001b[0mauto\u001b[0m \u001b[0;32mimport\u001b[0m \u001b[0;34m*\u001b[0m\u001b[0;34m\u001b[0m\u001b[0m\n",
      "\u001b[0;31mImportError\u001b[0m: No module named dill"
     ]
    }
   ],
   "source": [
    "import sys, os, dill\n",
    "import numpy as np\n",
    "\n",
    "sys.path.insert(0, \"/Users/Shared/auto/07p/python\")\n",
    "from auto import *\n"
   ]
  },
  {
   "cell_type": "code",
   "execution_count": null,
   "metadata": {},
   "outputs": [],
   "source": []
  },
  {
   "cell_type": "code",
   "execution_count": 4,
   "metadata": {},
   "outputs": [
    {
     "ename": "NameError",
     "evalue": "name 'cl' is not defined",
     "output_type": "error",
     "traceback": [
      "\u001b[0;31m---------------------------------------------------------------------------\u001b[0m",
      "\u001b[0;31mNameError\u001b[0m                                 Traceback (most recent call last)",
      "\u001b[0;32m<ipython-input-4-1820d262fb26>\u001b[0m in \u001b[0;36m<module>\u001b[0;34m()\u001b[0m\n\u001b[0;32m----> 1\u001b[0;31m \u001b[0mcl\u001b[0m\u001b[0;34m\u001b[0m\u001b[0m\n\u001b[0m",
      "\u001b[0;31mNameError\u001b[0m: name 'cl' is not defined"
     ]
    }
   ],
   "source": [
    "cl"
   ]
  },
  {
   "cell_type": "code",
   "execution_count": 6,
   "metadata": {},
   "outputs": [
    {
     "name": "stdout",
     "output_type": "stream",
     "text": [
      "2.7.14 |Anaconda, Inc.| (default, Dec  7 2017, 11:07:58) \n",
      "[GCC 4.2.1 Compatible Clang 4.0.1 (tags/RELEASE_401/final)]\n"
     ]
    }
   ],
   "source": [
    "import sys\n",
    "print(sys.version)"
   ]
  },
  {
   "cell_type": "code",
   "execution_count": 7,
   "metadata": {},
   "outputs": [
    {
     "ename": "NameError",
     "evalue": "name 'run' is not defined",
     "output_type": "error",
     "traceback": [
      "\u001b[0;31m---------------------------------------------------------------------------\u001b[0m",
      "\u001b[0;31mNameError\u001b[0m                                 Traceback (most recent call last)",
      "\u001b[0;32m<ipython-input-7-2947b7074409>\u001b[0m in \u001b[0;36m<module>\u001b[0;34m()\u001b[0m\n\u001b[0;32m----> 1\u001b[0;31m \u001b[0meq\u001b[0m \u001b[0;34m=\u001b[0m \u001b[0mrun\u001b[0m\u001b[0;34m(\u001b[0m\u001b[0me\u001b[0m\u001b[0;34m=\u001b[0m\u001b[0;34m'hybrid'\u001b[0m\u001b[0;34m,\u001b[0m\u001b[0mc\u001b[0m\u001b[0;34m=\u001b[0m\u001b[0;34m'hybrid.eq'\u001b[0m\u001b[0;34m)\u001b[0m\u001b[0;34m\u001b[0m\u001b[0m\n\u001b[0m",
      "\u001b[0;31mNameError\u001b[0m: name 'run' is not defined"
     ]
    }
   ],
   "source": [
    "eq = run(e='hybrid',c='hybrid.eq')"
   ]
  },
  {
   "cell_type": "code",
   "execution_count": null,
   "metadata": {},
   "outputs": [],
   "source": [
    "per1 = run(eq('HB1'),c ='hybrid.per',ILP = 0)"
   ]
  },
  {
   "cell_type": "code",
   "execution_count": null,
   "metadata": {},
   "outputs": [],
   "source": [
    "per2 = run(eq('HB2'),c ='hybrid.per')"
   ]
  },
  {
   "cell_type": "code",
   "execution_count": null,
   "metadata": {},
   "outputs": [],
   "source": [
    "HBD1 =  run(eq('HB1'),ICP =  [1,2,11,5,6,7,8,9,10,80],ISW = 2,NMX=  100000)\n"
   ]
  },
  {
   "cell_type": "code",
   "execution_count": null,
   "metadata": {},
   "outputs": [],
   "source": [
    "import pandas as pd\n",
    "import matplotlib.pyplot as plt"
   ]
  },
  {
   "cell_type": "code",
   "execution_count": null,
   "metadata": {},
   "outputs": [],
   "source": [
    "eq = rl(eq)\n",
    "sv(eq,'eq')\n",
    "\n",
    "per1 = rl(per1)\n",
    "sv(per1,'per1')\n",
    "\n",
    "per2 = rl(per2)\n",
    "sv(per2,'per2')\n",
    "\n",
    "# HB1 = rl(HBD1)\n",
    "# sv(HBD1,'HBD1')"
   ]
  },
  {
   "cell_type": "code",
   "execution_count": null,
   "metadata": {},
   "outputs": [],
   "source": [
    "content_eq = None\n",
    "with open('b.eq', 'r') as f:\n",
    "    content_eq = f.readlines()\n",
    "    \n",
    "content_per1 = None\n",
    "with open('b.per1', 'r') as f:\n",
    "    content_per1 = f.readlines()\n",
    "    \n",
    "content_per2 = None\n",
    "with open('b.per2', 'r') as f:\n",
    "    content_per2 = f.readlines()"
   ]
  },
  {
   "cell_type": "code",
   "execution_count": null,
   "metadata": {},
   "outputs": [],
   "source": [
    "content_eq_csv = [[el for el in content_eq[13].split(' ') if len(el) > 0 and el != '\\n']]\n",
    "content_eq_csv[0][0] = 'branch'\n",
    "column_eq_names = content_eq_csv[0]\n",
    "\n",
    "content_per1_csv = [[el for el in content_per1[15].split(' ') if len(el) > 0 and el != '\\n']]\n",
    "content_per1_csv[0][0] = 'branch'\n",
    "column_per1_names = content_per1_csv[0]\n",
    "\n",
    "\n",
    "content_per2_csv = [[el for el in content_per2[15].split(' ') if len(el) > 0 and el != '\\n']]\n",
    "content_per2_csv[0][0] = 'branch'\n",
    "column_per2_names = content_per2_csv[0]"
   ]
  },
  {
   "cell_type": "code",
   "execution_count": null,
   "metadata": {},
   "outputs": [],
   "source": [
    "content_eq_csv"
   ]
  },
  {
   "cell_type": "code",
   "execution_count": null,
   "metadata": {},
   "outputs": [],
   "source": [
    "content_per1_csv"
   ]
  },
  {
   "cell_type": "code",
   "execution_count": null,
   "metadata": {},
   "outputs": [],
   "source": [
    "column_eq_names[4] = 'VPLC'\n",
    "column_eq_names[6] = 'MaxC'\n",
    "column_eq_names[7] = 'MaxIP'\n",
    "column_eq_names[8] = 'MaxH'\n",
    "column_eq_names[9] = 'MinC'\n",
    "column_eq_names[10] = 'MinIP'\n",
    "column_eq_names[11] = 'MinH'\n",
    "column_eq_names[12] = 'STAB'\n",
    "column_eq_names"
   ]
  },
  {
   "cell_type": "code",
   "execution_count": null,
   "metadata": {},
   "outputs": [],
   "source": [
    "column_per1_names[4] = 'VPLC'\n",
    "column_per1_names[7] = 'MaxC'\n",
    "column_per1_names[8] = 'MaxIP'\n",
    "column_per1_names[9] = 'MaxH'\n",
    "column_per1_names[10] = 'MinC'\n",
    "column_per1_names[11] = 'MinIP'\n",
    "column_per1_names[12] = 'MinH'\n",
    "column_per1_names[13] = 'STAB'\n",
    "column_per1_names"
   ]
  },
  {
   "cell_type": "code",
   "execution_count": null,
   "metadata": {},
   "outputs": [],
   "source": [
    "column_per2_names[4] = 'VPLC'\n",
    "column_per2_names[7] = 'MaxC'\n",
    "column_per2_names[8] = 'MaxIP'\n",
    "column_per2_names[9] = 'MaxH'\n",
    "column_per2_names[10] = 'MinC'\n",
    "column_per2_names[11] = 'MinIP'\n",
    "column_per2_names[12] = 'MinH'\n",
    "column_per2_names[13] = 'STAB'"
   ]
  },
  {
   "cell_type": "code",
   "execution_count": null,
   "metadata": {},
   "outputs": [],
   "source": [
    "for line in content_eq:\n",
    "    dummy = line.split(' ')\n",
    "    dummy = [el for el in dummy if len(el) > 0 and el != '\\n']\n",
    "    if dummy[0] == '0':\n",
    "        continue\n",
    "        \n",
    "    for el_i, el in enumerate(dummy):\n",
    "        if el_i < 4:\n",
    "            dummy[el_i] = int(el)\n",
    "        else:\n",
    "            dummy[el_i] = float(el)\n",
    "            \n",
    "    if len(dummy) > 1:\n",
    "        content_eq_csv.append(dummy)\n",
    "        \n",
    "for line in content_per1:\n",
    "    dummy = line.split(' ')\n",
    "    dummy = [el for el in dummy if len(el) > 0 and el != '\\n']\n",
    "    if dummy[0] == '0':\n",
    "        continue\n",
    "        \n",
    "    for el_i, el in enumerate(dummy):\n",
    "        if el_i < 4:\n",
    "            dummy[el_i] = int(el)\n",
    "        else:\n",
    "            dummy[el_i] = float(el)\n",
    "            \n",
    "    if len(dummy) > 1:\n",
    "        content_per1_csv.append(dummy)\n",
    "        \n",
    "for line in content_per2:\n",
    "    dummy = line.split(' ')\n",
    "    dummy = [el for el in dummy if len(el) > 0 and el != '\\n']\n",
    "    if dummy[0] == '0':\n",
    "        continue\n",
    "        \n",
    "    for el_i, el in enumerate(dummy):\n",
    "        if el_i < 4:\n",
    "            dummy[el_i] = int(el)\n",
    "        else:\n",
    "            dummy[el_i] = float(el)\n",
    "            \n",
    "    if len(dummy) > 1:\n",
    "        content_per2_csv.append(dummy)"
   ]
  },
  {
   "cell_type": "code",
   "execution_count": null,
   "metadata": {},
   "outputs": [],
   "source": [
    "df_eq = pd.DataFrame(content_eq_csv, columns=column_eq_names)\n",
    "df_per1 = pd.DataFrame(content_per1_csv, columns=column_per1_names)\n",
    "df_per2 = pd.DataFrame(content_per2_csv, columns=column_per2_names)"
   ]
  },
  {
   "cell_type": "code",
   "execution_count": null,
   "metadata": {},
   "outputs": [],
   "source": [
    "df_eq[1:-1].to_csv('eq.csv')"
   ]
  },
  {
   "cell_type": "code",
   "execution_count": null,
   "metadata": {},
   "outputs": [],
   "source": [
    "df_per1[1:-1].to_csv('per1.csv')"
   ]
  },
  {
   "cell_type": "code",
   "execution_count": null,
   "metadata": {},
   "outputs": [],
   "source": [
    "df_per2[1:-1].to_csv('per2.csv')"
   ]
  },
  {
   "cell_type": "code",
   "execution_count": null,
   "metadata": {},
   "outputs": [],
   "source": [
    "df_per2[1:-1]"
   ]
  },
  {
   "cell_type": "code",
   "execution_count": null,
   "metadata": {},
   "outputs": [],
   "source": []
  }
 ],
 "metadata": {
  "anaconda-cloud": {},
  "kernelspec": {
   "display_name": "Python 2",
   "language": "python",
   "name": "python2"
  },
  "language_info": {
   "codemirror_mode": {
    "name": "ipython",
    "version": 2
   },
   "file_extension": ".py",
   "mimetype": "text/x-python",
   "name": "python",
   "nbconvert_exporter": "python",
   "pygments_lexer": "ipython2",
   "version": "2.7.14"
  }
 },
 "nbformat": 4,
 "nbformat_minor": 2
}
