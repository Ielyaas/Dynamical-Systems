{
 "cells": [
  {
   "cell_type": "code",
   "execution_count": 1,
   "metadata": {},
   "outputs": [],
   "source": [
    "import sys, os\n",
    "import numpy as np\n",
    "\n",
    "sys.path.insert(0, \"/Users/Shared/auto/07p/python\")\n",
    "from auto import *\n"
   ]
  },
  {
   "cell_type": "code",
   "execution_count": null,
   "metadata": {},
   "outputs": [],
   "source": []
  },
  {
   "cell_type": "code",
   "execution_count": null,
   "metadata": {
    "scrolled": true
   },
   "outputs": [],
   "source": [
    "cl"
   ]
  },
  {
   "cell_type": "code",
   "execution_count": null,
   "metadata": {},
   "outputs": [],
   "source": [
    "import sys\n",
    "print(sys.version)"
   ]
  },
  {
   "cell_type": "code",
   "execution_count": null,
   "metadata": {},
   "outputs": [],
   "source": [
    "Eq = run(e='hepatocyte_npm',c='hepatocyte_npm.eq',DS=0.0001)"
   ]
  },
  {
   "cell_type": "code",
   "execution_count": null,
   "metadata": {},
   "outputs": [],
   "source": []
  },
  {
   "cell_type": "code",
   "execution_count": null,
   "metadata": {},
   "outputs": [],
   "source": [
    "PO1 = run(Eq('HB2'),c ='hepatocyte_npm.per')"
   ]
  },
  {
   "cell_type": "code",
   "execution_count": null,
   "metadata": {},
   "outputs": [],
   "source": [
    "PO2 = run(Eq('HB1'),c ='hepatocyte_npm.per')"
   ]
  },
  {
   "cell_type": "code",
   "execution_count": null,
   "metadata": {},
   "outputs": [],
   "source": [
    "HB2P_1 = run(Eq('HB2'), ISW=2, ICP=[1,2,11], ILP=0, DS=0.01, EPSL= 1e-06, EPSU = 1e-06, EPSS = 1e-03,NMX=100000)\n",
    "HB2P_2 = run(Eq('HB2'), ISW=2, ICP=[1,2,11], ILP=0, DS='-',NMX=100000)\n",
    "HB2P = HB2P_1 + HB2P_2"
   ]
  },
  {
   "cell_type": "code",
   "execution_count": null,
   "metadata": {},
   "outputs": [],
   "source": [
    "SN2P_1 = run(Eq('LP'), IRS=5, ISW=2, ICP=[1,2],ILP=0, DS=0.01, EPSL= 1e-06, EPSU = 1e-06, EPSS = 1e-03)\n",
    "SN2P_2 = run(Eq('LP'), IRS=5, ISW=2, ICP=[1,2], DS='-', ILP=0)\n",
    "SN2P = SN2P_1 + SN2P_2"
   ]
  },
  {
   "cell_type": "code",
   "execution_count": null,
   "metadata": {},
   "outputs": [],
   "source": [
    "SNP = run(PO1('LP') ,IRS=17, ISW=2, ICP=[1,2,11], ILP=0, DS=0.01, EPSL= 1e-06, EPSU = 1e-06, EPSS = 1e-03) "
   ]
  },
  {
   "cell_type": "code",
   "execution_count": null,
   "metadata": {
    "scrolled": true
   },
   "outputs": [],
   "source": [
    "SNP2P_1 = run(SNP('EP'), ISW=2, ICP=[1,2,11], ILP=0, DSMAX = 1, DS = 0.1, EPSL = 1e-06, EPSU = 1e-06, EPSS = 1e-04)\n",
    "SNP2P_2 = run(SNP('EP'), ISW=2, ICP=[1,2,11], ILP=0, DSMAX = 1, DS = -0.1, EPSL= 1e-05, EPSU = 1e-05, EPSS = 1e-02)\n",
    "SNP2P = SNP2P_1 + SNP2P_2"
   ]
  },
  {
   "cell_type": "code",
   "execution_count": null,
   "metadata": {},
   "outputs": [],
   "source": [
    "import pandas as pd\n",
    "import matplotlib.pyplot as plt"
   ]
  },
  {
   "cell_type": "code",
   "execution_count": null,
   "metadata": {},
   "outputs": [],
   "source": [
    "def auto_to_csv(branch,name,solution_type):\n",
    "    \"\"\" The goal of this function is to save as a csv file the results of an AUTO continuation \n",
    "        and return a panda dataframe of the data\"\"\"\n",
    "    \"\"\" Input:\n",
    "        branch: an AUTO branch solution acquired using run(blablabla)\n",
    "        name: The name of the output csv file, must be a string\n",
    "        solution_type: 'EQ' for equilibrium, 'PR' for periodic orbit, 'HB' for Hopf two parameters continuation\n",
    "            'SNP' Saddle node of periodic orbits\n",
    "        \n",
    "        Output:\n",
    "        panda dataframe of the branch solution\"\"\"\n",
    "    \n",
    "    \n",
    "    \"\"\"Relabelling the branch solution \"\"\"\n",
    "    branch = rl(branch)\n",
    "    \"\"\"Saving the branch solution\"\"\"\n",
    "    sv(branch,name)\n",
    "    \n",
    "    \"\"\"Acquire the b. file\"\"\"\n",
    "    name_b = 'b.' + name\n",
    "    content = None\n",
    "    with open(name_b, 'r') as f:\n",
    "        content = f.readlines()\n",
    "\n",
    "    \"\"\"Read the file from the beginning of the interesting part (depends on its type)\"\"\"\n",
    "    if solution_type == 'EQ':\n",
    "        content_csv = [[el for el in content[14].split(' ') if len(el) > 0 and el != '\\n']]\n",
    "        \n",
    "    elif solution_type == 'PR':\n",
    "        content_csv = [[el for el in content[16].split(' ') if len(el) > 0 and el != '\\n']]\n",
    "        \n",
    "    elif solution_type == 'HB':\n",
    "        content_csv = [[el for el in content[17].split(' ') if len(el) > 0 and el != '\\n']]\n",
    "    \n",
    "    elif solution_type == 'SNP':\n",
    "        content_csv = [[el for el in content[18].split(' ') if len(el) > 0 and el != '\\n']]\n",
    "        \n",
    "    elif solution_type == 'SN':\n",
    "        content_csv = [[el for el in content[17].split(' ') if len(el) > 0 and el != '\\n']]\n",
    "    else:\n",
    "        print('Solution type not supported')\n",
    "        return;\n",
    "    \n",
    "        \n",
    "    \"\"\" Rename the branch\"\"\"\n",
    "    content_csv[0][0] = 'branch'\n",
    "    column_names = content_csv[0]\n",
    "    \n",
    "    \"\"\"Split and read the content\"\"\"\n",
    "    for line in content:\n",
    "        dummy = line.split(' ')\n",
    "        dummy = [el for el in dummy if len(el) > 0 and el != '\\n']\n",
    "        if dummy[0] == '0':\n",
    "            continue\n",
    "\n",
    "        for el_i, el in enumerate(dummy):\n",
    "            if el_i < 4:\n",
    "                dummy[el_i] = int(el)\n",
    "            else:\n",
    "                dummy[el_i] = float(el)\n",
    "\n",
    "        if len(dummy) > 1:\n",
    "            content_csv.append(dummy)\n",
    "        \n",
    "    # transform into panda data frame\n",
    "    print(column_names)\n",
    "    df = pd.DataFrame(content_csv, columns=column_names)\n",
    "    \n",
    "    # Export to csv\n",
    "    name_csv = name + '.csv'\n",
    "    df[1:-1].to_csv(name_csv)\n",
    "\n",
    "        \n",
    "    \n",
    "    \n",
    "    \n",
    "    return df[1:-1]"
   ]
  },
  {
   "cell_type": "code",
   "execution_count": null,
   "metadata": {},
   "outputs": [],
   "source": [
    "df_eq = auto_to_csv(Eq,'Eq','EQ')"
   ]
  },
  {
   "cell_type": "code",
   "execution_count": null,
   "metadata": {},
   "outputs": [],
   "source": [
    "df_PR = auto_to_csv(PO1,'PO1','PR')"
   ]
  },
  {
   "cell_type": "code",
   "execution_count": null,
   "metadata": {},
   "outputs": [],
   "source": [
    "df_HB2P = auto_to_csv(HB2P,'HB2P','HB')"
   ]
  },
  {
   "cell_type": "code",
   "execution_count": null,
   "metadata": {},
   "outputs": [],
   "source": [
    "df_SN2P = auto_to_csv(SN2P,'SN2P','SN')"
   ]
  },
  {
   "cell_type": "code",
   "execution_count": null,
   "metadata": {},
   "outputs": [],
   "source": [
    "df_SNP2P = auto_to_csv(SNP2P,'SNP2P','SNP')"
   ]
  },
  {
   "cell_type": "code",
   "execution_count": null,
   "metadata": {},
   "outputs": [],
   "source": [
    "import plotly.plotly as py\n",
    "from plotly.graph_objs import *\n",
    "from plotly.offline import iplot, init_notebook_mode\n",
    "init_notebook_mode(connected=True)"
   ]
  },
  {
   "cell_type": "code",
   "execution_count": null,
   "metadata": {},
   "outputs": [],
   "source": [
    "trace_eq = Scatter(x=df_eq['R_act'],\n",
    "                  y=df_eq['PAR(5)'],\n",
    "                  name='Equilibria',\n",
    "                  mode = 'lines')\n",
    "trace_per = Scatter(x=df_PR['R_act'],\n",
    "                  y=df_PR['PAR(5)'],\n",
    "                  name='Periodic Orbit',\n",
    "                   mode='lines')\n",
    "trace_per_min = Scatter(x=df_PR['R_act'],\n",
    "                  y=df_PR['PAR(8)'],\n",
    "                  name='Periodic Orbit',\n",
    "                   mode='lines')\n",
    "data = [trace_eq,trace_per,trace_per_min]\n",
    "layout = Layout(title=\"Bifurcation diagram\",\n",
    "               xaxis=dict(title='Agonist'),\n",
    "               yaxis=dict(title='[Ca]'))\n",
    "fig = Figure(data=data, layout=layout)\n",
    "iplot(fig)"
   ]
  },
  {
   "cell_type": "code",
   "execution_count": null,
   "metadata": {},
   "outputs": [],
   "source": [
    "trace_HB1 = Scatter(x=df_HB2P['ct'],\n",
    "                  y=df_HB2P['R_act'],\n",
    "                  name='HB',\n",
    "                  mode = 'lines')\n",
    "trace_SN = Scatter(x=df_SN2P['ct'],\n",
    "                  y=df_SN2P['R_act'],\n",
    "                  name='SN',\n",
    "                  mode = 'lines')\n",
    "trace_SNP = Scatter(x=df_SNP2P['U(2)'],\n",
    "                  y=df_SNP2P['R_act'],\n",
    "                  name='SNP',\n",
    "                  mode = 'lines')\n",
    "data = [trace_HB1, trace_SN, trace_SNP]\n",
    "layout = Layout(title=\"Bifurcation diagram\",\n",
    "               xaxis=dict(title='ct'),\n",
    "               yaxis=dict(title='R_act'))\n",
    "fig = Figure(data=data, layout=layout)\n",
    "iplot(fig)"
   ]
  },
  {
   "cell_type": "code",
   "execution_count": null,
   "metadata": {
    "scrolled": false
   },
   "outputs": [],
   "source": [
    "df_eqs = []\n",
    "df_PRs = []\n",
    "initial = run(e='hepatocyte_npm',c='hepatocyte_npm.eq',DS='-',RL0 = 0.01, ICP =[2])\n",
    "for R_act in np.linspace(0.04,0.5,200):\n",
    "    first_eq = run(initial('EP2'),DS='-',RL0 = -10,RL1 = R_act, ICP =[1])\n",
    "    Eq = run(first_eq('EP1'),c='hepatocyte_npm.eq',ICP =  [2,1,3,5,6,7,8,9,10,80])\n",
    "    PO = []\n",
    "    hb_count = 0\n",
    "    for i in range(len(Eq())):\n",
    "        if Eq()[i]['TY'] == 'HB':\n",
    "            hb_count += 1\n",
    "            PO = PO + run(Eq('HB'+ str(hb_count)),c ='hepatocyte_npm.per',ICP =  [2,11,1,3,5,6,7,8,9,10,80],ILP = 0,ISP = 0)\n",
    "#     if Eq('HB2'):\n",
    "#         PO1 = run(Eq('HB1'),c ='hepatocyte_npm.per',ICP =  [2,11,1,3,5,6,7,8,9,10,80],ILP = 0,ISP = 0)\n",
    "#         PO1 = PO1 + run(Eq('HB2'),c ='hepatocyte_npm.per',ICP =  [2,11,1,3,5,6,7,8,9,10,80],ILP = 0,ISP = 0)\n",
    "#     elif Eq('HB1'):\n",
    "#         PO1 = run(Eq('HB1'),c ='hepatocyte_npm.per',ICP =  [2,11,1,3,5,6,7,8,9,10,80],ILP = 0,ISP = 0)\n",
    "    df_eqs.append(auto_to_csv(Eq,'Eq_R_act'+str(R_act),'EQ'))\n",
    "    df_PRs.append(auto_to_csv(PO,'PO_R_act'+str(R_act),'PR'))\n",
    "    "
   ]
  },
  {
   "cell_type": "code",
   "execution_count": null,
   "metadata": {},
   "outputs": [],
   "source": [
    "len(Eq())\n"
   ]
  },
  {
   "cell_type": "code",
   "execution_count": null,
   "metadata": {},
   "outputs": [],
   "source": [
    "trace_eq = Scatter(x=df_eqs[8]['ct'],\n",
    "                  y=df_eqs[8]['PAR(5)'],\n",
    "                  name='Equilibria',\n",
    "                  mode = 'lines')\n",
    "trace_per = Scatter(x=df_PRs[8]['ct'],\n",
    "                  y=df_PRs[8]['PAR(5)'],\n",
    "                  name='Periodic Orbit',\n",
    "                   mode='lines')\n",
    "trace_per_min = Scatter(x=df_PRs[8]['ct'],\n",
    "                  y=df_PRs[8]['PAR(8)'],\n",
    "                  name='Periodic Orbit',\n",
    "                   mode='lines')\n",
    "data = [trace_eq,trace_per,trace_per_min]\n",
    "layout = Layout(title=\"Bifurcation diagram\",\n",
    "               xaxis=dict(title='Agonist'),\n",
    "               yaxis=dict(title='[Ca]'))\n",
    "fig = Figure(data=data, layout=layout)\n",
    "iplot(fig)"
   ]
  },
  {
   "cell_type": "code",
   "execution_count": null,
   "metadata": {},
   "outputs": [],
   "source": [
    "df_per1[1:-1].to_csv('per1.csv')"
   ]
  },
  {
   "cell_type": "code",
   "execution_count": null,
   "metadata": {},
   "outputs": [],
   "source": [
    "df_per2[1:-1].to_csv('per2.csv')"
   ]
  },
  {
   "cell_type": "code",
   "execution_count": null,
   "metadata": {},
   "outputs": [],
   "source": [
    "df_per2[1:-1]"
   ]
  },
  {
   "cell_type": "code",
   "execution_count": null,
   "metadata": {},
   "outputs": [],
   "source": []
  }
 ],
 "metadata": {
  "anaconda-cloud": {},
  "kernelspec": {
   "display_name": "Python 2",
   "language": "python",
   "name": "python2"
  },
  "language_info": {
   "codemirror_mode": {
    "name": "ipython",
    "version": 2
   },
   "file_extension": ".py",
   "mimetype": "text/x-python",
   "name": "python",
   "nbconvert_exporter": "python",
   "pygments_lexer": "ipython2",
   "version": "2.7.14"
  }
 },
 "nbformat": 4,
 "nbformat_minor": 2
}
