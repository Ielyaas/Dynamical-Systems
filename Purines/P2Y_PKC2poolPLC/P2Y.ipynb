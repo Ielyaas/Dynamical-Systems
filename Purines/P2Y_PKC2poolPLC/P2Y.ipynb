{
 "cells": [
  {
   "cell_type": "code",
   "execution_count": 1,
   "metadata": {},
   "outputs": [],
   "source": [
    "import sys, os\n",
    "import numpy as np\n",
    "\n",
    "sys.path.insert(0, \"/Users/Shared/auto/07p/python\")\n",
    "# sys.path.insert(0, \"/Users/ielyaascloete/auto/07p/python\")\n",
    "from auto import *\n"
   ]
  },
  {
   "cell_type": "code",
   "execution_count": null,
   "metadata": {},
   "outputs": [],
   "source": []
  },
  {
   "cell_type": "code",
   "execution_count": 2,
   "metadata": {
    "scrolled": true
   },
   "outputs": [
    {
     "data": {
      "text/plain": [
       "<function AUTOCommands.cl>"
      ]
     },
     "execution_count": 2,
     "metadata": {},
     "output_type": "execute_result"
    }
   ],
   "source": [
    "cl"
   ]
  },
  {
   "cell_type": "code",
   "execution_count": 3,
   "metadata": {},
   "outputs": [
    {
     "name": "stdout",
     "output_type": "stream",
     "text": [
      "2.7.14 |Anaconda custom (64-bit)| (default, Dec  7 2017, 11:07:58) \n",
      "[GCC 4.2.1 Compatible Clang 4.0.1 (tags/RELEASE_401/final)]\n"
     ]
    }
   ],
   "source": [
    "import sys\n",
    "print(sys.version)"
   ]
  },
  {
   "cell_type": "code",
   "execution_count": 4,
   "metadata": {},
   "outputs": [
    {
     "name": "stdout",
     "output_type": "stream",
     "text": [
      "gfortran -fopenmp -O -c P2Y.f90 -o P2Y.o\n",
      "gfortran -fopenmp -O P2Y.o -o P2Y.exe /Users/Shared/auto/07p/lib/*.o\n",
      "Starting P2Y ...\n",
      "\n",
      "  BR    PT  TY  LAB     V_plc        L2-NORM        V_pkc         switch        delta         K_tau        tau_max       lambda3    \n",
      "   1     1  EP    1   1.00000E-10   4.05086E+00   1.00000E-01   1.00000E+00   2.50000E+00   2.00000E-01   2.00000E+03   1.00000E-01\n",
      "   1   140  HB    2   6.90493E-04   3.33109E+00   1.00000E-01   1.00000E+00   2.50000E+00   2.00000E-01   2.00000E+03   1.00000E-01\n",
      "   1   292  HB    3   2.27610E-03   1.83718E+00   1.00000E-01   1.00000E+00   2.50000E+00   2.00000E-01   2.00000E+03   1.00000E-01\n",
      "   1   441  HB    4   1.92436E-02   4.84502E-01   1.00000E-01   1.00000E+00   2.50000E+00   2.00000E-01   2.00000E+03   1.00000E-01\n",
      "   1   572  EP    5   1.00202E+00   8.24578E-01   1.00000E-01   1.00000E+00   2.50000E+00   2.00000E-01   2.00000E+03   1.00000E-01\n",
      "\n",
      " Total Time    0.105E+00\n",
      "P2Y ... done\n"
     ]
    },
    {
     "name": "stderr",
     "output_type": "stream",
     "text": [
      "Note: The following floating-point exceptions are signalling: IEEE_UNDERFLOW_FLAG IEEE_DENORMAL\n"
     ]
    }
   ],
   "source": [
    "Eq = run(e='P2Y',c='P2Y.eq')"
   ]
  },
  {
   "cell_type": "code",
   "execution_count": null,
   "metadata": {},
   "outputs": [],
   "source": []
  },
  {
   "cell_type": "code",
   "execution_count": 5,
   "metadata": {
    "scrolled": true
   },
   "outputs": [
    {
     "name": "stdout",
     "output_type": "stream",
     "text": [
      "Starting P2Y ...\n",
      "\n",
      "  BR    PT  TY  LAB     V_plc        L2-NORM         U(1)          U(2)          U(3)          U(4)          U(5)        lambda3    \n",
      "   2    15  UZ    6   7.48186E-04   3.33159E+00   9.23022E-01   9.39272E-02   3.14997E+00   5.62325E-01   1.28384E-02   7.85736E-08\n",
      "\n",
      " Total Time    0.381E-02\n",
      "P2Y ... done\n"
     ]
    },
    {
     "name": "stderr",
     "output_type": "stream",
     "text": [
      "Note: The following floating-point exceptions are signalling: IEEE_UNDERFLOW_FLAG IEEE_DENORMAL\n"
     ]
    }
   ],
   "source": [
    "Hom_l3_H10 = run(Eq('HB1'),c ='P2Y.eq',ISW=2,ICP=[1,7],DS=1e-3,UZSTOP={7:[0,2]},SP=['BP0','LP0'])"
   ]
  },
  {
   "cell_type": "code",
   "execution_count": 6,
   "metadata": {},
   "outputs": [
    {
     "name": "stdout",
     "output_type": "stream",
     "text": [
      "Starting P2Y ...\n",
      "\n",
      "  BR    PT  TY  LAB     V_plc        L2-NORM         U(1)          U(2)          U(3)          U(4)          U(5)        lambda3    \n",
      "   2    30  GH    6   5.50253E-04   3.32937E+00   9.22770E-01   9.39799E-02   3.14780E+00   5.61773E-01   1.28560E-02   3.42520E-01\n",
      "   2    58  ZH    7   3.93651E-04   3.32629E+00   9.22418E-01   9.40533E-02   3.14478E+00   5.61003E-01   1.28805E-02   6.11370E-01\n",
      "   2   126  EP    8  -5.31494E-06   3.31565E+00   9.21195E-01   9.43081E-02   3.13435E+00   5.58336E-01   1.29644E-02   1.27768E+00\n",
      "\n",
      " Total Time    0.326E-01\n",
      "P2Y ... done\n"
     ]
    },
    {
     "name": "stderr",
     "output_type": "stream",
     "text": [
      "Note: The following floating-point exceptions are signalling: IEEE_UNDERFLOW_FLAG IEEE_DENORMAL\n"
     ]
    }
   ],
   "source": [
    "Hom_l3_H11 = run(Eq('HB1'),c ='P2Y.eq',ISW=2,ICP=[1,7],DS=-1e-3)"
   ]
  },
  {
   "cell_type": "code",
   "execution_count": 7,
   "metadata": {},
   "outputs": [
    {
     "name": "stdout",
     "output_type": "stream",
     "text": [
      "Starting P2Y ...\n",
      "\n",
      "  BR    PT  TY  LAB     V_plc        L2-NORM         U(1)          U(2)          U(3)          U(4)          U(5)        lambda3    \n",
      "   3    14  UZ    6   2.84906E-03   1.83716E+00   6.35363E-01   1.34683E-01   1.70247E+00   2.33077E-01   2.37501E-02   1.90798E-11\n",
      "\n",
      " Total Time    0.408E-02\n",
      "P2Y ... done\n"
     ]
    }
   ],
   "source": [
    "Hom_l3_H20 = run(Eq('HB2'),c ='P2Y.eq',ISW=2,ICP=[1,7],DS=1e-3,UZSTOP={7:[0,2]},SP=['BP0','LP0'])"
   ]
  },
  {
   "cell_type": "code",
   "execution_count": 8,
   "metadata": {},
   "outputs": [
    {
     "name": "stdout",
     "output_type": "stream",
     "text": [
      "Starting P2Y ...\n",
      "\n",
      "  BR    PT  TY  LAB     V_plc        L2-NORM         U(1)          U(2)          U(3)          U(4)          U(5)        lambda3    \n",
      "   3    38  ZH    6   3.18560E-04   1.83723E+00   6.35378E-01   1.34682E-01   1.70255E+00   2.33084E-01   2.37494E-02   4.41681E-01\n",
      "   3    39  GH    7   2.61274E-04   1.83723E+00   6.35378E-01   1.34682E-01   1.70255E+00   2.33084E-01   2.37494E-02   4.51680E-01\n",
      "   3    44  EP    8  -2.51575E-05   1.83724E+00   6.35380E-01   1.34682E-01   1.70256E+00   2.33085E-01   2.37493E-02   5.01679E-01\n",
      "\n",
      " Total Time    0.109E-01\n",
      "P2Y ... done\n"
     ]
    }
   ],
   "source": [
    "Hom_l3_H21 = run(Eq('HB2'),c ='P2Y.eq',ISW=2,ICP=[1,7],DS=-1e-3)"
   ]
  },
  {
   "cell_type": "code",
   "execution_count": 9,
   "metadata": {},
   "outputs": [
    {
     "name": "stdout",
     "output_type": "stream",
     "text": [
      "Starting P2Y ...\n",
      "\n",
      "  BR    PT  TY  LAB     V_plc        L2-NORM         U(1)          U(2)          U(3)          U(4)          U(5)        lambda3    \n",
      "   4    15  UZ    6   2.17530E-02   4.84423E-01   3.14891E-01   1.43270E-01   2.66938E-01   1.91819E-01   8.11743E-02   4.61988E-10\n",
      "\n",
      " Total Time    0.361E-02\n",
      "P2Y ... done\n"
     ]
    },
    {
     "name": "stderr",
     "output_type": "stream",
     "text": [
      "Note: The following floating-point exceptions are signalling: IEEE_UNDERFLOW_FLAG IEEE_DENORMAL\n"
     ]
    }
   ],
   "source": [
    "Hom_l3_H30 = run(Eq('HB3'),c ='P2Y.eq',ISW=2,ICP=[1,7],DS=1e-3,UZSTOP={7:[0,2]},SP=['BP0','LP0'])"
   ]
  },
  {
   "cell_type": "code",
   "execution_count": 10,
   "metadata": {},
   "outputs": [
    {
     "name": "stdout",
     "output_type": "stream",
     "text": [
      "Starting P2Y ...\n",
      "\n",
      "  BR    PT  TY  LAB     V_plc        L2-NORM         U(1)          U(2)          U(3)          U(4)          U(5)        lambda3    \n",
      "   4    82  EP    6  -2.16646E-04   4.85247E-01   3.15526E-01   1.43270E-01   2.67771E-01   1.91819E-01   8.08971E-02   8.77408E-01\n",
      "\n",
      " Total Time    0.170E-01\n",
      "P2Y ... done\n"
     ]
    },
    {
     "name": "stderr",
     "output_type": "stream",
     "text": [
      "Note: The following floating-point exceptions are signalling: IEEE_UNDERFLOW_FLAG IEEE_DENORMAL\n"
     ]
    }
   ],
   "source": [
    "Hom_l3_H31 = run(Eq('HB3'),c ='P2Y.eq',ISW=2,ICP=[1,7],DS=-1e-3)"
   ]
  },
  {
   "cell_type": "code",
   "execution_count": null,
   "metadata": {},
   "outputs": [],
   "source": []
  },
  {
   "cell_type": "code",
   "execution_count": null,
   "metadata": {
    "scrolled": true
   },
   "outputs": [],
   "source": [
    "Hom_l4_H10 = run(Eq('HB1'),c ='P2Y.eq',ISW=2,ICP=[1,8],DS=1e-3,UZSTOP={7:[0,2],8:[0,100]},SP=['BP0','LP0'])"
   ]
  },
  {
   "cell_type": "code",
   "execution_count": null,
   "metadata": {
    "scrolled": true
   },
   "outputs": [],
   "source": [
    "Hom_l4_H11 = run(Eq('HB1'),c ='P2Y.eq',ISW=2,ICP=[1,8],DS=-1e-3)"
   ]
  },
  {
   "cell_type": "code",
   "execution_count": null,
   "metadata": {
    "scrolled": true
   },
   "outputs": [],
   "source": [
    "Hom_l4_H20 = run(Eq('HB2'),c ='P2Y.eq',ISW=2,ICP=[1,8],DS=1e-3,UZSTOP={7:[0,2],8:[0,100]},SP=['BP0','LP0'])"
   ]
  },
  {
   "cell_type": "code",
   "execution_count": null,
   "metadata": {
    "scrolled": true
   },
   "outputs": [],
   "source": [
    "Hom_l4_H21 = run(Eq('HB2'),c ='P2Y.eq',ISW=2,ICP=[1,8],DS=-1e-3)"
   ]
  },
  {
   "cell_type": "code",
   "execution_count": null,
   "metadata": {},
   "outputs": [],
   "source": [
    "Hom_l4_H30 = run(Eq('HB3'),c ='P2Y.eq',ISW=2,ICP=[1,8],DS=1e-3,UZSTOP={7:[0,2],8:[0,100]},SP=['BP0','LP0'])"
   ]
  },
  {
   "cell_type": "code",
   "execution_count": null,
   "metadata": {
    "scrolled": true
   },
   "outputs": [],
   "source": [
    "Hom_l4_H31 = run(Eq('HB3'),c ='P2Y.eq',ISW=2,ICP=[1,8],DS=-1e-3)"
   ]
  },
  {
   "cell_type": "code",
   "execution_count": null,
   "metadata": {},
   "outputs": [],
   "source": []
  },
  {
   "cell_type": "code",
   "execution_count": null,
   "metadata": {},
   "outputs": [],
   "source": [
    "Hom_l34_H10 = run(Eq('HB1'),c ='P2Y.eq',ISW=2,ICP=[7,8],DS=1e-3,UZSTOP={7:[0,2],8:[0,100]},SP=['BP0','LP0'])"
   ]
  },
  {
   "cell_type": "code",
   "execution_count": null,
   "metadata": {},
   "outputs": [],
   "source": [
    "Hom_l34_H11 = run(Eq('HB1'),c ='P2Y.eq',ISW=2,ICP=[7,8],DS=-1e-3,UZSTOP={7:[0,2],8:[0,100]},SP=['BP0','LP0'])"
   ]
  },
  {
   "cell_type": "code",
   "execution_count": null,
   "metadata": {},
   "outputs": [],
   "source": [
    "Hom_l34_H20 = run(Eq('HB2'),c ='P2Y.eq',ISW=2,ICP=[7,8],DS=1e-3,UZSTOP={7:[0,2],8:[0,100]},SP=['BP0','LP0'])"
   ]
  },
  {
   "cell_type": "code",
   "execution_count": null,
   "metadata": {},
   "outputs": [],
   "source": [
    "Hom_l34_H21 = run(Eq('HB2'),c ='P2Y.eq',ISW=2,ICP=[7,8],DS=-1e-3,UZSTOP={7:[0,2],8:[0,100]},SP=['BP0','LP0'])"
   ]
  },
  {
   "cell_type": "code",
   "execution_count": null,
   "metadata": {},
   "outputs": [],
   "source": [
    "Hom_l34_H30 = run(Eq('HB3'),c ='P2Y.eq',ISW=2,ICP=[7,8],DS=1e-3,UZSTOP={7:[0,2],8:[0,100]},SP=['BP0','LP0'])"
   ]
  },
  {
   "cell_type": "code",
   "execution_count": null,
   "metadata": {},
   "outputs": [],
   "source": [
    "Hom_l34_H31 = run(Eq('HB3'),c ='P2Y.eq',ISW=2,ICP=[7,8],DS=-1e-3,UZSTOP={7:[0,2],8:[0,100]},SP=['BP0','LP0'])"
   ]
  },
  {
   "cell_type": "code",
   "execution_count": null,
   "metadata": {},
   "outputs": [],
   "source": []
  },
  {
   "cell_type": "code",
   "execution_count": null,
   "metadata": {},
   "outputs": [],
   "source": [
    "PO1 = run(Eq('HB1'),c ='P2Y.per',SP=['BP0'],DS=1e-3,EPSL=1e-4,EPSU=1e-6,EPSS=1e-6)"
   ]
  },
  {
   "cell_type": "code",
   "execution_count": null,
   "metadata": {},
   "outputs": [],
   "source": [
    "PO2 = run(Eq('HB3'),c ='P2Y.per',SP=['BP0'],DS=1e-3,EPSL=1e-4,EPSU=1e-4,EPSS=1e-4)"
   ]
  },
  {
   "cell_type": "code",
   "execution_count": null,
   "metadata": {},
   "outputs": [],
   "source": [
    "PO = PO1 + PO2"
   ]
  },
  {
   "cell_type": "code",
   "execution_count": null,
   "metadata": {},
   "outputs": [],
   "source": [
    "Is_1 = run(e='P2Y',c='P2Y.per',dat='p2y_per09',ISW=1,PAR={1:0.09},ISP=2,EPSL= 1e-12, EPSU = 1e-12,NTST=200)\n",
    "Is_2 = run(e='P2Y',c='P2Y.per',dat='p2y_per09', DS='-',ISW=1,SP=['BP0'],PAR={1:0.09},ISP=2,EPSL= 1e-12, EPSU = 1e-12,NTST=200)\n",
    "Is = Is_1 + Is_2"
   ]
  },
  {
   "cell_type": "code",
   "execution_count": 11,
   "metadata": {},
   "outputs": [],
   "source": [
    "import pandas as pd\n",
    "import matplotlib.pyplot as plt"
   ]
  },
  {
   "cell_type": "code",
   "execution_count": 12,
   "metadata": {},
   "outputs": [],
   "source": [
    "def auto_to_csv(branch,name,solution_type):\n",
    "    \"\"\" The goal of this function is to save as a csv file the results of an AUTO continuation \n",
    "        and return a panda dataframe of the data\"\"\"\n",
    "    \"\"\" Input:\n",
    "        branch: an AUTO branch solution acquired using run(blablabla)\n",
    "        name: The name of the output csv file, must be a string\n",
    "        solution_type: 'EQ' for equilibrium, 'PR' for periodic orbit, 'HB' for Hopf two parameters continuation\n",
    "            'LPPR' Limit point of periodic orbit\n",
    "        \n",
    "        Output:\n",
    "        panda dataframe of the branch solution\"\"\"\n",
    "    \n",
    "    \n",
    "    \"\"\"Relabelling the branch solution \"\"\"\n",
    "    branch = rl(branch)\n",
    "    \"\"\"Saving the branch solution\"\"\"\n",
    "    sv(branch,name)\n",
    "    \n",
    "    \"\"\"Acquire the b. file\"\"\"\n",
    "    print(\"Acquire the b. file\")\n",
    "    name_b = 'b.' + name\n",
    "    content = None\n",
    "    with open(name_b, 'r') as f:\n",
    "        content = f.readlines()\n",
    "    \n",
    "    \n",
    "    print(\"Read file\")\n",
    "    \"\"\"Read the file from the beginning of the interesting part (depends on its type)\"\"\"\n",
    "    \n",
    "    for i in range(len(content)):\n",
    "    \n",
    "        if \"PT\" in content[i]:\n",
    "            init = i\n",
    "            break\n",
    "\n",
    "\n",
    "\n",
    "            \n",
    "    content_csv = [[el for el in content[init].split(' ') if len(el) > 0 and el != '\\n']]\n",
    "    print(content_csv)\n",
    "        \n",
    "    \n",
    "        \n",
    "    print(\"Rename branch\")\n",
    "    \"\"\" Rename the branch\"\"\"\n",
    "    content_csv[0][0] = 'branch'\n",
    "    column_names = content_csv[0]\n",
    "    \n",
    "    \n",
    "    \n",
    "    print(\"Split content\")\n",
    "    \"\"\"Split and read the content\"\"\"\n",
    "    for line in content:\n",
    "        dummy = line.split(' ')\n",
    "        dummy = [el for el in dummy if len(el) > 0 and el != '\\n']\n",
    "        if dummy[0] == '0':\n",
    "            continue\n",
    "\n",
    "        for el_i, el in enumerate(dummy):\n",
    "            if el_i < 4:\n",
    "                dummy[el_i] = int(el)\n",
    "            else:\n",
    "                dummy[el_i] = float(el)\n",
    "\n",
    "        if len(dummy) > 1:\n",
    "            content_csv.append(dummy)\n",
    "        \n",
    "    # transform into panda data frame\n",
    "        \n",
    "    df = pd.DataFrame(content_csv, columns=column_names)\n",
    "    \n",
    "    # Export to csv\n",
    "    name_csv = name + '.csv'\n",
    "    df[1:-1].to_csv(name_csv)\n",
    "\n",
    "        \n",
    "    \n",
    "    \n",
    "    \n",
    "    return df[1:-1]"
   ]
  },
  {
   "cell_type": "code",
   "execution_count": null,
   "metadata": {},
   "outputs": [],
   "source": [
    "df_eq = auto_to_csv(Eq,'Eq','EQ')"
   ]
  },
  {
   "cell_type": "code",
   "execution_count": null,
   "metadata": {},
   "outputs": [],
   "source": [
    "df_PR = auto_to_csv(PO2,'PO2','PR')"
   ]
  },
  {
   "cell_type": "code",
   "execution_count": null,
   "metadata": {},
   "outputs": [],
   "source": []
  },
  {
   "cell_type": "code",
   "execution_count": 13,
   "metadata": {
    "scrolled": true
   },
   "outputs": [
    {
     "name": "stdout",
     "output_type": "stream",
     "text": [
      "Relabeling done\n",
      "Saving to b.Hom_l3_H10, s.Hom_l3_H10, and d.Hom_l3_H10 ... done\n",
      "Acquire the b. file\n",
      "Read file\n",
      "[['0', 'PT', 'TY', 'LAB', 'V_plc', 'L2-NORM', 'U(1)', 'U(2)', 'U(3)', 'U(4)', 'U(5)', 'lambda3']]\n",
      "Rename branch\n",
      "Split content\n"
     ]
    }
   ],
   "source": [
    "df_Hom_l3_H10 = auto_to_csv(Hom_l3_H10,'Hom_l3_H10','HB')"
   ]
  },
  {
   "cell_type": "code",
   "execution_count": 14,
   "metadata": {},
   "outputs": [
    {
     "name": "stdout",
     "output_type": "stream",
     "text": [
      "Relabeling done\n",
      "Saving to b.Hom_l3_H11, s.Hom_l3_H11, and d.Hom_l3_H11 ... done\n",
      "Acquire the b. file\n",
      "Read file\n",
      "[['0', 'PT', 'TY', 'LAB', 'V_plc', 'L2-NORM', 'U(1)', 'U(2)', 'U(3)', 'U(4)', 'U(5)', 'lambda3']]\n",
      "Rename branch\n",
      "Split content\n"
     ]
    }
   ],
   "source": [
    "df_Hom_l3_H11 = auto_to_csv(Hom_l3_H11,'Hom_l3_H11','HB')"
   ]
  },
  {
   "cell_type": "code",
   "execution_count": 15,
   "metadata": {},
   "outputs": [
    {
     "name": "stdout",
     "output_type": "stream",
     "text": [
      "Relabeling done\n",
      "Saving to b.Hom_l3_H20, s.Hom_l3_H20, and d.Hom_l3_H20 ... done\n",
      "Acquire the b. file\n",
      "Read file\n",
      "[['0', 'PT', 'TY', 'LAB', 'V_plc', 'L2-NORM', 'U(1)', 'U(2)', 'U(3)', 'U(4)', 'U(5)', 'lambda3']]\n",
      "Rename branch\n",
      "Split content\n"
     ]
    }
   ],
   "source": [
    "df_Hom_l3_H20 = auto_to_csv(Hom_l3_H20,'Hom_l3_H20','HB')"
   ]
  },
  {
   "cell_type": "code",
   "execution_count": 16,
   "metadata": {},
   "outputs": [
    {
     "name": "stdout",
     "output_type": "stream",
     "text": [
      "Relabeling done\n",
      "Saving to b.Hom_l3_H21, s.Hom_l3_H21, and d.Hom_l3_H21 ... done\n",
      "Acquire the b. file\n",
      "Read file\n",
      "[['0', 'PT', 'TY', 'LAB', 'V_plc', 'L2-NORM', 'U(1)', 'U(2)', 'U(3)', 'U(4)', 'U(5)', 'lambda3']]\n",
      "Rename branch\n",
      "Split content\n"
     ]
    }
   ],
   "source": [
    "df_Hom_l3_H21 = auto_to_csv(Hom_l3_H21,'Hom_l3_H21','HB')"
   ]
  },
  {
   "cell_type": "code",
   "execution_count": 17,
   "metadata": {},
   "outputs": [
    {
     "name": "stdout",
     "output_type": "stream",
     "text": [
      "Relabeling done\n",
      "Saving to b.Hom_l3_H30, s.Hom_l3_H30, and d.Hom_l3_H30 ... done\n",
      "Acquire the b. file\n",
      "Read file\n",
      "[['0', 'PT', 'TY', 'LAB', 'V_plc', 'L2-NORM', 'U(1)', 'U(2)', 'U(3)', 'U(4)', 'U(5)', 'lambda3']]\n",
      "Rename branch\n",
      "Split content\n"
     ]
    }
   ],
   "source": [
    "df_Hom_l3_H30 = auto_to_csv(Hom_l3_H30,'Hom_l3_H30','HB')"
   ]
  },
  {
   "cell_type": "code",
   "execution_count": 18,
   "metadata": {},
   "outputs": [
    {
     "name": "stdout",
     "output_type": "stream",
     "text": [
      "Relabeling done\n",
      "Saving to b.Hom_l3_H31, s.Hom_l3_H31, and d.Hom_l3_H31 ... done\n",
      "Acquire the b. file\n",
      "Read file\n",
      "[['0', 'PT', 'TY', 'LAB', 'V_plc', 'L2-NORM', 'U(1)', 'U(2)', 'U(3)', 'U(4)', 'U(5)', 'lambda3']]\n",
      "Rename branch\n",
      "Split content\n"
     ]
    }
   ],
   "source": [
    "df_Hom_l3_H31 = auto_to_csv(Hom_l3_H31,'Hom_l3_H31','HB')"
   ]
  },
  {
   "cell_type": "code",
   "execution_count": null,
   "metadata": {},
   "outputs": [],
   "source": []
  },
  {
   "cell_type": "code",
   "execution_count": null,
   "metadata": {},
   "outputs": [],
   "source": [
    "df_Hom_l4_H10 = auto_to_csv(Hom_l4_H10,'Hom_l4_H10','HB')"
   ]
  },
  {
   "cell_type": "code",
   "execution_count": null,
   "metadata": {},
   "outputs": [],
   "source": [
    "df_Hom_l4_H11 = auto_to_csv(Hom_l4_H11,'Hom_l4_H11','HB')"
   ]
  },
  {
   "cell_type": "code",
   "execution_count": null,
   "metadata": {},
   "outputs": [],
   "source": [
    "df_Hom_l4_H20 = auto_to_csv(Hom_l4_H20,'Hom_l4_H20','HB')"
   ]
  },
  {
   "cell_type": "code",
   "execution_count": null,
   "metadata": {},
   "outputs": [],
   "source": [
    "df_Hom_l4_H21 = auto_to_csv(Hom_l4_H21,'Hom_l4_H21','HB')"
   ]
  },
  {
   "cell_type": "code",
   "execution_count": null,
   "metadata": {},
   "outputs": [],
   "source": [
    "df_Hom_l4_H30 = auto_to_csv(Hom_l4_H30,'Hom_l4_H30','HB')"
   ]
  },
  {
   "cell_type": "code",
   "execution_count": null,
   "metadata": {},
   "outputs": [],
   "source": [
    "df_Hom_l4_H31 = auto_to_csv(Hom_l4_H31,'Hom_l4_H31','HB')"
   ]
  },
  {
   "cell_type": "code",
   "execution_count": null,
   "metadata": {},
   "outputs": [],
   "source": []
  },
  {
   "cell_type": "code",
   "execution_count": null,
   "metadata": {},
   "outputs": [],
   "source": [
    "df_Hom_l34_H10 = auto_to_csv(Hom_l34_H10,'Hom_l34_H10','HB')"
   ]
  },
  {
   "cell_type": "code",
   "execution_count": null,
   "metadata": {},
   "outputs": [],
   "source": [
    "df_Hom_l34_H11 = auto_to_csv(Hom_l34_H11,'Hom_l34_H11','HB')"
   ]
  },
  {
   "cell_type": "code",
   "execution_count": null,
   "metadata": {},
   "outputs": [],
   "source": [
    "df_Hom_l34_H20 = auto_to_csv(Hom_l34_H20,'Hom_l34_H20','HB')"
   ]
  },
  {
   "cell_type": "code",
   "execution_count": null,
   "metadata": {},
   "outputs": [],
   "source": [
    "df_Hom_l34_H21 = auto_to_csv(Hom_l34_H21,'Hom_l34_H21','HB')"
   ]
  },
  {
   "cell_type": "code",
   "execution_count": null,
   "metadata": {},
   "outputs": [],
   "source": [
    "df_Hom_l34_H30 = auto_to_csv(Hom_l34_H30,'Hom_l34_H30','HB')"
   ]
  },
  {
   "cell_type": "code",
   "execution_count": null,
   "metadata": {},
   "outputs": [],
   "source": [
    "df_Hom_l34_H31 = auto_to_csv(Hom_l34_H31,'Hom_l34_H31','HB')"
   ]
  },
  {
   "cell_type": "code",
   "execution_count": null,
   "metadata": {},
   "outputs": [],
   "source": []
  },
  {
   "cell_type": "code",
   "execution_count": 19,
   "metadata": {},
   "outputs": [
    {
     "data": {
      "text/html": [
       "<script>requirejs.config({paths: { 'plotly': ['https://cdn.plot.ly/plotly-latest.min']},});if(!window.Plotly) {{require(['plotly'],function(plotly) {window.Plotly=plotly;});}}</script>"
      ],
      "text/vnd.plotly.v1+html": [
       "<script>requirejs.config({paths: { 'plotly': ['https://cdn.plot.ly/plotly-latest.min']},});if(!window.Plotly) {{require(['plotly'],function(plotly) {window.Plotly=plotly;});}}</script>"
      ]
     },
     "metadata": {},
     "output_type": "display_data"
    }
   ],
   "source": [
    "import plotly.plotly as py\n",
    "from plotly.graph_objs import *\n",
    "from plotly.offline import iplot, init_notebook_mode\n",
    "init_notebook_mode(connected=True)"
   ]
  },
  {
   "cell_type": "code",
   "execution_count": 20,
   "metadata": {},
   "outputs": [
    {
     "ename": "NameError",
     "evalue": "name 'df_eq' is not defined",
     "output_type": "error",
     "traceback": [
      "\u001b[0;31m---------------------------------------------------------------------------\u001b[0m",
      "\u001b[0;31mNameError\u001b[0m                                 Traceback (most recent call last)",
      "\u001b[0;32m<ipython-input-20-548eb7332f24>\u001b[0m in \u001b[0;36m<module>\u001b[0;34m()\u001b[0m\n\u001b[0;32m----> 1\u001b[0;31m trace_eq = Scatter(x=df_eq['V_plc'],\n\u001b[0m\u001b[1;32m      2\u001b[0m                   \u001b[0my\u001b[0m\u001b[0;34m=\u001b[0m\u001b[0mdf_eq\u001b[0m\u001b[0;34m[\u001b[0m\u001b[0;34m'PAR(22)'\u001b[0m\u001b[0;34m]\u001b[0m\u001b[0;34m,\u001b[0m\u001b[0;34m\u001b[0m\u001b[0m\n\u001b[1;32m      3\u001b[0m                   \u001b[0mname\u001b[0m\u001b[0;34m=\u001b[0m\u001b[0;34m'Equilibria'\u001b[0m\u001b[0;34m,\u001b[0m\u001b[0;34m\u001b[0m\u001b[0m\n\u001b[1;32m      4\u001b[0m                   mode = 'lines')\n\u001b[1;32m      5\u001b[0m trace_per = Scatter(x=df_PR['V_plc'],\n",
      "\u001b[0;31mNameError\u001b[0m: name 'df_eq' is not defined"
     ]
    }
   ],
   "source": [
    "trace_eq = Scatter(x=df_eq['V_plc'],\n",
    "                  y=df_eq['PAR(22)'],\n",
    "                  name='Equilibria',\n",
    "                  mode = 'lines')\n",
    "trace_per = Scatter(x=df_PR['V_plc'],\n",
    "                  y=df_PR['PAR(22)'],\n",
    "                  name='Periodic Orbit',\n",
    "                   mode='lines')\n",
    "trace_per_min = Scatter(x=df_PR['V_plc'],\n",
    "                  y=df_PR['PAR(32)'],\n",
    "                  name='Periodic Orbit',\n",
    "                   mode='lines')\n",
    "data = [trace_eq,trace_per,trace_per_min]\n",
    "layout = Layout(title=\"Bifurcation diagram\",\n",
    "               xaxis=dict(title='V_plc'),\n",
    "               yaxis=dict(title='[Ca]'))\n",
    "fig = Figure(data=data, layout=layout)\n",
    "iplot(fig)"
   ]
  },
  {
   "cell_type": "code",
   "execution_count": null,
   "metadata": {},
   "outputs": [],
   "source": []
  },
  {
   "cell_type": "code",
   "execution_count": 21,
   "metadata": {},
   "outputs": [
    {
     "data": {
      "application/vnd.plotly.v1+json": {
       "data": [
        {
         "mode": "lines",
         "name": "HB1",
         "type": "scatter",
         "x": [
          0.00069049330051,
          0.00068935153849,
          0.00068849524174,
          0.00068721083659,
          0.00068528431888,
          0.00068239474593,
          0.00067806084769,
          0.00067235450915,
          0.0006666491513,
          0.00066094478606,
          0.00065524142519,
          0.00064953908004,
          0.00064383776161,
          0.00063813748047,
          0.00063243824674,
          0.00062674006995,
          0.00062104295902,
          0.0006153469223,
          0.00060965196718,
          0.00060395810029,
          0.00059826532738,
          0.00059257365306,
          0.00058688308087,
          0.00058119361302,
          0.00057550525051,
          0.00056981799262,
          0.00056413183719,
          0.00055844678023,
          0.00055276281581,
          0.0005502529158,
          0.00054457051184,
          0.00053888917693,
          0.00053320889734,
          0.0005275296566,
          0.00052185143542,
          0.00051617421129,
          0.00051049795849,
          0.00050482264772,
          0.00049914824583,
          0.00049347471573,
          0.00048780201593,
          0.00048213010037,
          0.00047645891817,
          0.00047078841331,
          0.00046511852416,
          0.0004594491835,
          0.0004537803179,
          0.00044811184752,
          0.00044244368583,
          0.00043677573914,
          0.00043110790629,
          0.00042544007841,
          0.00041977213846,
          0.00041410396093,
          0.00040843541142,
          0.0004027663465,
          0.00039709661314,
          0.00039365145409,
          0.00038798030071,
          0.00038230803317,
          0.0003766344618,
          0.00037095938612,
          0.00036528259479,
          0.00035960386525,
          0.00035392296377,
          0.00034823964522,
          0.00034255365329,
          0.00033686472033,
          0.00033117256759,
          0.00032547690537,
          0.00031977743346,
          0.0003140738414,
          0.00030836580909,
          0.00030265300737,
          0.00029693509888,
          0.00029121173884,
          0.00028548257624,
          0.00027974725497,
          0.00027400541523,
          0.00026825669513,
          0.00026250073238,
          0.00025673716622,
          0.00025096563958,
          0.00024518580136,
          0.00023939730894,
          0.00023359983086,
          0.00022779304962,
          0.00022197666478,
          0.00021615039606,
          0.00021031398663,
          0.00020446720641,
          0.0001986098556,
          0.00019274176795,
          0.00018686281432,
          0.00018097290584,
          0.00017507199713,
          0.00016916008925,
          0.00016323723244,
          0.00015730352829,
          0.00015135913192,
          0.00014540425333,
          0.00013943915824,
          0.0001334641687,
          0.00012747966263,
          0.00012148607294,
          0.00011548388594,
          0.00010947363897,
          0.00010345591745,
          9.7431351224e-05,
          9.1400610178e-05,
          8.5364399592e-05,
          7.9323454636e-05,
          7.3278534752e-05,
          6.723041764e-05,
          6.1179893068e-05,
          5.5127756558e-05,
          4.9074803101e-05,
          4.3021821095e-05,
          3.6969586495e-05,
          3.0918857096e-05,
          2.4870367598e-05,
          1.8824824814e-05,
          1.2782903457e-05,
          6.7452427313e-06,
          7.1244315627e-07
         ],
         "y": [
          0.10000000149,
          0.10197809217,
          0.10346158909,
          0.10568671961,
          0.10902415573,
          0.11402972059,
          0.12153672545,
          0.13141999203,
          0.14130035364,
          0.15117774306,
          0.1610520921,
          0.17092333184,
          0.18079139263,
          0.19065620409,
          0.20051769526,
          0.21037579462,
          0.22023043028,
          0.23008152989,
          0.23992902097,
          0.24977283094,
          0.25961288711,
          0.2694491171,
          0.27928144869,
          0.28910981028,
          0.29893413075,
          0.30875434004,
          0.31857036896,
          0.32838214962,
          0.33818961575,
          0.34251955992,
          0.35232069286,
          0.36211735729,
          0.37190949411,
          0.381697047,
          0.39147996281,
          0.40125819191,
          0.41103168846,
          0.42080041091,
          0.43056432244,
          0.44032339127,
          0.45007759131,
          0.45982690252,
          0.46957131148,
          0.47931081178,
          0.48904540498,
          0.4987751006,
          0.5084999172,
          0.51821988283,
          0.52793503553,
          0.53764542421,
          0.54735110926,
          0.55705216304,
          0.56674867085,
          0.5764407314,
          0.58612845774,
          0.59581197766,
          0.60549143465,
          0.61137047221,
          0.62104373986,
          0.63071339699,
          0.64037964898,
          0.65004271982,
          0.65970285256,
          0.66936031,
          0.679015375,
          0.68866835102,
          0.69831956217,
          0.70796935364,
          0.71761809172,
          0.72726616383,
          0.73691397821,
          0.74656196384,
          0.75621056982,
          0.76586026477,
          0.77551153594,
          0.78516488826,
          0.794820843,
          0.80447993619,
          0.81414271691,
          0.82380974514,
          0.83348158951,
          0.84315882465,
          0.85284202814,
          0.86253177737,
          0.87222864595,
          0.88193319986,
          0.89164599333,
          0.90136756438,
          0.91109843025,
          0.92083908236,
          0.93058998159,
          0.94035155276,
          0.95012417963,
          0.95990819965,
          0.96970389877,
          0.97951150651,
          0.98933119127,
          0.99916305594,
          1.009007134,
          1.0188633862,
          1.028731698,
          1.0386118773,
          1.0485036538,
          1.0584066783,
          1.0683205239,
          1.0782446878,
          1.0881785937,
          1.0981215959,
          1.108072984,
          1.1180319889,
          1.127997789,
          1.1379695175,
          1.1479462706,
          1.1579271157,
          1.1679111001,
          1.1778972596,
          1.187884628,
          1.1978722449,
          1.2078591648,
          1.2178444645,
          1.2278272508,
          1.2378066668,
          1.2477818984,
          1.2577521785,
          1.2677167924
         ]
        },
        {
         "mode": "lines",
         "name": "HB2",
         "type": "scatter",
         "x": [
          0.0022760991693,
          0.0022646406196,
          0.0022531820769,
          0.0022302650127,
          0.0021958894696,
          0.0021443262744,
          0.0020870340034,
          0.0020297419095,
          0.0019724499924,
          0.0019151582521,
          0.0018578666885,
          0.0018005753015,
          0.0017432840909,
          0.0016859930566,
          0.0016287021985,
          0.0015714115165,
          0.0015141210104,
          0.00145683068,
          0.0013995405251,
          0.0013422505456,
          0.0012849607413,
          0.0012276711119,
          0.0011703816573,
          0.0011130923773,
          0.0010558032715,
          0.00099851433986,
          0.00094122558199,
          0.00088393699769,
          0.00082664858671,
          0.00076936034871,
          0.00071207228347,
          0.00065478439065,
          0.00059749666996,
          0.0005402091211,
          0.00048292174371,
          0.00042563453751,
          0.00036834750213,
          0.00031856028035,
          0.00026127356328,
          0.00020398701601,
          0.00014670063813,
          8.9414429261e-05,
          3.212838903e-05
         ],
         "y": [
          0.10000000149,
          0.10199993343,
          0.10399986542,
          0.10799972969,
          0.11399952688,
          0.12299922442,
          0.1329988908,
          0.14299855975,
          0.15299823126,
          0.16299790532,
          0.17299758191,
          0.18299726102,
          0.19299694265,
          0.20299662676,
          0.21299631335,
          0.22299600241,
          0.23299569392,
          0.24299538786,
          0.25299508422,
          0.26299478298,
          0.27299448412,
          0.28299418764,
          0.2929938935,
          0.30299360169,
          0.3129933122,
          0.322993025,
          0.33299274007,
          0.34299245741,
          0.35299217697,
          0.36299189875,
          0.37299162272,
          0.38299134888,
          0.39299107718,
          0.40299080761,
          0.41299054015,
          0.42299027477,
          0.43299001145,
          0.44168064423,
          0.45168038471,
          0.46168012719,
          0.47167987164,
          0.48167961803,
          0.49167936635
         ]
        },
        {
         "mode": "lines",
         "name": "HB3",
         "type": "scatter",
         "x": [
          0.019243637322,
          0.019193494933,
          0.019155879742,
          0.019080650084,
          0.018967807401,
          0.018798547447,
          0.018547801044,
          0.018297065623,
          0.01804634133,
          0.017795628316,
          0.017544926735,
          0.01729423673,
          0.017043558458,
          0.016792892065,
          0.016542237706,
          0.016291595529,
          0.01604096568,
          0.015790348317,
          0.015539743582,
          0.015289151628,
          0.015038572609,
          0.014788006669,
          0.014537453953,
          0.014286914622,
          0.01403638882,
          0.013785876691,
          0.013535378384,
          0.013284894054,
          0.013034423843,
          0.012783967899,
          0.012533526367,
          0.012283099396,
          0.012032687132,
          0.011782289721,
          0.011531907305,
          0.01128154003,
          0.011031188043,
          0.010780851481,
          0.010530530498,
          0.010280225224,
          0.010029935804,
          0.0097796623835,
          0.0095294051018,
          0.0092791640926,
          0.0090289395022,
          0.0087787314617,
          0.0085285401144,
          0.0082783655964,
          0.0080282080405,
          0.0077780675825,
          0.0075279443574,
          0.0072778384971,
          0.0070277501339,
          0.0067776794014,
          0.0065276264245,
          0.0062775913384,
          0.0060275742667,
          0.0057775753403,
          0.0055275946809,
          0.0052776324186,
          0.0050276886749,
          0.0047777635692,
          0.0045278572306,
          0.0042779697716,
          0.0040281013158,
          0.0037782519792,
          0.0035284218799,
          0.0032786111296,
          0.0030288198476,
          0.0027790481426,
          0.0025292961255,
          0.0022795639102,
          0.0020298516011,
          0.001780159306,
          0.0015304871309,
          0.0012808351805,
          0.0010312035576,
          0.00078159235877,
          0.00053200168926,
          0.0002824316443,
          3.288231987e-05
         ],
         "y": [
          0.10000000149,
          0.10199908835,
          0.10349839649,
          0.10649701305,
          0.11099493859,
          0.11774182847,
          0.12773722444,
          0.1377326247,
          0.14772802934,
          0.15772343845,
          0.16771885208,
          0.17771427032,
          0.18770969324,
          0.19770512092,
          0.20770055344,
          0.21769599085,
          0.22769143323,
          0.23768688066,
          0.2476823332,
          0.25767779093,
          0.2676732539,
          0.27766872219,
          0.28766419585,
          0.29765967496,
          0.30765515958,
          0.31765064977,
          0.32764614559,
          0.3376416471,
          0.34763715435,
          0.35763266741,
          0.36762818633,
          0.37762371117,
          0.38761924198,
          0.3976147788,
          0.4076103217,
          0.41760587072,
          0.42760142591,
          0.4375969873,
          0.44759255497,
          0.45758812893,
          0.46758370924,
          0.47757929594,
          0.48757488906,
          0.49757048864,
          0.50756609472,
          0.51756170733,
          0.52755732651,
          0.53755295229,
          0.54754858469,
          0.55754422375,
          0.56753986949,
          0.57753552194,
          0.58753118111,
          0.59752684703,
          0.60752251973,
          0.61751819922,
          0.6275138855,
          0.63750957862,
          0.64750527855,
          0.65750098534,
          0.66749669898,
          0.67749241948,
          0.68748814685,
          0.69748388109,
          0.7074796222,
          0.71747537019,
          0.72747112506,
          0.73746688679,
          0.74746265539,
          0.75745843085,
          0.76745421316,
          0.77745000232,
          0.78744579831,
          0.79744160112,
          0.80743741073,
          0.81743322713,
          0.82742905029,
          0.83742488021,
          0.84742071685,
          0.85741656019,
          0.86741241021
         ]
        }
       ],
       "layout": {
        "title": "Bifurcation set",
        "xaxis": {
         "title": "V_plc"
        },
        "yaxis": {
         "title": "lambda_3"
        }
       }
      },
      "text/html": [
       "<div id=\"f5f2ddbf-f5de-4470-8ff5-305b642776e8\" style=\"height: 525px; width: 100%;\" class=\"plotly-graph-div\"></div><script type=\"text/javascript\">require([\"plotly\"], function(Plotly) { window.PLOTLYENV=window.PLOTLYENV || {};window.PLOTLYENV.BASE_URL=\"https://plot.ly\";Plotly.newPlot(\"f5f2ddbf-f5de-4470-8ff5-305b642776e8\", [{\"y\": [0.10000000149, 0.10197809217, 0.10346158909, 0.10568671961, 0.10902415573, 0.11402972059, 0.12153672545, 0.13141999203, 0.14130035364, 0.15117774306, 0.1610520921, 0.17092333184, 0.18079139263, 0.19065620409, 0.20051769526, 0.21037579462, 0.22023043028, 0.23008152989, 0.23992902097, 0.24977283094, 0.25961288711, 0.2694491171, 0.27928144869, 0.28910981028, 0.29893413075, 0.30875434004, 0.31857036896, 0.32838214962, 0.33818961575, 0.34251955992, 0.35232069286, 0.36211735729, 0.37190949411, 0.381697047, 0.39147996281, 0.40125819191, 0.41103168846, 0.42080041091, 0.43056432244, 0.44032339127, 0.45007759131, 0.45982690252, 0.46957131148, 0.47931081178, 0.48904540498, 0.4987751006, 0.5084999172, 0.51821988283, 0.52793503553, 0.53764542421, 0.54735110926, 0.55705216304, 0.56674867085, 0.5764407314, 0.58612845774, 0.59581197766, 0.60549143465, 0.61137047221, 0.62104373986, 0.63071339699, 0.64037964898, 0.65004271982, 0.65970285256, 0.66936031, 0.679015375, 0.68866835102, 0.69831956217, 0.70796935364, 0.71761809172, 0.72726616383, 0.73691397821, 0.74656196384, 0.75621056982, 0.76586026477, 0.77551153594, 0.78516488826, 0.794820843, 0.80447993619, 0.81414271691, 0.82380974514, 0.83348158951, 0.84315882465, 0.85284202814, 0.86253177737, 0.87222864595, 0.88193319986, 0.89164599333, 0.90136756438, 0.91109843025, 0.92083908236, 0.93058998159, 0.94035155276, 0.95012417963, 0.95990819965, 0.96970389877, 0.97951150651, 0.98933119127, 0.99916305594, 1.009007134, 1.0188633862, 1.028731698, 1.0386118773, 1.0485036538, 1.0584066783, 1.0683205239, 1.0782446878, 1.0881785937, 1.0981215959, 1.108072984, 1.1180319889, 1.127997789, 1.1379695175, 1.1479462706, 1.1579271157, 1.1679111001, 1.1778972596, 1.187884628, 1.1978722449, 1.2078591648, 1.2178444645, 1.2278272508, 1.2378066668, 1.2477818984, 1.2577521785, 1.2677167924], \"x\": [0.00069049330051, 0.00068935153849, 0.00068849524174, 0.00068721083659, 0.00068528431888, 0.00068239474593, 0.00067806084769, 0.00067235450915, 0.0006666491513, 0.00066094478606, 0.00065524142519, 0.00064953908004, 0.00064383776161, 0.00063813748047, 0.00063243824674, 0.00062674006995, 0.00062104295902, 0.0006153469223, 0.00060965196718, 0.00060395810029, 0.00059826532738, 0.00059257365306, 0.00058688308087, 0.00058119361302, 0.00057550525051, 0.00056981799262, 0.00056413183719, 0.00055844678023, 0.00055276281581, 0.0005502529158, 0.00054457051184, 0.00053888917693, 0.00053320889734, 0.0005275296566, 0.00052185143542, 0.00051617421129, 0.00051049795849, 0.00050482264772, 0.00049914824583, 0.00049347471573, 0.00048780201593, 0.00048213010037, 0.00047645891817, 0.00047078841331, 0.00046511852416, 0.0004594491835, 0.0004537803179, 0.00044811184752, 0.00044244368583, 0.00043677573914, 0.00043110790629, 0.00042544007841, 0.00041977213846, 0.00041410396093, 0.00040843541142, 0.0004027663465, 0.00039709661314, 0.00039365145409, 0.00038798030071, 0.00038230803317, 0.0003766344618, 0.00037095938612, 0.00036528259479, 0.00035960386525, 0.00035392296377, 0.00034823964522, 0.00034255365329, 0.00033686472033, 0.00033117256759, 0.00032547690537, 0.00031977743346, 0.0003140738414, 0.00030836580909, 0.00030265300737, 0.00029693509888, 0.00029121173884, 0.00028548257624, 0.00027974725497, 0.00027400541523, 0.00026825669513, 0.00026250073238, 0.00025673716622, 0.00025096563958, 0.00024518580136, 0.00023939730894, 0.00023359983086, 0.00022779304962, 0.00022197666478, 0.00021615039606, 0.00021031398663, 0.00020446720641, 0.0001986098556, 0.00019274176795, 0.00018686281432, 0.00018097290584, 0.00017507199713, 0.00016916008925, 0.00016323723244, 0.00015730352829, 0.00015135913192, 0.00014540425333, 0.00013943915824, 0.0001334641687, 0.00012747966263, 0.00012148607294, 0.00011548388594, 0.00010947363897, 0.00010345591745, 9.7431351224e-05, 9.1400610178e-05, 8.5364399592e-05, 7.9323454636e-05, 7.3278534752e-05, 6.723041764e-05, 6.1179893068e-05, 5.5127756558e-05, 4.9074803101e-05, 4.3021821095e-05, 3.6969586495e-05, 3.0918857096e-05, 2.4870367598e-05, 1.8824824814e-05, 1.2782903457e-05, 6.7452427313e-06, 7.1244315627e-07], \"type\": \"scatter\", \"name\": \"HB1\", \"mode\": \"lines\"}, {\"y\": [0.10000000149, 0.10199993343, 0.10399986542, 0.10799972969, 0.11399952688, 0.12299922442, 0.1329988908, 0.14299855975, 0.15299823126, 0.16299790532, 0.17299758191, 0.18299726102, 0.19299694265, 0.20299662676, 0.21299631335, 0.22299600241, 0.23299569392, 0.24299538786, 0.25299508422, 0.26299478298, 0.27299448412, 0.28299418764, 0.2929938935, 0.30299360169, 0.3129933122, 0.322993025, 0.33299274007, 0.34299245741, 0.35299217697, 0.36299189875, 0.37299162272, 0.38299134888, 0.39299107718, 0.40299080761, 0.41299054015, 0.42299027477, 0.43299001145, 0.44168064423, 0.45168038471, 0.46168012719, 0.47167987164, 0.48167961803, 0.49167936635], \"x\": [0.0022760991693, 0.0022646406196, 0.0022531820769, 0.0022302650127, 0.0021958894696, 0.0021443262744, 0.0020870340034, 0.0020297419095, 0.0019724499924, 0.0019151582521, 0.0018578666885, 0.0018005753015, 0.0017432840909, 0.0016859930566, 0.0016287021985, 0.0015714115165, 0.0015141210104, 0.00145683068, 0.0013995405251, 0.0013422505456, 0.0012849607413, 0.0012276711119, 0.0011703816573, 0.0011130923773, 0.0010558032715, 0.00099851433986, 0.00094122558199, 0.00088393699769, 0.00082664858671, 0.00076936034871, 0.00071207228347, 0.00065478439065, 0.00059749666996, 0.0005402091211, 0.00048292174371, 0.00042563453751, 0.00036834750213, 0.00031856028035, 0.00026127356328, 0.00020398701601, 0.00014670063813, 8.9414429261e-05, 3.212838903e-05], \"type\": \"scatter\", \"name\": \"HB2\", \"mode\": \"lines\"}, {\"y\": [0.10000000149, 0.10199908835, 0.10349839649, 0.10649701305, 0.11099493859, 0.11774182847, 0.12773722444, 0.1377326247, 0.14772802934, 0.15772343845, 0.16771885208, 0.17771427032, 0.18770969324, 0.19770512092, 0.20770055344, 0.21769599085, 0.22769143323, 0.23768688066, 0.2476823332, 0.25767779093, 0.2676732539, 0.27766872219, 0.28766419585, 0.29765967496, 0.30765515958, 0.31765064977, 0.32764614559, 0.3376416471, 0.34763715435, 0.35763266741, 0.36762818633, 0.37762371117, 0.38761924198, 0.3976147788, 0.4076103217, 0.41760587072, 0.42760142591, 0.4375969873, 0.44759255497, 0.45758812893, 0.46758370924, 0.47757929594, 0.48757488906, 0.49757048864, 0.50756609472, 0.51756170733, 0.52755732651, 0.53755295229, 0.54754858469, 0.55754422375, 0.56753986949, 0.57753552194, 0.58753118111, 0.59752684703, 0.60752251973, 0.61751819922, 0.6275138855, 0.63750957862, 0.64750527855, 0.65750098534, 0.66749669898, 0.67749241948, 0.68748814685, 0.69748388109, 0.7074796222, 0.71747537019, 0.72747112506, 0.73746688679, 0.74746265539, 0.75745843085, 0.76745421316, 0.77745000232, 0.78744579831, 0.79744160112, 0.80743741073, 0.81743322713, 0.82742905029, 0.83742488021, 0.84742071685, 0.85741656019, 0.86741241021], \"x\": [0.019243637322, 0.019193494933, 0.019155879742, 0.019080650084, 0.018967807401, 0.018798547447, 0.018547801044, 0.018297065623, 0.01804634133, 0.017795628316, 0.017544926735, 0.01729423673, 0.017043558458, 0.016792892065, 0.016542237706, 0.016291595529, 0.01604096568, 0.015790348317, 0.015539743582, 0.015289151628, 0.015038572609, 0.014788006669, 0.014537453953, 0.014286914622, 0.01403638882, 0.013785876691, 0.013535378384, 0.013284894054, 0.013034423843, 0.012783967899, 0.012533526367, 0.012283099396, 0.012032687132, 0.011782289721, 0.011531907305, 0.01128154003, 0.011031188043, 0.010780851481, 0.010530530498, 0.010280225224, 0.010029935804, 0.0097796623835, 0.0095294051018, 0.0092791640926, 0.0090289395022, 0.0087787314617, 0.0085285401144, 0.0082783655964, 0.0080282080405, 0.0077780675825, 0.0075279443574, 0.0072778384971, 0.0070277501339, 0.0067776794014, 0.0065276264245, 0.0062775913384, 0.0060275742667, 0.0057775753403, 0.0055275946809, 0.0052776324186, 0.0050276886749, 0.0047777635692, 0.0045278572306, 0.0042779697716, 0.0040281013158, 0.0037782519792, 0.0035284218799, 0.0032786111296, 0.0030288198476, 0.0027790481426, 0.0025292961255, 0.0022795639102, 0.0020298516011, 0.001780159306, 0.0015304871309, 0.0012808351805, 0.0010312035576, 0.00078159235877, 0.00053200168926, 0.0002824316443, 3.288231987e-05], \"type\": \"scatter\", \"name\": \"HB3\", \"mode\": \"lines\"}], {\"title\": \"Bifurcation set\", \"xaxis\": {\"title\": \"V_plc\"}, \"yaxis\": {\"title\": \"lambda_3\"}}, {\"linkText\": \"Export to plot.ly\", \"showLink\": true})});</script>"
      ],
      "text/vnd.plotly.v1+html": [
       "<div id=\"f5f2ddbf-f5de-4470-8ff5-305b642776e8\" style=\"height: 525px; width: 100%;\" class=\"plotly-graph-div\"></div><script type=\"text/javascript\">require([\"plotly\"], function(Plotly) { window.PLOTLYENV=window.PLOTLYENV || {};window.PLOTLYENV.BASE_URL=\"https://plot.ly\";Plotly.newPlot(\"f5f2ddbf-f5de-4470-8ff5-305b642776e8\", [{\"y\": [0.10000000149, 0.10197809217, 0.10346158909, 0.10568671961, 0.10902415573, 0.11402972059, 0.12153672545, 0.13141999203, 0.14130035364, 0.15117774306, 0.1610520921, 0.17092333184, 0.18079139263, 0.19065620409, 0.20051769526, 0.21037579462, 0.22023043028, 0.23008152989, 0.23992902097, 0.24977283094, 0.25961288711, 0.2694491171, 0.27928144869, 0.28910981028, 0.29893413075, 0.30875434004, 0.31857036896, 0.32838214962, 0.33818961575, 0.34251955992, 0.35232069286, 0.36211735729, 0.37190949411, 0.381697047, 0.39147996281, 0.40125819191, 0.41103168846, 0.42080041091, 0.43056432244, 0.44032339127, 0.45007759131, 0.45982690252, 0.46957131148, 0.47931081178, 0.48904540498, 0.4987751006, 0.5084999172, 0.51821988283, 0.52793503553, 0.53764542421, 0.54735110926, 0.55705216304, 0.56674867085, 0.5764407314, 0.58612845774, 0.59581197766, 0.60549143465, 0.61137047221, 0.62104373986, 0.63071339699, 0.64037964898, 0.65004271982, 0.65970285256, 0.66936031, 0.679015375, 0.68866835102, 0.69831956217, 0.70796935364, 0.71761809172, 0.72726616383, 0.73691397821, 0.74656196384, 0.75621056982, 0.76586026477, 0.77551153594, 0.78516488826, 0.794820843, 0.80447993619, 0.81414271691, 0.82380974514, 0.83348158951, 0.84315882465, 0.85284202814, 0.86253177737, 0.87222864595, 0.88193319986, 0.89164599333, 0.90136756438, 0.91109843025, 0.92083908236, 0.93058998159, 0.94035155276, 0.95012417963, 0.95990819965, 0.96970389877, 0.97951150651, 0.98933119127, 0.99916305594, 1.009007134, 1.0188633862, 1.028731698, 1.0386118773, 1.0485036538, 1.0584066783, 1.0683205239, 1.0782446878, 1.0881785937, 1.0981215959, 1.108072984, 1.1180319889, 1.127997789, 1.1379695175, 1.1479462706, 1.1579271157, 1.1679111001, 1.1778972596, 1.187884628, 1.1978722449, 1.2078591648, 1.2178444645, 1.2278272508, 1.2378066668, 1.2477818984, 1.2577521785, 1.2677167924], \"x\": [0.00069049330051, 0.00068935153849, 0.00068849524174, 0.00068721083659, 0.00068528431888, 0.00068239474593, 0.00067806084769, 0.00067235450915, 0.0006666491513, 0.00066094478606, 0.00065524142519, 0.00064953908004, 0.00064383776161, 0.00063813748047, 0.00063243824674, 0.00062674006995, 0.00062104295902, 0.0006153469223, 0.00060965196718, 0.00060395810029, 0.00059826532738, 0.00059257365306, 0.00058688308087, 0.00058119361302, 0.00057550525051, 0.00056981799262, 0.00056413183719, 0.00055844678023, 0.00055276281581, 0.0005502529158, 0.00054457051184, 0.00053888917693, 0.00053320889734, 0.0005275296566, 0.00052185143542, 0.00051617421129, 0.00051049795849, 0.00050482264772, 0.00049914824583, 0.00049347471573, 0.00048780201593, 0.00048213010037, 0.00047645891817, 0.00047078841331, 0.00046511852416, 0.0004594491835, 0.0004537803179, 0.00044811184752, 0.00044244368583, 0.00043677573914, 0.00043110790629, 0.00042544007841, 0.00041977213846, 0.00041410396093, 0.00040843541142, 0.0004027663465, 0.00039709661314, 0.00039365145409, 0.00038798030071, 0.00038230803317, 0.0003766344618, 0.00037095938612, 0.00036528259479, 0.00035960386525, 0.00035392296377, 0.00034823964522, 0.00034255365329, 0.00033686472033, 0.00033117256759, 0.00032547690537, 0.00031977743346, 0.0003140738414, 0.00030836580909, 0.00030265300737, 0.00029693509888, 0.00029121173884, 0.00028548257624, 0.00027974725497, 0.00027400541523, 0.00026825669513, 0.00026250073238, 0.00025673716622, 0.00025096563958, 0.00024518580136, 0.00023939730894, 0.00023359983086, 0.00022779304962, 0.00022197666478, 0.00021615039606, 0.00021031398663, 0.00020446720641, 0.0001986098556, 0.00019274176795, 0.00018686281432, 0.00018097290584, 0.00017507199713, 0.00016916008925, 0.00016323723244, 0.00015730352829, 0.00015135913192, 0.00014540425333, 0.00013943915824, 0.0001334641687, 0.00012747966263, 0.00012148607294, 0.00011548388594, 0.00010947363897, 0.00010345591745, 9.7431351224e-05, 9.1400610178e-05, 8.5364399592e-05, 7.9323454636e-05, 7.3278534752e-05, 6.723041764e-05, 6.1179893068e-05, 5.5127756558e-05, 4.9074803101e-05, 4.3021821095e-05, 3.6969586495e-05, 3.0918857096e-05, 2.4870367598e-05, 1.8824824814e-05, 1.2782903457e-05, 6.7452427313e-06, 7.1244315627e-07], \"type\": \"scatter\", \"name\": \"HB1\", \"mode\": \"lines\"}, {\"y\": [0.10000000149, 0.10199993343, 0.10399986542, 0.10799972969, 0.11399952688, 0.12299922442, 0.1329988908, 0.14299855975, 0.15299823126, 0.16299790532, 0.17299758191, 0.18299726102, 0.19299694265, 0.20299662676, 0.21299631335, 0.22299600241, 0.23299569392, 0.24299538786, 0.25299508422, 0.26299478298, 0.27299448412, 0.28299418764, 0.2929938935, 0.30299360169, 0.3129933122, 0.322993025, 0.33299274007, 0.34299245741, 0.35299217697, 0.36299189875, 0.37299162272, 0.38299134888, 0.39299107718, 0.40299080761, 0.41299054015, 0.42299027477, 0.43299001145, 0.44168064423, 0.45168038471, 0.46168012719, 0.47167987164, 0.48167961803, 0.49167936635], \"x\": [0.0022760991693, 0.0022646406196, 0.0022531820769, 0.0022302650127, 0.0021958894696, 0.0021443262744, 0.0020870340034, 0.0020297419095, 0.0019724499924, 0.0019151582521, 0.0018578666885, 0.0018005753015, 0.0017432840909, 0.0016859930566, 0.0016287021985, 0.0015714115165, 0.0015141210104, 0.00145683068, 0.0013995405251, 0.0013422505456, 0.0012849607413, 0.0012276711119, 0.0011703816573, 0.0011130923773, 0.0010558032715, 0.00099851433986, 0.00094122558199, 0.00088393699769, 0.00082664858671, 0.00076936034871, 0.00071207228347, 0.00065478439065, 0.00059749666996, 0.0005402091211, 0.00048292174371, 0.00042563453751, 0.00036834750213, 0.00031856028035, 0.00026127356328, 0.00020398701601, 0.00014670063813, 8.9414429261e-05, 3.212838903e-05], \"type\": \"scatter\", \"name\": \"HB2\", \"mode\": \"lines\"}, {\"y\": [0.10000000149, 0.10199908835, 0.10349839649, 0.10649701305, 0.11099493859, 0.11774182847, 0.12773722444, 0.1377326247, 0.14772802934, 0.15772343845, 0.16771885208, 0.17771427032, 0.18770969324, 0.19770512092, 0.20770055344, 0.21769599085, 0.22769143323, 0.23768688066, 0.2476823332, 0.25767779093, 0.2676732539, 0.27766872219, 0.28766419585, 0.29765967496, 0.30765515958, 0.31765064977, 0.32764614559, 0.3376416471, 0.34763715435, 0.35763266741, 0.36762818633, 0.37762371117, 0.38761924198, 0.3976147788, 0.4076103217, 0.41760587072, 0.42760142591, 0.4375969873, 0.44759255497, 0.45758812893, 0.46758370924, 0.47757929594, 0.48757488906, 0.49757048864, 0.50756609472, 0.51756170733, 0.52755732651, 0.53755295229, 0.54754858469, 0.55754422375, 0.56753986949, 0.57753552194, 0.58753118111, 0.59752684703, 0.60752251973, 0.61751819922, 0.6275138855, 0.63750957862, 0.64750527855, 0.65750098534, 0.66749669898, 0.67749241948, 0.68748814685, 0.69748388109, 0.7074796222, 0.71747537019, 0.72747112506, 0.73746688679, 0.74746265539, 0.75745843085, 0.76745421316, 0.77745000232, 0.78744579831, 0.79744160112, 0.80743741073, 0.81743322713, 0.82742905029, 0.83742488021, 0.84742071685, 0.85741656019, 0.86741241021], \"x\": [0.019243637322, 0.019193494933, 0.019155879742, 0.019080650084, 0.018967807401, 0.018798547447, 0.018547801044, 0.018297065623, 0.01804634133, 0.017795628316, 0.017544926735, 0.01729423673, 0.017043558458, 0.016792892065, 0.016542237706, 0.016291595529, 0.01604096568, 0.015790348317, 0.015539743582, 0.015289151628, 0.015038572609, 0.014788006669, 0.014537453953, 0.014286914622, 0.01403638882, 0.013785876691, 0.013535378384, 0.013284894054, 0.013034423843, 0.012783967899, 0.012533526367, 0.012283099396, 0.012032687132, 0.011782289721, 0.011531907305, 0.01128154003, 0.011031188043, 0.010780851481, 0.010530530498, 0.010280225224, 0.010029935804, 0.0097796623835, 0.0095294051018, 0.0092791640926, 0.0090289395022, 0.0087787314617, 0.0085285401144, 0.0082783655964, 0.0080282080405, 0.0077780675825, 0.0075279443574, 0.0072778384971, 0.0070277501339, 0.0067776794014, 0.0065276264245, 0.0062775913384, 0.0060275742667, 0.0057775753403, 0.0055275946809, 0.0052776324186, 0.0050276886749, 0.0047777635692, 0.0045278572306, 0.0042779697716, 0.0040281013158, 0.0037782519792, 0.0035284218799, 0.0032786111296, 0.0030288198476, 0.0027790481426, 0.0025292961255, 0.0022795639102, 0.0020298516011, 0.001780159306, 0.0015304871309, 0.0012808351805, 0.0010312035576, 0.00078159235877, 0.00053200168926, 0.0002824316443, 3.288231987e-05], \"type\": \"scatter\", \"name\": \"HB3\", \"mode\": \"lines\"}], {\"title\": \"Bifurcation set\", \"xaxis\": {\"title\": \"V_plc\"}, \"yaxis\": {\"title\": \"lambda_3\"}}, {\"linkText\": \"Export to plot.ly\", \"showLink\": true})});</script>"
      ]
     },
     "metadata": {},
     "output_type": "display_data"
    }
   ],
   "source": [
    "tr_hom1 = Scatter(x=df_Hom_l3_H10['V_plc'],\n",
    "                  y=df_Hom_l3_H10['lambda3'],\n",
    "                  name='HB1',\n",
    "                  mode = 'lines')\n",
    "tr_hom11 = Scatter(x=df_Hom_l3_H11['V_plc'],\n",
    "                  y=df_Hom_l3_H11['lambda3'],\n",
    "                  name='HB1',\n",
    "                   mode='lines')\n",
    "tr_hom2 = Scatter(x=df_Hom_l3_H20['V_plc'],\n",
    "                  y=df_Hom_l3_H20['lambda3'],\n",
    "                  name='HB2',\n",
    "                   mode='lines')\n",
    "tr_hom21 = Scatter(x=df_Hom_l3_H21['V_plc'],\n",
    "                  y=df_Hom_l3_H21['lambda3'],\n",
    "                  name='HB2',\n",
    "                   mode='lines')\n",
    "tr_hom3 = Scatter(x=df_Hom_l3_H30['V_plc'],\n",
    "                  y=df_Hom_l3_H30['lambda3'],\n",
    "                  name='HB3',\n",
    "                   mode='lines')\n",
    "tr_hom31 = Scatter(x=df_Hom_l3_H31['V_plc'],\n",
    "                  y=df_Hom_l3_H31['lambda3'],\n",
    "                  name='HB3',\n",
    "                   mode='lines')\n",
    "data = [tr_hom11,tr_hom21,tr_hom31]\n",
    "layout = Layout(title=\"Bifurcation set\",\n",
    "               xaxis=dict(title='V_plc'),\n",
    "               yaxis=dict(title='lambda_3'))\n",
    "fig = Figure(data=data, layout=layout)\n",
    "iplot(fig)"
   ]
  },
  {
   "cell_type": "code",
   "execution_count": null,
   "metadata": {},
   "outputs": [],
   "source": [
    "tr_hom1 = Scatter(x=df_Hom_l4_H10['V_plc'],\n",
    "                  y=df_Hom_l4_H10['lambda4'],\n",
    "                  name='HB1',\n",
    "                  mode = 'lines')\n",
    "tr_hom11 = Scatter(x=df_Hom_l4_H11['V_plc'],\n",
    "                  y=df_Hom_l4_H11['lambda4'],\n",
    "                  name='HB1',\n",
    "                   mode='lines')\n",
    "tr_hom2 = Scatter(x=df_Hom_l4_H20['V_plc'],\n",
    "                  y=df_Hom_l4_H20['lambda4'],\n",
    "                  name='HB2',\n",
    "                   mode='lines')\n",
    "tr_hom21 = Scatter(x=df_Hom_l4_H21['V_plc'],\n",
    "                  y=df_Hom_l4_H21['lambda4'],\n",
    "                  name='HB2',\n",
    "                   mode='lines')\n",
    "tr_hom3 = Scatter(x=df_Hom_l4_H30['V_plc'],\n",
    "                  y=df_Hom_l4_H30['lambda4'],\n",
    "                  name='HB3',\n",
    "                   mode='lines')\n",
    "tr_hom31 = Scatter(x=df_Hom_l4_H31['V_plc'],\n",
    "                  y=df_Hom_l4_H31['lambda4'],\n",
    "                  name='HB3',\n",
    "                   mode='lines')\n",
    "data = [tr_hom11,tr_hom21,tr_hom31]\n",
    "layout = Layout(title=\"Bifurcation set\",\n",
    "               xaxis=dict(title='V_plc'),\n",
    "               yaxis=dict(title='lambda_4'))\n",
    "fig = Figure(data=data, layout=layout)\n",
    "iplot(fig)"
   ]
  },
  {
   "cell_type": "code",
   "execution_count": null,
   "metadata": {},
   "outputs": [],
   "source": [
    "tr_hom1 = Scatter(x=df_Hom_l34_H10['lambda3'],\n",
    "                  y=df_Hom_l34_H10['lambda4'],\n",
    "                  name='HB1',\n",
    "                  mode = 'lines')\n",
    "tr_hom11 = Scatter(x=df_Hom_l34_H11['lambda3'],\n",
    "                  y=df_Hom_l34_H11['lambda4'],\n",
    "                  name='HB1',\n",
    "                   mode='lines')\n",
    "tr_hom2 = Scatter(x=df_Hom_l34_H20['lambda3'],\n",
    "                  y=df_Hom_l34_H20['lambda4'],\n",
    "                  name='HB2',\n",
    "                   mode='lines')\n",
    "tr_hom21 = Scatter(x=df_Hom_l34_H21['lambda3'],\n",
    "                  y=df_Hom_l34_H21['lambda4'],\n",
    "                  name='HB2',\n",
    "                   mode='lines')\n",
    "tr_hom3 = Scatter(x=df_Hom_l34_H30['lambda3'],\n",
    "                  y=df_Hom_l34_H30['lambda4'],\n",
    "                  name='HB3',\n",
    "                   mode='lines')\n",
    "tr_hom31 = Scatter(x=df_Hom_l34_H31['lambda3'],\n",
    "                  y=df_Hom_l34_H31['lambda4'],\n",
    "                  name='HB3',\n",
    "                   mode='lines')\n",
    "data = [tr_hom1,tr_hom11,tr_hom2,tr_hom21,tr_hom3,tr_hom31]\n",
    "layout = Layout(title=\"Bifurcation set\",\n",
    "               xaxis=dict(title='lambda_3'),\n",
    "               yaxis=dict(title='lambda_4'))\n",
    "fig = Figure(data=data, layout=layout)\n",
    "iplot(fig)"
   ]
  },
  {
   "cell_type": "code",
   "execution_count": null,
   "metadata": {},
   "outputs": [],
   "source": []
  },
  {
   "cell_type": "code",
   "execution_count": null,
   "metadata": {},
   "outputs": [],
   "source": []
  },
  {
   "cell_type": "code",
   "execution_count": null,
   "metadata": {},
   "outputs": [],
   "source": [
    "Is_3 = run(e='PKC_HR_IPR',c='PKC_HR_IPR.per',dat='per6',ISW=1,PAR={1:0.6},ISP=2,EPSL= 1e-12, EPSU = 1e-12,NTST=200)\n",
    "Is_4 = run(e='PKC_HR_IPR',c='PKC_HR_IPR.per',dat='per6', DS='-',ISW=1,SP=['BP0'],PAR={1:0.6},ISP=2,EPSL= 1e-12, EPSU = 1e-12,NTST=200)\n",
    "Is2 = Is_3 + Is_4"
   ]
  },
  {
   "cell_type": "code",
   "execution_count": null,
   "metadata": {},
   "outputs": [],
   "source": [
    "Is_5 = run(e='PKC_HR_IPR',c='PKC_HR_IPR.per',dat='per3',ISW=1,PAR={1:0.3},ISP=2,EPSL= 1e-12, EPSU = 1e-12,NTST=200)\n",
    "Is_6 = run(e='PKC_HR_IPR',c='PKC_HR_IPR.per',dat='per3', DS='-',ISW=1,SP=['BP0'],PAR={1:0.3},ISP=2,EPSL= 1e-12, EPSU = 1e-12,NTST=200)\n",
    "Is3 = Is_5 + Is_6"
   ]
  },
  {
   "cell_type": "code",
   "execution_count": null,
   "metadata": {},
   "outputs": [],
   "source": [
    "#Is_3 = run(e='PKC_HR_IPR',c='PKC_HR_IPR.per',dat='per3',ISW=1,PAR={1:0.3},ISP=2,EPSL= 1e-12, EPSU = 1e-12,NTST=200)\n",
    "#Is_4 = run(e='PKC_HR_IPR',c='PKC_HR_IPR.per',dat='per3', DS='-',ISW=1,SP=['BP0'],PAR={1:0.3},ISP=2,EPSL= 1e-12, EPSU = 1e-12,NTST=200)\n",
    "#Is2 = Is_3 + Is_4"
   ]
  },
  {
   "cell_type": "code",
   "execution_count": null,
   "metadata": {},
   "outputs": [],
   "source": [
    "Is_5 = run(e='PKC_HR_IPR',c='PKC_HR_IPR.per',dat='per6',ISW=1,PAR={1:0.6},ISP=2,EPSL= 1e-12, EPSU = 1e-12,NTST=200)\n",
    "Is_6 = run(e='PKC_HR_IPR',c='PKC_HR_IPR.per',dat='per6', DS='-',ISW=1,SP=['BP0'],PAR={1:0.6},ISP=2,EPSL= 1e-12, EPSU = 1e-12,NTST=200)\n",
    "Is3 = Is_5 + Is_6"
   ]
  },
  {
   "cell_type": "code",
   "execution_count": null,
   "metadata": {},
   "outputs": [],
   "source": []
  },
  {
   "cell_type": "code",
   "execution_count": null,
   "metadata": {},
   "outputs": [],
   "source": [
    "df_Is = auto_to_csv(Is,'Is','IS')"
   ]
  },
  {
   "cell_type": "code",
   "execution_count": null,
   "metadata": {},
   "outputs": [],
   "source": [
    "df_Is2 = auto_to_csv(Is2,'Is2','IS2')"
   ]
  },
  {
   "cell_type": "code",
   "execution_count": null,
   "metadata": {},
   "outputs": [],
   "source": [
    "df_Is3 = auto_to_csv(Is3,'Is3','IS3')"
   ]
  },
  {
   "cell_type": "code",
   "execution_count": null,
   "metadata": {},
   "outputs": [],
   "source": []
  },
  {
   "cell_type": "code",
   "execution_count": null,
   "metadata": {},
   "outputs": [],
   "source": []
  },
  {
   "cell_type": "code",
   "execution_count": null,
   "metadata": {},
   "outputs": [],
   "source": [
    "trace_eq = Scatter(x=df_eq['V_plc'],\n",
    "                  y=df_eq['PAR(5)'],\n",
    "                  name='Equilibria',\n",
    "                  mode = 'lines')\n",
    "trace_per = Scatter(x=df_PR['V_plc'],\n",
    "                  y=df_PR['PAR(5)'],\n",
    "                  name='Periodic Orbit',\n",
    "                   mode='lines')\n",
    "trace_per_min = Scatter(x=df_PR['V_plc'],\n",
    "                  y=df_PR['PAR(32)'],\n",
    "                  name='Periodic Orbit',\n",
    "                   mode='lines')\n",
    "tr_is = Scatter(x=df_Is['V_plc'],\n",
    "                  y=df_Is['PAR(5)'],\n",
    "                  name='Isola',\n",
    "                  mode='lines')\n",
    "tr_is_min = Scatter(x=df_Is['V_plc'],\n",
    "                  y=df_Is['PAR(32)'],\n",
    "                  name='Isola',\n",
    "                  mode='lines')\n",
    "tr_is2 = Scatter(x=df_Is2['V_plc'],\n",
    "                  y=df_Is2['PAR(5)'],\n",
    "                  name='Isola',\n",
    "                  mode='lines')\n",
    "tr_is2_min = Scatter(x=df_Is2['V_plc'],\n",
    "                  y=df_Is2['PAR(32)'],\n",
    "                  name='Isola',\n",
    "                  mode='lines')\n",
    "tr_is3 = Scatter(x=df_Is3['V_plc'],\n",
    "                  y=df_Is3['PAR(5)'],\n",
    "                  name='Isola',\n",
    "                  mode='lines')\n",
    "tr_is3_min = Scatter(x=df_Is3['V_plc'],\n",
    "                  y=df_Is3['PAR(32)'],\n",
    "                  name='Isola',\n",
    "                  mode='lines')\n",
    "data = [trace_eq,trace_per,trace_per_min,tr_is,tr_is_min,tr_is2,tr_is2_min,tr_is3,tr_is3_min]\n",
    "# data = [trace_eq,trace_per,trace_per_min,tr_is,tr_is_min,tr_is2,tr_is2_min]\n",
    "layout = Layout(title=\"Bifurcation diagram\",\n",
    "               xaxis=dict(title='V_plc'),\n",
    "               yaxis=dict(title='[Ca]'))\n",
    "fig = Figure(data=data, layout=layout)\n",
    "iplot(fig)"
   ]
  },
  {
   "cell_type": "code",
   "execution_count": null,
   "metadata": {},
   "outputs": [],
   "source": [
    "HB12P = run(Eq('HB1'),c ='PKC_HR_IPR.eq',ISW=2,ICP=[1,2],DS=1e-3)"
   ]
  },
  {
   "cell_type": "code",
   "execution_count": null,
   "metadata": {},
   "outputs": [],
   "source": [
    "HB22P = run(Eq('HB2'),c ='PKC_HR_IPR.eq',ISW=2,ICP=[1,2],DS=1e-3,NMX=100000)"
   ]
  },
  {
   "cell_type": "code",
   "execution_count": null,
   "metadata": {
    "scrolled": true
   },
   "outputs": [],
   "source": [
    "PD2P = run(PO1('PD1'),c='PKC_HR_IPR.per',ISW=2,ICP=[1,2,11],DS=1e-4)\n",
    "PD2P1 = run(PD2P('EP1'))"
   ]
  },
  {
   "cell_type": "code",
   "execution_count": null,
   "metadata": {
    "scrolled": true
   },
   "outputs": [],
   "source": [
    "SNP2P = run(PO1('LP3'),c='PKC_HR_IPR.per',ISW=2,ICP=[1,2,11],DS=1e-4)\n",
    "SNP2P1 = run(SNP2P('EP1'))    "
   ]
  },
  {
   "cell_type": "code",
   "execution_count": null,
   "metadata": {},
   "outputs": [],
   "source": [
    "df_HB12P = auto_to_csv(HB12P,'HB12P','HB_1')\n",
    "df_HB22P = auto_to_csv(HB22P,'HB22P','HB_2')\n",
    "df_PD2P1 = auto_to_csv(PD2P1,'PD2P1','PD_1')\n",
    "df_SNP2P1 = auto_to_csv(SNP2P1,'SNP2P1','SNP_1')"
   ]
  },
  {
   "cell_type": "code",
   "execution_count": null,
   "metadata": {},
   "outputs": [],
   "source": [
    "slice1 = run(e='PKC_HR_IPR',c='PKC_HR_IPR.eq',PAR={2:0.01})"
   ]
  },
  {
   "cell_type": "code",
   "execution_count": null,
   "metadata": {},
   "outputs": [],
   "source": [
    "slicePO = run(slice1('HB1'),c='PKC_HR_IPR.per',SP=['BP0'])"
   ]
  },
  {
   "cell_type": "code",
   "execution_count": null,
   "metadata": {},
   "outputs": [],
   "source": [
    "slice2 = run(e='PKC_HR_IPR',c='PKC_HR_IPR.eq',PAR={2:0.2})"
   ]
  },
  {
   "cell_type": "code",
   "execution_count": null,
   "metadata": {},
   "outputs": [],
   "source": [
    "slicePO2 = run(slice1('HB2'),c='PKC_HR_IPR.per',SP=['BP0'])"
   ]
  },
  {
   "cell_type": "code",
   "execution_count": null,
   "metadata": {},
   "outputs": [],
   "source": [
    "slice3 = run(e='PKC_HR_IPR',c='PKC_HR_IPR.eq',PAR={2:14})"
   ]
  },
  {
   "cell_type": "code",
   "execution_count": null,
   "metadata": {},
   "outputs": [],
   "source": [
    "slicePO3 = run(slice3('HB1'),c='PKC_HR_IPR.per',SP=['BP0'])"
   ]
  },
  {
   "cell_type": "code",
   "execution_count": null,
   "metadata": {},
   "outputs": [],
   "source": [
    "slice4 = run(e='PKC_HR_IPR',c='PKC_HR_IPR.eq',PAR={2:20})"
   ]
  },
  {
   "cell_type": "code",
   "execution_count": null,
   "metadata": {},
   "outputs": [],
   "source": [
    "slicePO4 = run(slice4('HB1'),c='PKC_HR_IPR.per',SP=['BP0'])"
   ]
  },
  {
   "cell_type": "code",
   "execution_count": null,
   "metadata": {},
   "outputs": [],
   "source": []
  },
  {
   "cell_type": "code",
   "execution_count": null,
   "metadata": {},
   "outputs": [],
   "source": [
    "import pandas as pd\n",
    "import matplotlib.pyplot as plt"
   ]
  },
  {
   "cell_type": "code",
   "execution_count": null,
   "metadata": {},
   "outputs": [],
   "source": [
    "def auto_to_csv(branch,name,solution_type):\n",
    "    \"\"\" The goal of this function is to save as a csv file the results of an AUTO continuation \n",
    "        and return a panda dataframe of the data\"\"\"\n",
    "    \"\"\" Input:\n",
    "        branch: an AUTO branch solution acquired using run(blablabla)\n",
    "        name: The name of the output csv file, must be a string\n",
    "        solution_type: 'EQ' for equilibrium, 'PR' for periodic orbit, 'HB' for Hopf two parameters continuation\n",
    "            'LPPR' Limit point of periodic orbit\n",
    "        \n",
    "        Output:\n",
    "        panda dataframe of the branch solution\"\"\"\n",
    "    \n",
    "    \n",
    "    \"\"\"Relabelling the branch solution \"\"\"\n",
    "    branch = rl(branch)\n",
    "    \"\"\"Saving the branch solution\"\"\"\n",
    "    sv(branch,name)\n",
    "    \n",
    "    \"\"\"Acquire the b. file\"\"\"\n",
    "    print(\"Acquire the b. file\")\n",
    "    name_b = 'b.' + name\n",
    "    content = None\n",
    "    with open(name_b, 'r') as f:\n",
    "        content = f.readlines()\n",
    "    \n",
    "    \n",
    "    print(\"Read file\")\n",
    "    \"\"\"Read the file from the beginning of the interesting part (depends on its type)\"\"\"\n",
    "    \n",
    "    for i in range(len(content)):\n",
    "    \n",
    "        if \"PT\" in content[i]:\n",
    "            init = i\n",
    "            break\n",
    "\n",
    "\n",
    "\n",
    "            \n",
    "    content_csv = [[el for el in content[init].split(' ') if len(el) > 0 and el != '\\n']]\n",
    "    print(content_csv)\n",
    "        \n",
    "    \n",
    "        \n",
    "    print(\"Rename branch\")\n",
    "    \"\"\" Rename the branch\"\"\"\n",
    "    content_csv[0][0] = 'branch'\n",
    "    column_names = content_csv[0]\n",
    "    \n",
    "    \n",
    "    \n",
    "    print(\"Split content\")\n",
    "    \"\"\"Split and read the content\"\"\"\n",
    "    for line in content:\n",
    "        dummy = line.split(' ')\n",
    "        dummy = [el for el in dummy if len(el) > 0 and el != '\\n']\n",
    "        if dummy[0] == '0':\n",
    "            continue\n",
    "\n",
    "        for el_i, el in enumerate(dummy):\n",
    "            if el_i < 4:\n",
    "                dummy[el_i] = int(el)\n",
    "            else:\n",
    "                dummy[el_i] = float(el)\n",
    "\n",
    "        if len(dummy) > 1:\n",
    "            content_csv.append(dummy)\n",
    "        \n",
    "    # transform into panda data frame\n",
    "        \n",
    "    df = pd.DataFrame(content_csv, columns=column_names)\n",
    "    \n",
    "    # Export to csv\n",
    "    name_csv = name + '.csv'\n",
    "    df[1:-1].to_csv(name_csv)\n",
    "\n",
    "        \n",
    "    \n",
    "    \n",
    "    \n",
    "    return df[1:-1]"
   ]
  },
  {
   "cell_type": "code",
   "execution_count": null,
   "metadata": {},
   "outputs": [],
   "source": [
    "df_eq = auto_to_csv(slice1,'slice1','EQ')"
   ]
  },
  {
   "cell_type": "code",
   "execution_count": null,
   "metadata": {},
   "outputs": [],
   "source": [
    "df_PR = auto_to_csv(slicePO,'slicePO','PR')"
   ]
  },
  {
   "cell_type": "code",
   "execution_count": null,
   "metadata": {},
   "outputs": [],
   "source": []
  },
  {
   "cell_type": "code",
   "execution_count": null,
   "metadata": {},
   "outputs": [],
   "source": []
  },
  {
   "cell_type": "code",
   "execution_count": null,
   "metadata": {},
   "outputs": [],
   "source": []
  },
  {
   "cell_type": "code",
   "execution_count": null,
   "metadata": {},
   "outputs": [],
   "source": [
    "trace_eq = Scatter(x=df_eqs[8]['ct'],\n",
    "                  y=df_eqs[8]['PAR(5)'],\n",
    "                  name='Equilibria',\n",
    "                  mode = 'lines')\n",
    "trace_per = Scatter(x=df_PRs[8]['ct'],\n",
    "                  y=df_PRs[8]['PAR(5)'],\n",
    "                  name='Periodic Orbit',\n",
    "                   mode='lines')\n",
    "trace_per_min = Scatter(x=df_PRs[8]['ct'],\n",
    "                  y=df_PRs[8]['PAR(8)'],\n",
    "                  name='Periodic Orbit',\n",
    "                   mode='lines')\n",
    "data = [trace_eq,trace_per,trace_per_min]\n",
    "layout = Layout(title=\"Bifurcation diagram\",\n",
    "               xaxis=dict(title='Agonist'),\n",
    "               yaxis=dict(title='[Ca]'))\n",
    "fig = Figure(data=data, layout=layout)\n",
    "iplot(fig)"
   ]
  },
  {
   "cell_type": "code",
   "execution_count": null,
   "metadata": {},
   "outputs": [],
   "source": [
    "df_per1[1:-1].to_csv('per1.csv')"
   ]
  },
  {
   "cell_type": "code",
   "execution_count": null,
   "metadata": {},
   "outputs": [],
   "source": [
    "df_per2[1:-1].to_csv('per2.csv')"
   ]
  },
  {
   "cell_type": "code",
   "execution_count": null,
   "metadata": {},
   "outputs": [],
   "source": [
    "df_per2[1:-1]"
   ]
  },
  {
   "cell_type": "code",
   "execution_count": null,
   "metadata": {},
   "outputs": [],
   "source": []
  }
 ],
 "metadata": {
  "anaconda-cloud": {},
  "kernelspec": {
   "display_name": "Python 2",
   "language": "python",
   "name": "python2"
  },
  "language_info": {
   "codemirror_mode": {
    "name": "ipython",
    "version": 2
   },
   "file_extension": ".py",
   "mimetype": "text/x-python",
   "name": "python",
   "nbconvert_exporter": "python",
   "pygments_lexer": "ipython2",
   "version": "2.7.14"
  }
 },
 "nbformat": 4,
 "nbformat_minor": 2
}
