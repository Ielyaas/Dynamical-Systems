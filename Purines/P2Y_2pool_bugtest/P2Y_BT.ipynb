{
 "cells": [
  {
   "cell_type": "code",
   "execution_count": 1,
   "metadata": {},
   "outputs": [],
   "source": [
    "import sys, os\n",
    "import numpy as np\n",
    "\n",
    "# sys.path.insert(0, \"/Users/Shared/auto/07p/python\")\n",
    "sys.path.insert(0, \"/Users/ielyaascloete/auto/07p/python\")\n",
    "from auto import *\n"
   ]
  },
  {
   "cell_type": "code",
   "execution_count": null,
   "metadata": {},
   "outputs": [],
   "source": []
  },
  {
   "cell_type": "code",
   "execution_count": 2,
   "metadata": {
    "scrolled": true
   },
   "outputs": [
    {
     "data": {
      "text/plain": [
       "<function AUTOCommands.cl>"
      ]
     },
     "execution_count": 2,
     "metadata": {},
     "output_type": "execute_result"
    }
   ],
   "source": [
    "cl"
   ]
  },
  {
   "cell_type": "code",
   "execution_count": 3,
   "metadata": {},
   "outputs": [
    {
     "name": "stdout",
     "output_type": "stream",
     "text": [
      "2.7.16 |Anaconda, Inc.| (default, Sep 24 2019, 16:55:38) \n",
      "[GCC 4.2.1 Compatible Clang 4.0.1 (tags/RELEASE_401/final)]\n"
     ]
    }
   ],
   "source": [
    "import sys\n",
    "print(sys.version)"
   ]
  },
  {
   "cell_type": "code",
   "execution_count": 4,
   "metadata": {},
   "outputs": [
    {
     "name": "stdout",
     "output_type": "stream",
     "text": [
      "gfortran -fopenmp -O -c P2Y_BT.f90 -o P2Y_BT.o\n",
      "gfortran -fopenmp -O P2Y_BT.o -o P2Y_BT.exe /Users/ielyaascloete/auto/07p/lib/*.o\n"
     ]
    },
    {
     "name": "stderr",
     "output_type": "stream",
     "text": [
      "ld: library not found for -lSystem\n",
      "collect2: error: ld returned 1 exit status\n"
     ]
    },
    {
     "ename": "AUTORuntimeError",
     "evalue": "Error running AUTO",
     "output_type": "error",
     "traceback": [
      "\u001b[0;31m---------------------------------------------------------------------------\u001b[0m",
      "\u001b[0;31mAUTORuntimeError\u001b[0m                          Traceback (most recent call last)",
      "\u001b[0;32m<ipython-input-4-eca256ff6e5d>\u001b[0m in \u001b[0;36m<module>\u001b[0;34m()\u001b[0m\n\u001b[0;32m----> 1\u001b[0;31m \u001b[0mEq\u001b[0m \u001b[0;34m=\u001b[0m \u001b[0mrun\u001b[0m\u001b[0;34m(\u001b[0m\u001b[0me\u001b[0m\u001b[0;34m=\u001b[0m\u001b[0;34m'P2Y_BT'\u001b[0m\u001b[0;34m,\u001b[0m\u001b[0mc\u001b[0m\u001b[0;34m=\u001b[0m\u001b[0;34m'P2Y_BT.eq'\u001b[0m\u001b[0;34m)\u001b[0m\u001b[0;34m\u001b[0m\u001b[0m\n\u001b[0m",
      "\u001b[0;32m/Users/ielyaascloete/auto/07p/python/AUTOCommands.pyc\u001b[0m in \u001b[0;36mrun\u001b[0;34m(data, sv, ap, runner, templates, **kw)\u001b[0m\n\u001b[1;32m   1583\u001b[0m         \u001b[0mkw\u001b[0m\u001b[0;34m[\u001b[0m\u001b[0;34m'sv'\u001b[0m\u001b[0;34m]\u001b[0m \u001b[0;34m=\u001b[0m \u001b[0msv\u001b[0m\u001b[0;34m\u001b[0m\u001b[0m\n\u001b[1;32m   1584\u001b[0m     \u001b[0mload\u001b[0m\u001b[0;34m(\u001b[0m\u001b[0mdata\u001b[0m\u001b[0;34m,\u001b[0m\u001b[0mrunner\u001b[0m\u001b[0;34m,\u001b[0m\u001b[0mtemplates\u001b[0m\u001b[0;34m,\u001b[0m\u001b[0minfo\u001b[0m\u001b[0;34m=\u001b[0m\u001b[0;32mlambda\u001b[0m \u001b[0mmsg\u001b[0m\u001b[0;34m:\u001b[0m\u001b[0mNone\u001b[0m\u001b[0;34m,\u001b[0m\u001b[0;34m**\u001b[0m\u001b[0mkw\u001b[0m\u001b[0;34m)\u001b[0m\u001b[0;34m\u001b[0m\u001b[0m\n\u001b[0;32m-> 1585\u001b[0;31m     \u001b[0mres\u001b[0m \u001b[0;34m=\u001b[0m \u001b[0mrunner\u001b[0m\u001b[0;34m.\u001b[0m\u001b[0mrun\u001b[0m\u001b[0;34m(\u001b[0m\u001b[0;34m)\u001b[0m\u001b[0;34m\u001b[0m\u001b[0m\n\u001b[0m\u001b[1;32m   1586\u001b[0m     \u001b[0msv\u001b[0m \u001b[0;34m=\u001b[0m \u001b[0mrunner\u001b[0m\u001b[0;34m.\u001b[0m\u001b[0moptions\u001b[0m\u001b[0;34m[\u001b[0m\u001b[0;34m\"constants\"\u001b[0m\u001b[0;34m]\u001b[0m\u001b[0;34m.\u001b[0m\u001b[0mget\u001b[0m\u001b[0;34m(\u001b[0m\u001b[0;34m\"sv\"\u001b[0m\u001b[0;34m)\u001b[0m\u001b[0;34m\u001b[0m\u001b[0m\n\u001b[1;32m   1587\u001b[0m     \u001b[0mrunner\u001b[0m\u001b[0;34m.\u001b[0m\u001b[0moptions\u001b[0m\u001b[0;34m[\u001b[0m\u001b[0;34m\"constants\"\u001b[0m\u001b[0;34m]\u001b[0m\u001b[0;34m[\u001b[0m\u001b[0;34m'sv'\u001b[0m\u001b[0;34m]\u001b[0m \u001b[0;34m=\u001b[0m \u001b[0mNone\u001b[0m\u001b[0;34m\u001b[0m\u001b[0m\n",
      "\u001b[0;32m/Users/ielyaascloete/auto/07p/python/runAUTO.pyc\u001b[0m in \u001b[0;36mrun\u001b[0;34m(self)\u001b[0m\n\u001b[1;32m    363\u001b[0m                     \"The equation file argument is missing.\")\n\u001b[1;32m    364\u001b[0m             \u001b[0mequation\u001b[0m \u001b[0;34m=\u001b[0m \u001b[0mconstants\u001b[0m\u001b[0;34m[\u001b[0m\u001b[0;34m\"e\"\u001b[0m\u001b[0;34m]\u001b[0m\u001b[0;34m\u001b[0m\u001b[0m\n\u001b[0;32m--> 365\u001b[0;31m             \u001b[0;32mif\u001b[0m \u001b[0mself\u001b[0m\u001b[0;34m.\u001b[0m\u001b[0m__make\u001b[0m\u001b[0;34m(\u001b[0m\u001b[0mequation\u001b[0m\u001b[0;34m)\u001b[0m\u001b[0;34m:\u001b[0m\u001b[0;34m\u001b[0m\u001b[0m\n\u001b[0m\u001b[1;32m    366\u001b[0m                 \u001b[0mline\u001b[0m \u001b[0;34m=\u001b[0m \u001b[0;34m\"Starting %s ...\\n\"\u001b[0m\u001b[0;34m%\u001b[0m\u001b[0mequation\u001b[0m\u001b[0;34m\u001b[0m\u001b[0m\n\u001b[1;32m    367\u001b[0m                 \u001b[0msys\u001b[0m\u001b[0;34m.\u001b[0m\u001b[0mstdout\u001b[0m\u001b[0;34m.\u001b[0m\u001b[0mwrite\u001b[0m\u001b[0;34m(\u001b[0m\u001b[0mline\u001b[0m\u001b[0;34m)\u001b[0m\u001b[0;34m\u001b[0m\u001b[0m\n",
      "\u001b[0;32m/Users/ielyaascloete/auto/07p/python/runAUTO.pyc\u001b[0m in \u001b[0;36m__make\u001b[0;34m(self, equation, fcon)\u001b[0m\n\u001b[1;32m    325\u001b[0m             \u001b[0msys\u001b[0m\u001b[0;34m.\u001b[0m\u001b[0mstdout\u001b[0m\u001b[0;34m.\u001b[0m\u001b[0mwrite\u001b[0m\u001b[0;34m(\u001b[0m\u001b[0mcmd\u001b[0m\u001b[0;34m+\u001b[0m\u001b[0;34m\"\\n\"\u001b[0m\u001b[0;34m)\u001b[0m\u001b[0;34m\u001b[0m\u001b[0m\n\u001b[1;32m    326\u001b[0m             \u001b[0mcmd\u001b[0m \u001b[0;34m=\u001b[0m \u001b[0mcmd\u001b[0m\u001b[0;34m.\u001b[0m\u001b[0mreplace\u001b[0m\u001b[0;34m(\u001b[0m\u001b[0mlibs\u001b[0m\u001b[0;34m,\u001b[0m \u001b[0;34m\" \"\u001b[0m\u001b[0;34m.\u001b[0m\u001b[0mjoin\u001b[0m\u001b[0;34m(\u001b[0m\u001b[0mdeps\u001b[0m\u001b[0;34m[\u001b[0m\u001b[0;34m:\u001b[0m\u001b[0;34m-\u001b[0m\u001b[0;36m1\u001b[0m\u001b[0;34m]\u001b[0m\u001b[0;34m)\u001b[0m\u001b[0;34m)\u001b[0m\u001b[0;34m\u001b[0m\u001b[0m\n\u001b[0;32m--> 327\u001b[0;31m             \u001b[0mself\u001b[0m\u001b[0;34m.\u001b[0m\u001b[0mrunCommand\u001b[0m\u001b[0;34m(\u001b[0m\u001b[0mcmd\u001b[0m\u001b[0;34m)\u001b[0m\u001b[0;34m\u001b[0m\u001b[0m\n\u001b[0m\u001b[1;32m    328\u001b[0m         \u001b[0;32mreturn\u001b[0m \u001b[0mos\u001b[0m\u001b[0;34m.\u001b[0m\u001b[0mpath\u001b[0m\u001b[0;34m.\u001b[0m\u001b[0mexists\u001b[0m\u001b[0;34m(\u001b[0m\u001b[0mequation\u001b[0m\u001b[0;34m+\u001b[0m\u001b[0;34m'.exe'\u001b[0m\u001b[0;34m)\u001b[0m \u001b[0;32mand\u001b[0m \u001b[0;32mnot\u001b[0m \u001b[0mself\u001b[0m\u001b[0;34m.\u001b[0m\u001b[0m__newer\u001b[0m\u001b[0;34m(\u001b[0m\u001b[0mdeps\u001b[0m\u001b[0;34m,\u001b[0m\u001b[0mequation\u001b[0m\u001b[0;34m+\u001b[0m\u001b[0;34m'.exe'\u001b[0m\u001b[0;34m)\u001b[0m\u001b[0;34m\u001b[0m\u001b[0m\n\u001b[1;32m    329\u001b[0m \u001b[0;34m\u001b[0m\u001b[0m\n",
      "\u001b[0;32m/Users/ielyaascloete/auto/07p/python/runAUTO.pyc\u001b[0m in \u001b[0;36mrunCommand\u001b[0;34m(self, command, solution)\u001b[0m\n\u001b[1;32m    508\u001b[0m                         \u001b[0;32mraise\u001b[0m \u001b[0mAUTOExceptions\u001b[0m\u001b[0;34m.\u001b[0m\u001b[0mAUTORuntimeError\u001b[0m\u001b[0;34m(\u001b[0m\u001b[0msignals\u001b[0m\u001b[0;34m[\u001b[0m\u001b[0ms\u001b[0m\u001b[0;34m]\u001b[0m\u001b[0;34m)\u001b[0m\u001b[0;34m\u001b[0m\u001b[0m\n\u001b[1;32m    509\u001b[0m                 \u001b[0;32mraise\u001b[0m \u001b[0mAUTOExceptions\u001b[0m\u001b[0;34m.\u001b[0m\u001b[0mAUTORuntimeError\u001b[0m\u001b[0;34m(\u001b[0m\u001b[0;34m\"Signal %d\\n\"\u001b[0m\u001b[0;34m%\u001b[0m\u001b[0mstatus\u001b[0m\u001b[0;34m)\u001b[0m\u001b[0;34m\u001b[0m\u001b[0m\n\u001b[0;32m--> 510\u001b[0;31m             \u001b[0;32mraise\u001b[0m \u001b[0mAUTOExceptions\u001b[0m\u001b[0;34m.\u001b[0m\u001b[0mAUTORuntimeError\u001b[0m\u001b[0;34m(\u001b[0m\u001b[0;34m\"Error running AUTO\"\u001b[0m\u001b[0;34m)\u001b[0m\u001b[0;34m\u001b[0m\u001b[0m\n\u001b[0m\u001b[1;32m    511\u001b[0m \u001b[0;34m\u001b[0m\u001b[0m\n\u001b[1;32m    512\u001b[0m     \u001b[0;32mdef\u001b[0m \u001b[0m__write_constants_solution\u001b[0m\u001b[0;34m(\u001b[0m\u001b[0mself\u001b[0m\u001b[0;34m,\u001b[0m \u001b[0mf\u001b[0m\u001b[0;34m,\u001b[0m \u001b[0msolution\u001b[0m\u001b[0;34m)\u001b[0m\u001b[0;34m:\u001b[0m\u001b[0;34m\u001b[0m\u001b[0m\n",
      "\u001b[0;31mAUTORuntimeError\u001b[0m: Error running AUTO"
     ]
    }
   ],
   "source": [
    "Eq = run(e='P2Y_BT',c='P2Y_BT.eq')"
   ]
  },
  {
   "cell_type": "code",
   "execution_count": null,
   "metadata": {},
   "outputs": [],
   "source": []
  },
  {
   "cell_type": "code",
   "execution_count": null,
   "metadata": {
    "scrolled": true
   },
   "outputs": [],
   "source": [
    "PO1 = run(Eq('HB1'),c ='P2Y_BT.per',SP=['BP0'],DS=1e-3,EPSL=1e-4,EPSU=1e-6,EPSS=1e-6)"
   ]
  },
  {
   "cell_type": "code",
   "execution_count": null,
   "metadata": {},
   "outputs": [],
   "source": [
    "PO2 = run(Eq('HB2'),c ='P2Y_BT.per',SP=['BP0'],DS=1e-3,EPSL=1e-4,EPSU=1e-4,EPSS=1e-4)"
   ]
  },
  {
   "cell_type": "code",
   "execution_count": null,
   "metadata": {},
   "outputs": [],
   "source": [
    "PO = PO1 + PO2"
   ]
  },
  {
   "cell_type": "code",
   "execution_count": null,
   "metadata": {},
   "outputs": [],
   "source": []
  },
  {
   "cell_type": "code",
   "execution_count": null,
   "metadata": {},
   "outputs": [],
   "source": [
    "Hom_l1_H1 = run(Eq('HB1'),c ='P2Y_BT.eq',ISW=2,ICP=[1,12],DS=1e-3,UZSTOP={12:[0,1000]},SP=['BP0','LP0'])"
   ]
  },
  {
   "cell_type": "code",
   "execution_count": null,
   "metadata": {},
   "outputs": [],
   "source": [
    "Hom_l1_H2 = run(Eq('HB2'),c ='P2Y_BT.eq',ISW=2,ICP=[1,12],DS=1e-3,UZSTOP={12:[0,1000]},SP=['BP0','LP0'])"
   ]
  },
  {
   "cell_type": "code",
   "execution_count": null,
   "metadata": {},
   "outputs": [],
   "source": [
    "Hom_l1_H3 = run(Eq('HB3'),c ='P2Y_BT.eq',ISW=2,ICP=[1,12],DS=1e-3,UZSTOP={12:[0,1000]},SP=['BP0','LP0'])"
   ]
  },
  {
   "cell_type": "code",
   "execution_count": null,
   "metadata": {},
   "outputs": [],
   "source": [
    "Hom_l1_H4 = run(Eq('HB4'),c ='P2Y_BT.eq',ISW=2,ICP=[1,12],DS=1e-3,UZSTOP={12:[0,1000]},SP=['BP0','LP0'])"
   ]
  },
  {
   "cell_type": "code",
   "execution_count": null,
   "metadata": {},
   "outputs": [],
   "source": []
  },
  {
   "cell_type": "code",
   "execution_count": null,
   "metadata": {},
   "outputs": [],
   "source": [
    "Hom_l1_H11 = run(Eq('HB1'),c ='P2Y_BT.eq',ISW=2,ICP=[1,12],DS=-1e-3,UZSTOP={12:[0,1000]},SP=['BP0','LP0'])"
   ]
  },
  {
   "cell_type": "code",
   "execution_count": null,
   "metadata": {},
   "outputs": [],
   "source": [
    "Hom_l1_H21 = run(Eq('HB2'),c ='P2Y_BT.eq',ISW=2,ICP=[1,12],DS=-1e-3,UZSTOP={12:[0,1000]},SP=['BP0','LP0'])"
   ]
  },
  {
   "cell_type": "code",
   "execution_count": null,
   "metadata": {},
   "outputs": [],
   "source": [
    "Hom_l1_H31 = run(Eq('HB3'),c ='P2Y_BT.eq',ISW=2,ICP=[1,12],DS=-1e-3,UZSTOP={12:[0,1000]},SP=['BP0','LP0'])"
   ]
  },
  {
   "cell_type": "code",
   "execution_count": null,
   "metadata": {},
   "outputs": [],
   "source": [
    "Hom_l1_H41 = run(Eq('HB4'),c ='P2Y_BT.eq',ISW=2,ICP=[1,12],DS=-1e-3,UZSTOP={12:[0,1000]},SP=['BP0','LP0'])"
   ]
  },
  {
   "cell_type": "code",
   "execution_count": null,
   "metadata": {},
   "outputs": [],
   "source": []
  },
  {
   "cell_type": "code",
   "execution_count": null,
   "metadata": {},
   "outputs": [],
   "source": [
    "import pandas as pd\n",
    "import matplotlib.pyplot as plt"
   ]
  },
  {
   "cell_type": "code",
   "execution_count": null,
   "metadata": {},
   "outputs": [],
   "source": [
    "def auto_to_csv(branch,name,solution_type):\n",
    "    \"\"\" The goal of this function is to save as a csv file the results of an AUTO continuation \n",
    "        and return a panda dataframe of the data\"\"\"\n",
    "    \"\"\" Input:\n",
    "        branch: an AUTO branch solution acquired using run(blablabla)\n",
    "        name: The name of the output csv file, must be a string\n",
    "        solution_type: 'EQ' for equilibrium, 'PR' for periodic orbit, 'HB' for Hopf two parameters continuation\n",
    "            'LPPR' Limit point of periodic orbit\n",
    "        \n",
    "        Output:\n",
    "        panda dataframe of the branch solution\"\"\"\n",
    "    \n",
    "    \n",
    "    \"\"\"Relabelling the branch solution \"\"\"\n",
    "    branch = rl(branch)\n",
    "    \"\"\"Saving the branch solution\"\"\"\n",
    "    sv(branch,name)\n",
    "    \n",
    "    \"\"\"Acquire the b. file\"\"\"\n",
    "    print(\"Acquire the b. file\")\n",
    "    name_b = 'b.' + name\n",
    "    content = None\n",
    "    with open(name_b, 'r') as f:\n",
    "        content = f.readlines()\n",
    "    \n",
    "    \n",
    "    print(\"Read file\")\n",
    "    \"\"\"Read the file from the beginning of the interesting part (depends on its type)\"\"\"\n",
    "    \n",
    "    for i in range(len(content)):\n",
    "    \n",
    "        if \"PT\" in content[i]:\n",
    "            init = i\n",
    "            break\n",
    "\n",
    "\n",
    "\n",
    "            \n",
    "    content_csv = [[el for el in content[init].split(' ') if len(el) > 0 and el != '\\n']]\n",
    "    print(content_csv)\n",
    "        \n",
    "    \n",
    "        \n",
    "    print(\"Rename branch\")\n",
    "    \"\"\" Rename the branch\"\"\"\n",
    "    content_csv[0][0] = 'branch'\n",
    "    column_names = content_csv[0]\n",
    "    \n",
    "    \n",
    "    \n",
    "    print(\"Split content\")\n",
    "    \"\"\"Split and read the content\"\"\"\n",
    "    for line in content:\n",
    "        dummy = line.split(' ')\n",
    "        dummy = [el for el in dummy if len(el) > 0 and el != '\\n']\n",
    "        if dummy[0] == '0':\n",
    "            continue\n",
    "\n",
    "        for el_i, el in enumerate(dummy):\n",
    "            if el_i < 4:\n",
    "                dummy[el_i] = int(el)\n",
    "            else:\n",
    "                dummy[el_i] = float(el)\n",
    "\n",
    "        if len(dummy) > 1:\n",
    "            content_csv.append(dummy)\n",
    "        \n",
    "    # transform into panda data frame\n",
    "        \n",
    "    df = pd.DataFrame(content_csv, columns=column_names)\n",
    "    \n",
    "    # Export to csv\n",
    "    name_csv = name + '.csv'\n",
    "    df[1:-1].to_csv(name_csv)\n",
    "\n",
    "        \n",
    "    \n",
    "    \n",
    "    \n",
    "    return df[1:-1]"
   ]
  },
  {
   "cell_type": "code",
   "execution_count": null,
   "metadata": {},
   "outputs": [],
   "source": [
    "df_eq = auto_to_csv(Eq,'Eq','EQ')"
   ]
  },
  {
   "cell_type": "code",
   "execution_count": null,
   "metadata": {},
   "outputs": [],
   "source": [
    "df_PR = auto_to_csv(PO1,'PO1','PR')"
   ]
  },
  {
   "cell_type": "code",
   "execution_count": null,
   "metadata": {},
   "outputs": [],
   "source": []
  },
  {
   "cell_type": "code",
   "execution_count": null,
   "metadata": {},
   "outputs": [],
   "source": [
    "df_Hom_l1_H1 = auto_to_csv(Hom_l1_H1,'Hom_l1_H1','HB')"
   ]
  },
  {
   "cell_type": "code",
   "execution_count": null,
   "metadata": {},
   "outputs": [],
   "source": [
    "df_Hom_l1_H2 = auto_to_csv(Hom_l1_H2,'Hom_l1_H2','HB')"
   ]
  },
  {
   "cell_type": "code",
   "execution_count": null,
   "metadata": {},
   "outputs": [],
   "source": [
    "df_Hom_l1_H3 = auto_to_csv(Hom_l1_H3,'Hom_l1_H3','HB')"
   ]
  },
  {
   "cell_type": "code",
   "execution_count": null,
   "metadata": {},
   "outputs": [],
   "source": [
    "df_Hom_l1_H4 = auto_to_csv(Hom_l1_H4,'Hom_l1_H4','HB')"
   ]
  },
  {
   "cell_type": "code",
   "execution_count": null,
   "metadata": {},
   "outputs": [],
   "source": []
  },
  {
   "cell_type": "code",
   "execution_count": null,
   "metadata": {},
   "outputs": [],
   "source": [
    "df_Hom_l1_H11 = auto_to_csv(Hom_l1_H11,'Hom_l1_H11','HB')"
   ]
  },
  {
   "cell_type": "code",
   "execution_count": null,
   "metadata": {},
   "outputs": [],
   "source": [
    "df_Hom_l1_H21 = auto_to_csv(Hom_l1_H2,'Hom_l1_H21','HB')"
   ]
  },
  {
   "cell_type": "code",
   "execution_count": null,
   "metadata": {},
   "outputs": [],
   "source": [
    "df_Hom_l1_H31 = auto_to_csv(Hom_l1_H31,'Hom_l1_H31','HB')"
   ]
  },
  {
   "cell_type": "code",
   "execution_count": null,
   "metadata": {},
   "outputs": [],
   "source": [
    "df_Hom_l1_H41 = auto_to_csv(Hom_l1_H41,'Hom_l1_H41','HB')"
   ]
  },
  {
   "cell_type": "code",
   "execution_count": null,
   "metadata": {},
   "outputs": [],
   "source": []
  },
  {
   "cell_type": "code",
   "execution_count": null,
   "metadata": {},
   "outputs": [],
   "source": [
    "import plotly.plotly as py\n",
    "from plotly.graph_objs import *\n",
    "from plotly.offline import iplot, init_notebook_mode\n",
    "init_notebook_mode(connected=True)"
   ]
  },
  {
   "cell_type": "code",
   "execution_count": null,
   "metadata": {},
   "outputs": [],
   "source": [
    "trace_eq = Scatter(x=df_eq['V_plc'],\n",
    "                  y=df_eq['PAR(22)'],\n",
    "                  name='Equilibria',\n",
    "                  mode = 'lines')\n",
    "trace_per = Scatter(x=df_PR['V_plc'],\n",
    "                  y=df_PR['PAR(22)'],\n",
    "                  name='Periodic Orbit',\n",
    "                   mode='lines')\n",
    "trace_per_min = Scatter(x=df_PR['V_plc'],\n",
    "                  y=df_PR['PAR(32)'],\n",
    "                  name='Periodic Orbit',\n",
    "                   mode='lines')\n",
    "data = [trace_eq,trace_per,trace_per_min]\n",
    "layout = Layout(title=\"Bifurcation diagram\",\n",
    "               xaxis=dict(title='V_plc'),\n",
    "               yaxis=dict(title='[Ca]'))\n",
    "fig = Figure(data=data, layout=layout)\n",
    "iplot(fig)"
   ]
  },
  {
   "cell_type": "code",
   "execution_count": null,
   "metadata": {},
   "outputs": [],
   "source": [
    "tr_hom1 = Scatter(x=df_Hom_l1_H1['V_plc'],\n",
    "                  y=df_Hom_l1_H1['lambda1'],\n",
    "                  name='HB1',\n",
    "                  mode = 'lines')\n",
    "tr_hom11 = Scatter(x=df_Hom_l1_H11['V_plc'],\n",
    "                  y=df_Hom_l1_H11['lambda1'],\n",
    "                  name='HB1',\n",
    "                   mode='lines')\n",
    "tr_hom2 = Scatter(x=df_Hom_l1_H2['V_plc'],\n",
    "                  y=df_Hom_l1_H2['lambda1'],\n",
    "                  name='HB2',\n",
    "                   mode='lines')\n",
    "tr_hom21 = Scatter(x=df_Hom_l1_H21['V_plc'],\n",
    "                  y=df_Hom_l1_H21['lambda1'],\n",
    "                  name='HB2',\n",
    "                   mode='lines')\n",
    "tr_hom3 = Scatter(x=df_Hom_l1_H3['V_plc'],\n",
    "                  y=df_Hom_l1_H3['lambda1'],\n",
    "                  name='HB3',\n",
    "                   mode='lines')\n",
    "tr_hom31 = Scatter(x=df_Hom_l1_H31['V_plc'],\n",
    "                  y=df_Hom_l1_H31['lambda1'],\n",
    "                  name='HB3',\n",
    "                   mode='lines')\n",
    "data = [tr_hom1,tr_hom11,tr_hom2,tr_hom21,tr_hom3,tr_hom31]\n",
    "layout = Layout(title=\"Bifurcation set\",\n",
    "               xaxis=dict(title='V_plc'),\n",
    "               yaxis=dict(title='lambda_1'))\n",
    "fig = Figure(data=data, layout=layout)\n",
    "iplot(fig)"
   ]
  },
  {
   "cell_type": "code",
   "execution_count": null,
   "metadata": {},
   "outputs": [],
   "source": [
    "tr_hom4 = Scatter(x=df_Hom_l1_H4['V_plc'],\n",
    "                  y=df_Hom_l1_H4['lambda1'],\n",
    "                  name='HB4',\n",
    "                   mode='lines')\n",
    "tr_hom41 = Scatter(x=df_Hom_l1_H41['V_plc'],\n",
    "                  y=df_Hom_l1_H41['lambda1'],\n",
    "                  name='HB4',\n",
    "                   mode='lines')"
   ]
  },
  {
   "cell_type": "code",
   "execution_count": null,
   "metadata": {},
   "outputs": [],
   "source": []
  },
  {
   "cell_type": "code",
   "execution_count": null,
   "metadata": {},
   "outputs": [],
   "source": [
    "Is_3 = run(e='PKC_HR_IPR',c='PKC_HR_IPR.per',dat='per6',ISW=1,PAR={1:0.6},ISP=2,EPSL= 1e-12, EPSU = 1e-12,NTST=200)\n",
    "Is_4 = run(e='PKC_HR_IPR',c='PKC_HR_IPR.per',dat='per6', DS='-',ISW=1,SP=['BP0'],PAR={1:0.6},ISP=2,EPSL= 1e-12, EPSU = 1e-12,NTST=200)\n",
    "Is2 = Is_3 + Is_4"
   ]
  },
  {
   "cell_type": "code",
   "execution_count": null,
   "metadata": {},
   "outputs": [],
   "source": [
    "Is_5 = run(e='PKC_HR_IPR',c='PKC_HR_IPR.per',dat='per3',ISW=1,PAR={1:0.3},ISP=2,EPSL= 1e-12, EPSU = 1e-12,NTST=200)\n",
    "Is_6 = run(e='PKC_HR_IPR',c='PKC_HR_IPR.per',dat='per3', DS='-',ISW=1,SP=['BP0'],PAR={1:0.3},ISP=2,EPSL= 1e-12, EPSU = 1e-12,NTST=200)\n",
    "Is3 = Is_5 + Is_6"
   ]
  },
  {
   "cell_type": "code",
   "execution_count": null,
   "metadata": {},
   "outputs": [],
   "source": [
    "#Is_3 = run(e='PKC_HR_IPR',c='PKC_HR_IPR.per',dat='per3',ISW=1,PAR={1:0.3},ISP=2,EPSL= 1e-12, EPSU = 1e-12,NTST=200)\n",
    "#Is_4 = run(e='PKC_HR_IPR',c='PKC_HR_IPR.per',dat='per3', DS='-',ISW=1,SP=['BP0'],PAR={1:0.3},ISP=2,EPSL= 1e-12, EPSU = 1e-12,NTST=200)\n",
    "#Is2 = Is_3 + Is_4"
   ]
  },
  {
   "cell_type": "code",
   "execution_count": null,
   "metadata": {},
   "outputs": [],
   "source": [
    "Is_5 = run(e='PKC_HR_IPR',c='PKC_HR_IPR.per',dat='per6',ISW=1,PAR={1:0.6},ISP=2,EPSL= 1e-12, EPSU = 1e-12,NTST=200)\n",
    "Is_6 = run(e='PKC_HR_IPR',c='PKC_HR_IPR.per',dat='per6', DS='-',ISW=1,SP=['BP0'],PAR={1:0.6},ISP=2,EPSL= 1e-12, EPSU = 1e-12,NTST=200)\n",
    "Is3 = Is_5 + Is_6"
   ]
  },
  {
   "cell_type": "code",
   "execution_count": null,
   "metadata": {},
   "outputs": [],
   "source": []
  },
  {
   "cell_type": "code",
   "execution_count": null,
   "metadata": {},
   "outputs": [],
   "source": [
    "df_Is = auto_to_csv(Is,'Is','IS')"
   ]
  },
  {
   "cell_type": "code",
   "execution_count": null,
   "metadata": {},
   "outputs": [],
   "source": [
    "df_Is2 = auto_to_csv(Is2,'Is2','IS2')"
   ]
  },
  {
   "cell_type": "code",
   "execution_count": null,
   "metadata": {},
   "outputs": [],
   "source": [
    "df_Is3 = auto_to_csv(Is3,'Is3','IS3')"
   ]
  },
  {
   "cell_type": "code",
   "execution_count": null,
   "metadata": {},
   "outputs": [],
   "source": []
  },
  {
   "cell_type": "code",
   "execution_count": null,
   "metadata": {},
   "outputs": [],
   "source": []
  },
  {
   "cell_type": "code",
   "execution_count": null,
   "metadata": {},
   "outputs": [],
   "source": [
    "trace_eq = Scatter(x=df_eq['V_plc'],\n",
    "                  y=df_eq['PAR(5)'],\n",
    "                  name='Equilibria',\n",
    "                  mode = 'lines')\n",
    "trace_per = Scatter(x=df_PR['V_plc'],\n",
    "                  y=df_PR['PAR(5)'],\n",
    "                  name='Periodic Orbit',\n",
    "                   mode='lines')\n",
    "trace_per_min = Scatter(x=df_PR['V_plc'],\n",
    "                  y=df_PR['PAR(32)'],\n",
    "                  name='Periodic Orbit',\n",
    "                   mode='lines')\n",
    "tr_is = Scatter(x=df_Is['V_plc'],\n",
    "                  y=df_Is['PAR(5)'],\n",
    "                  name='Isola',\n",
    "                  mode='lines')\n",
    "tr_is_min = Scatter(x=df_Is['V_plc'],\n",
    "                  y=df_Is['PAR(32)'],\n",
    "                  name='Isola',\n",
    "                  mode='lines')\n",
    "tr_is2 = Scatter(x=df_Is2['V_plc'],\n",
    "                  y=df_Is2['PAR(5)'],\n",
    "                  name='Isola',\n",
    "                  mode='lines')\n",
    "tr_is2_min = Scatter(x=df_Is2['V_plc'],\n",
    "                  y=df_Is2['PAR(32)'],\n",
    "                  name='Isola',\n",
    "                  mode='lines')\n",
    "tr_is3 = Scatter(x=df_Is3['V_plc'],\n",
    "                  y=df_Is3['PAR(5)'],\n",
    "                  name='Isola',\n",
    "                  mode='lines')\n",
    "tr_is3_min = Scatter(x=df_Is3['V_plc'],\n",
    "                  y=df_Is3['PAR(32)'],\n",
    "                  name='Isola',\n",
    "                  mode='lines')\n",
    "data = [trace_eq,trace_per,trace_per_min,tr_is,tr_is_min,tr_is2,tr_is2_min,tr_is3,tr_is3_min]\n",
    "# data = [trace_eq,trace_per,trace_per_min,tr_is,tr_is_min,tr_is2,tr_is2_min]\n",
    "layout = Layout(title=\"Bifurcation diagram\",\n",
    "               xaxis=dict(title='V_plc'),\n",
    "               yaxis=dict(title='[Ca]'))\n",
    "fig = Figure(data=data, layout=layout)\n",
    "iplot(fig)"
   ]
  },
  {
   "cell_type": "code",
   "execution_count": null,
   "metadata": {},
   "outputs": [],
   "source": [
    "HB12P = run(Eq('HB1'),c ='PKC_HR_IPR.eq',ISW=2,ICP=[1,2],DS=1e-3)"
   ]
  },
  {
   "cell_type": "code",
   "execution_count": null,
   "metadata": {},
   "outputs": [],
   "source": [
    "HB22P = run(Eq('HB2'),c ='PKC_HR_IPR.eq',ISW=2,ICP=[1,2],DS=1e-3,NMX=100000)"
   ]
  },
  {
   "cell_type": "code",
   "execution_count": null,
   "metadata": {
    "scrolled": true
   },
   "outputs": [],
   "source": [
    "PD2P = run(PO1('PD1'),c='PKC_HR_IPR.per',ISW=2,ICP=[1,2,11],DS=1e-4)\n",
    "PD2P1 = run(PD2P('EP1'))"
   ]
  },
  {
   "cell_type": "code",
   "execution_count": null,
   "metadata": {
    "scrolled": true
   },
   "outputs": [],
   "source": [
    "SNP2P = run(PO1('LP3'),c='PKC_HR_IPR.per',ISW=2,ICP=[1,2,11],DS=1e-4)\n",
    "SNP2P1 = run(SNP2P('EP1'))    "
   ]
  },
  {
   "cell_type": "code",
   "execution_count": null,
   "metadata": {},
   "outputs": [],
   "source": [
    "df_HB12P = auto_to_csv(HB12P,'HB12P','HB_1')\n",
    "df_HB22P = auto_to_csv(HB22P,'HB22P','HB_2')\n",
    "df_PD2P1 = auto_to_csv(PD2P1,'PD2P1','PD_1')\n",
    "df_SNP2P1 = auto_to_csv(SNP2P1,'SNP2P1','SNP_1')"
   ]
  },
  {
   "cell_type": "code",
   "execution_count": null,
   "metadata": {},
   "outputs": [],
   "source": [
    "slice1 = run(e='PKC_HR_IPR',c='PKC_HR_IPR.eq',PAR={2:0.01})"
   ]
  },
  {
   "cell_type": "code",
   "execution_count": null,
   "metadata": {},
   "outputs": [],
   "source": [
    "slicePO = run(slice1('HB1'),c='PKC_HR_IPR.per',SP=['BP0'])"
   ]
  },
  {
   "cell_type": "code",
   "execution_count": null,
   "metadata": {},
   "outputs": [],
   "source": [
    "slice2 = run(e='PKC_HR_IPR',c='PKC_HR_IPR.eq',PAR={2:0.2})"
   ]
  },
  {
   "cell_type": "code",
   "execution_count": null,
   "metadata": {},
   "outputs": [],
   "source": [
    "slicePO2 = run(slice1('HB2'),c='PKC_HR_IPR.per',SP=['BP0'])"
   ]
  },
  {
   "cell_type": "code",
   "execution_count": null,
   "metadata": {},
   "outputs": [],
   "source": [
    "slice3 = run(e='PKC_HR_IPR',c='PKC_HR_IPR.eq',PAR={2:14})"
   ]
  },
  {
   "cell_type": "code",
   "execution_count": null,
   "metadata": {},
   "outputs": [],
   "source": [
    "slicePO3 = run(slice3('HB1'),c='PKC_HR_IPR.per',SP=['BP0'])"
   ]
  },
  {
   "cell_type": "code",
   "execution_count": null,
   "metadata": {},
   "outputs": [],
   "source": [
    "slice4 = run(e='PKC_HR_IPR',c='PKC_HR_IPR.eq',PAR={2:20})"
   ]
  },
  {
   "cell_type": "code",
   "execution_count": null,
   "metadata": {},
   "outputs": [],
   "source": [
    "slicePO4 = run(slice4('HB1'),c='PKC_HR_IPR.per',SP=['BP0'])"
   ]
  },
  {
   "cell_type": "code",
   "execution_count": null,
   "metadata": {},
   "outputs": [],
   "source": []
  },
  {
   "cell_type": "code",
   "execution_count": null,
   "metadata": {},
   "outputs": [],
   "source": [
    "import pandas as pd\n",
    "import matplotlib.pyplot as plt"
   ]
  },
  {
   "cell_type": "code",
   "execution_count": null,
   "metadata": {},
   "outputs": [],
   "source": [
    "def auto_to_csv(branch,name,solution_type):\n",
    "    \"\"\" The goal of this function is to save as a csv file the results of an AUTO continuation \n",
    "        and return a panda dataframe of the data\"\"\"\n",
    "    \"\"\" Input:\n",
    "        branch: an AUTO branch solution acquired using run(blablabla)\n",
    "        name: The name of the output csv file, must be a string\n",
    "        solution_type: 'EQ' for equilibrium, 'PR' for periodic orbit, 'HB' for Hopf two parameters continuation\n",
    "            'LPPR' Limit point of periodic orbit\n",
    "        \n",
    "        Output:\n",
    "        panda dataframe of the branch solution\"\"\"\n",
    "    \n",
    "    \n",
    "    \"\"\"Relabelling the branch solution \"\"\"\n",
    "    branch = rl(branch)\n",
    "    \"\"\"Saving the branch solution\"\"\"\n",
    "    sv(branch,name)\n",
    "    \n",
    "    \"\"\"Acquire the b. file\"\"\"\n",
    "    print(\"Acquire the b. file\")\n",
    "    name_b = 'b.' + name\n",
    "    content = None\n",
    "    with open(name_b, 'r') as f:\n",
    "        content = f.readlines()\n",
    "    \n",
    "    \n",
    "    print(\"Read file\")\n",
    "    \"\"\"Read the file from the beginning of the interesting part (depends on its type)\"\"\"\n",
    "    \n",
    "    for i in range(len(content)):\n",
    "    \n",
    "        if \"PT\" in content[i]:\n",
    "            init = i\n",
    "            break\n",
    "\n",
    "\n",
    "\n",
    "            \n",
    "    content_csv = [[el for el in content[init].split(' ') if len(el) > 0 and el != '\\n']]\n",
    "    print(content_csv)\n",
    "        \n",
    "    \n",
    "        \n",
    "    print(\"Rename branch\")\n",
    "    \"\"\" Rename the branch\"\"\"\n",
    "    content_csv[0][0] = 'branch'\n",
    "    column_names = content_csv[0]\n",
    "    \n",
    "    \n",
    "    \n",
    "    print(\"Split content\")\n",
    "    \"\"\"Split and read the content\"\"\"\n",
    "    for line in content:\n",
    "        dummy = line.split(' ')\n",
    "        dummy = [el for el in dummy if len(el) > 0 and el != '\\n']\n",
    "        if dummy[0] == '0':\n",
    "            continue\n",
    "\n",
    "        for el_i, el in enumerate(dummy):\n",
    "            if el_i < 4:\n",
    "                dummy[el_i] = int(el)\n",
    "            else:\n",
    "                dummy[el_i] = float(el)\n",
    "\n",
    "        if len(dummy) > 1:\n",
    "            content_csv.append(dummy)\n",
    "        \n",
    "    # transform into panda data frame\n",
    "        \n",
    "    df = pd.DataFrame(content_csv, columns=column_names)\n",
    "    \n",
    "    # Export to csv\n",
    "    name_csv = name + '.csv'\n",
    "    df[1:-1].to_csv(name_csv)\n",
    "\n",
    "        \n",
    "    \n",
    "    \n",
    "    \n",
    "    return df[1:-1]"
   ]
  },
  {
   "cell_type": "code",
   "execution_count": null,
   "metadata": {},
   "outputs": [],
   "source": [
    "df_eq = auto_to_csv(slice1,'slice1','EQ')"
   ]
  },
  {
   "cell_type": "code",
   "execution_count": null,
   "metadata": {},
   "outputs": [],
   "source": [
    "df_PR = auto_to_csv(slicePO,'slicePO','PR')"
   ]
  },
  {
   "cell_type": "code",
   "execution_count": null,
   "metadata": {},
   "outputs": [],
   "source": []
  },
  {
   "cell_type": "code",
   "execution_count": null,
   "metadata": {},
   "outputs": [],
   "source": []
  },
  {
   "cell_type": "code",
   "execution_count": null,
   "metadata": {},
   "outputs": [],
   "source": []
  },
  {
   "cell_type": "code",
   "execution_count": null,
   "metadata": {},
   "outputs": [],
   "source": [
    "trace_eq = Scatter(x=df_eqs[8]['ct'],\n",
    "                  y=df_eqs[8]['PAR(5)'],\n",
    "                  name='Equilibria',\n",
    "                  mode = 'lines')\n",
    "trace_per = Scatter(x=df_PRs[8]['ct'],\n",
    "                  y=df_PRs[8]['PAR(5)'],\n",
    "                  name='Periodic Orbit',\n",
    "                   mode='lines')\n",
    "trace_per_min = Scatter(x=df_PRs[8]['ct'],\n",
    "                  y=df_PRs[8]['PAR(8)'],\n",
    "                  name='Periodic Orbit',\n",
    "                   mode='lines')\n",
    "data = [trace_eq,trace_per,trace_per_min]\n",
    "layout = Layout(title=\"Bifurcation diagram\",\n",
    "               xaxis=dict(title='Agonist'),\n",
    "               yaxis=dict(title='[Ca]'))\n",
    "fig = Figure(data=data, layout=layout)\n",
    "iplot(fig)"
   ]
  },
  {
   "cell_type": "code",
   "execution_count": null,
   "metadata": {},
   "outputs": [],
   "source": [
    "df_per1[1:-1].to_csv('per1.csv')"
   ]
  },
  {
   "cell_type": "code",
   "execution_count": null,
   "metadata": {},
   "outputs": [],
   "source": [
    "df_per2[1:-1].to_csv('per2.csv')"
   ]
  },
  {
   "cell_type": "code",
   "execution_count": null,
   "metadata": {},
   "outputs": [],
   "source": [
    "df_per2[1:-1]"
   ]
  },
  {
   "cell_type": "code",
   "execution_count": null,
   "metadata": {},
   "outputs": [],
   "source": []
  }
 ],
 "metadata": {
  "anaconda-cloud": {},
  "kernelspec": {
   "display_name": "Python 2",
   "language": "python",
   "name": "python2"
  },
  "language_info": {
   "codemirror_mode": {
    "name": "ipython",
    "version": 2
   },
   "file_extension": ".py",
   "mimetype": "text/x-python",
   "name": "python",
   "nbconvert_exporter": "python",
   "pygments_lexer": "ipython2",
   "version": "2.7.16"
  }
 },
 "nbformat": 4,
 "nbformat_minor": 2
}
