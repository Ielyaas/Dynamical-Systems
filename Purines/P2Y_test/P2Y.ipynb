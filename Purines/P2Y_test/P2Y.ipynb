{
 "cells": [
  {
   "cell_type": "code",
   "execution_count": 1,
   "metadata": {},
   "outputs": [],
   "source": [
    "import sys, os\n",
    "import numpy as np\n",
    "\n",
    "sys.path.insert(0, \"/Users/Shared/auto/07p/python\")\n",
    "# sys.path.insert(0, \"/Users/ielyaascloete/auto/07p/python\")\n",
    "from auto import *\n"
   ]
  },
  {
   "cell_type": "code",
   "execution_count": null,
   "metadata": {},
   "outputs": [],
   "source": []
  },
  {
   "cell_type": "code",
   "execution_count": 2,
   "metadata": {
    "scrolled": true
   },
   "outputs": [
    {
     "data": {
      "text/plain": [
       "<function AUTOCommands.cl>"
      ]
     },
     "execution_count": 2,
     "metadata": {},
     "output_type": "execute_result"
    }
   ],
   "source": [
    "cl"
   ]
  },
  {
   "cell_type": "code",
   "execution_count": 3,
   "metadata": {},
   "outputs": [
    {
     "name": "stdout",
     "output_type": "stream",
     "text": [
      "2.7.14 |Anaconda custom (64-bit)| (default, Dec  7 2017, 11:07:58) \n",
      "[GCC 4.2.1 Compatible Clang 4.0.1 (tags/RELEASE_401/final)]\n"
     ]
    }
   ],
   "source": [
    "import sys\n",
    "print(sys.version)"
   ]
  },
  {
   "cell_type": "code",
   "execution_count": 4,
   "metadata": {},
   "outputs": [
    {
     "name": "stdout",
     "output_type": "stream",
     "text": [
      "gfortran -fopenmp -O -c P2Y.f90 -o P2Y.o\n",
      "gfortran -fopenmp -O P2Y.o -o P2Y.exe /Users/Shared/auto/07p/lib/*.o\n",
      "Starting P2Y ...\n",
      "\n",
      "  BR    PT  TY  LAB     V_plc        L2-NORM        V_pkc         switch        delta         K_tau        PAR(21)       PAR(22)    \n",
      "   1     1  EP    1   1.00000E-10   4.05086E+00   1.00000E-01   1.00000E+00   2.50000E+00   1.00000E-01   1.00000E+00   8.05296E-02\n",
      "   1   132  HB    2   6.68116E-04   3.34261E+00   1.00000E-01   1.00000E+00   2.50000E+00   1.00000E-01   9.41561E-01   9.37838E-02\n",
      "   1   434  HB    3   1.81394E-02   5.22403E-01   1.00000E-01   1.00000E+00   2.50000E+00   1.00000E-01   3.78801E-01   1.43270E-01\n",
      "   1  1486  EP    4   1.00047E+01   2.01491E+00   1.00000E-01   1.00000E+00   2.50000E+00   1.00000E-01   1.09783E-01   1.43270E-01\n",
      "\n",
      " Total Time    0.175E+00\n",
      "P2Y ... done\n"
     ]
    },
    {
     "name": "stderr",
     "output_type": "stream",
     "text": [
      "Note: The following floating-point exceptions are signalling: IEEE_UNDERFLOW_FLAG IEEE_DENORMAL\n"
     ]
    }
   ],
   "source": [
    "Eq = run(e='P2Y',c='P2Y.eq')"
   ]
  },
  {
   "cell_type": "code",
   "execution_count": null,
   "metadata": {},
   "outputs": [],
   "source": []
  },
  {
   "cell_type": "code",
   "execution_count": null,
   "metadata": {},
   "outputs": [],
   "source": [
    "HB12P = run(Eq('HB1'),c ='P2Y.eq',ISW=2,ICP=[5,6],DS=1e-3)"
   ]
  },
  {
   "cell_type": "code",
   "execution_count": null,
   "metadata": {},
   "outputs": [],
   "source": [
    "HB22P = run(Eq('HB2'),c ='P2Y.eq',ISW=2,ICP=[5,6],DS=1e-3)"
   ]
  },
  {
   "cell_type": "code",
   "execution_count": null,
   "metadata": {},
   "outputs": [],
   "source": [
    "HB12Pm = run(Eq('HB1'),c ='P2Y.eq',ISW=2,ICP=[5,6],DS=-1e-3,SP=['BP0','LP0'])"
   ]
  },
  {
   "cell_type": "code",
   "execution_count": null,
   "metadata": {},
   "outputs": [],
   "source": [
    "HB22Pm = run(Eq('HB2'),c ='P2Y.eq',ISW=2,ICP=[5,6],DS=-1e-3,SP=['BP0','LP0'])"
   ]
  },
  {
   "cell_type": "code",
   "execution_count": null,
   "metadata": {},
   "outputs": [],
   "source": [
    "Hom1 = run(Eq('HB1'),c ='P2Y.eq',ISW=2,ICP=[1,4],DS=1e-3)"
   ]
  },
  {
   "cell_type": "code",
   "execution_count": null,
   "metadata": {},
   "outputs": [],
   "source": [
    "Hom_2 = run(Eq('HB2'),c ='P2Y.eq',ISW=2,ICP=[1,4],DS=1e-3)"
   ]
  },
  {
   "cell_type": "code",
   "execution_count": null,
   "metadata": {},
   "outputs": [],
   "source": [
    "Hom1 = run(Eq('HB1'),c ='P2Y.eq',ISW=2,ICP=[1,4],DS=-1e-3)"
   ]
  },
  {
   "cell_type": "code",
   "execution_count": null,
   "metadata": {},
   "outputs": [],
   "source": []
  },
  {
   "cell_type": "code",
   "execution_count": null,
   "metadata": {},
   "outputs": [],
   "source": []
  },
  {
   "cell_type": "code",
   "execution_count": 5,
   "metadata": {},
   "outputs": [
    {
     "name": "stdout",
     "output_type": "stream",
     "text": [
      "Starting P2Y ...\n",
      "\n",
      "  BR    PT  TY  LAB     V_plc        L2-NORM        PERIOD        V_pkc         switch        delta         K_tau        PAR(21)    \n",
      "   2    10        5   6.71985E-04   3.33463E+00   5.86880E+01   1.00000E-01   1.00000E+00   2.50000E+00   1.00000E-01   9.45387E-01\n",
      "   2    20        6   6.92837E-04   3.29702E+00   1.18319E+02   1.00000E-01   1.00000E+00   2.50000E+00   1.00000E-01   9.53405E-01\n",
      "   2    30        7   7.25108E-04   3.26181E+00   1.66245E+02   1.00000E-01   1.00000E+00   2.50000E+00   1.00000E-01   9.59481E-01\n",
      "   2    40  LP    8   7.42788E-04   3.29746E+00   1.78204E+02   1.00000E-01   1.00000E+00   2.50000E+00   1.00000E-01   9.60747E-01\n",
      "   2    50        9   7.40996E-04   3.36881E+00   1.60295E+02   1.00000E-01   1.00000E+00   2.50000E+00   1.00000E-01   9.59077E-01\n",
      "   2    53  LP   10   7.40787E-04   3.38882E+00   1.53357E+02   1.00000E-01   1.00000E+00   2.50000E+00   1.00000E-01   9.58490E-01\n",
      "   2    60       11   7.55930E-04   3.43027E+00   1.25139E+02   1.00000E-01   1.00000E+00   2.50000E+00   1.00000E-01   9.55904E-01\n",
      "   2    70       12   9.21178E-04   3.38137E+00   8.14616E+01   1.00000E-01   1.00000E+00   2.50000E+00   1.00000E-01   9.44781E-01\n",
      "   2    80       13   1.16899E-03   3.29935E+00   5.94727E+01   1.00000E-01   1.00000E+00   2.50000E+00   1.00000E-01   9.29402E-01\n",
      "   2    90       14   1.49619E-03   3.20795E+00   4.62676E+01   1.00000E-01   1.00000E+00   2.50000E+00   1.00000E-01   9.09858E-01\n",
      "   2   100       15   1.91199E-03   3.11272E+00   3.76268E+01   1.00000E-01   1.00000E+00   2.50000E+00   1.00000E-01   8.86343E-01\n",
      "   2   110       16   2.43016E-03   3.01596E+00   3.16231E+01   1.00000E-01   1.00000E+00   2.50000E+00   1.00000E-01   8.59341E-01\n",
      "   2   120       17   3.06830E-03   2.91863E+00   2.72589E+01   1.00000E-01   1.00000E+00   2.50000E+00   1.00000E-01   8.29560E-01\n",
      "   2   130       18   3.84649E-03   2.82109E+00   2.39797E+01   1.00000E-01   1.00000E+00   2.50000E+00   1.00000E-01   7.97850E-01\n",
      "   2   140       19   4.78516E-03   2.72343E+00   2.14608E+01   1.00000E-01   1.00000E+00   2.50000E+00   1.00000E-01   7.65137E-01\n",
      "   2   150       20   5.90116E-03   2.62562E+00   1.95053E+01   1.00000E-01   1.00000E+00   2.50000E+00   1.00000E-01   7.32371E-01\n",
      "   2   160       21   7.20060E-03   2.52762E+00   1.79943E+01   1.00000E-01   1.00000E+00   2.50000E+00   1.00000E-01   7.00514E-01\n",
      "   2   170       22   8.66580E-03   2.42936E+00   1.68630E+01   1.00000E-01   1.00000E+00   2.50000E+00   1.00000E-01   6.70562E-01\n",
      "   2   180       23   1.02304E-02   2.33084E+00   1.60951E+01   1.00000E-01   1.00000E+00   2.50000E+00   1.00000E-01   6.43650E-01\n",
      "   2   190       24   1.17305E-02   2.23214E+00   1.57356E+01   1.00000E-01   1.00000E+00   2.50000E+00   1.00000E-01   6.21265E-01\n",
      "   2   200       25   1.28693E-02   2.13354E+00   1.58757E+01   1.00000E-01   1.00000E+00   2.50000E+00   1.00000E-01   6.04963E-01\n",
      "   2   210       26   1.35357E-02   2.03528E+00   1.63553E+01   1.00000E-01   1.00000E+00   2.50000E+00   1.00000E-01   5.92455E-01\n",
      "   2   220       27   1.39884E-02   1.93701E+00   1.67336E+01   1.00000E-01   1.00000E+00   2.50000E+00   1.00000E-01   5.78564E-01\n",
      "   2   230       28   1.43783E-02   1.83876E+00   1.68670E+01   1.00000E-01   1.00000E+00   2.50000E+00   1.00000E-01   5.63985E-01\n",
      "   2   240       29   1.47347E-02   1.74083E+00   1.69318E+01   1.00000E-01   1.00000E+00   2.50000E+00   1.00000E-01   5.51042E-01\n",
      "   2   250       30   1.50443E-02   1.64337E+00   1.70419E+01   1.00000E-01   1.00000E+00   2.50000E+00   1.00000E-01   5.40159E-01\n",
      "   2   260       31   1.52982E-02   1.54650E+00   1.72401E+01   1.00000E-01   1.00000E+00   2.50000E+00   1.00000E-01   5.31254E-01\n",
      "   2   270       32   1.54930E-02   1.45034E+00   1.75500E+01   1.00000E-01   1.00000E+00   2.50000E+00   1.00000E-01   5.24174E-01\n",
      "   2   280       33   1.56289E-02   1.35505E+00   1.79921E+01   1.00000E-01   1.00000E+00   2.50000E+00   1.00000E-01   5.18765E-01\n",
      "   2   290       34   1.57108E-02   1.26080E+00   1.85902E+01   1.00000E-01   1.00000E+00   2.50000E+00   1.00000E-01   5.14867E-01\n",
      "   2   300       35   1.57528E-02   1.16780E+00   1.93736E+01   1.00000E-01   1.00000E+00   2.50000E+00   1.00000E-01   5.12305E-01\n",
      "   2   310       36   1.57860E-02   1.07632E+00   2.03760E+01   1.00000E-01   1.00000E+00   2.50000E+00   1.00000E-01   5.10839E-01\n",
      "   2   320       37   1.58735E-02   9.86594E-01   2.16289E+01   1.00000E-01   1.00000E+00   2.50000E+00   1.00000E-01   5.10099E-01\n",
      "   2   330       38   1.61392E-02   8.98828E-01   2.31398E+01   1.00000E-01   1.00000E+00   2.50000E+00   1.00000E-01   5.09472E-01\n",
      "   2   340       39   1.68344E-02   8.13003E-01   2.48227E+01   1.00000E-01   1.00000E+00   2.50000E+00   1.00000E-01   5.07885E-01\n",
      "   2   350       40   1.85058E-02   7.28682E-01   2.62390E+01   1.00000E-01   1.00000E+00   2.50000E+00   1.00000E-01   5.03063E-01\n",
      "   2   360       41   2.19423E-02   6.45488E-01   2.59740E+01   1.00000E-01   1.00000E+00   2.50000E+00   1.00000E-01   4.89276E-01\n",
      "   2   370       42   2.53274E-02   5.67792E-01   2.25916E+01   1.00000E-01   1.00000E+00   2.50000E+00   1.00000E-01   4.59798E-01\n",
      "   2   372  LP   43   2.53756E-02   5.60890E-01   2.20388E+01   1.00000E-01   1.00000E+00   2.50000E+00   1.00000E-01   4.55835E-01\n",
      "   2   380       44   2.28331E-02   5.25072E-01   1.64990E+01   1.00000E-01   1.00000E+00   2.50000E+00   1.00000E-01   4.22903E-01\n",
      "   2   390       45   1.81988E-02   5.22397E-01   7.09897E+00   1.00000E-01   1.00000E+00   2.50000E+00   1.00000E-01   3.82660E-01\n",
      "   2   392  MX   46   1.97970E-02   5.10090E-01   7.00240E+00   1.00000E-01   1.00000E+00   2.50000E+00   1.00000E-01   3.67971E-01\n",
      "\n",
      " Total Time    0.164E+01\n",
      "P2Y ... done\n"
     ]
    },
    {
     "name": "stderr",
     "output_type": "stream",
     "text": [
      "Note: The following floating-point exceptions are signalling: IEEE_UNDERFLOW_FLAG IEEE_DENORMAL\n"
     ]
    }
   ],
   "source": [
    "PO1 = run(Eq('HB1'),c ='P2Y.per',SP=['BP0'],DS=1e-3,EPSL=1e-4,EPSU=1e-6,EPSS=1e-6,NPR=10)"
   ]
  },
  {
   "cell_type": "code",
   "execution_count": 6,
   "metadata": {},
   "outputs": [
    {
     "name": "stdout",
     "output_type": "stream",
     "text": [
      "Starting P2Y ...\n",
      "\n",
      "  BR    PT  TY  LAB     V_plc        L2-NORM        PERIOD        V_pkc         switch        delta         K_tau        PAR(21)    \n",
      "   3    10        5   1.88973E-02   5.21291E-01   9.21612E+00   1.00000E-01   1.00000E+00   2.50000E+00   1.00000E-01   3.92180E-01\n",
      "   3    20        6   2.39588E-02   5.31723E-01   1.82940E+01   1.00000E-01   1.00000E+00   2.50000E+00   1.00000E-01   4.32443E-01\n",
      "   3    26  LP    7   2.53756E-02   5.60919E-01   2.20413E+01   1.00000E-01   1.00000E+00   2.50000E+00   1.00000E-01   4.55853E-01\n",
      "   3    30        8   2.47182E-02   5.89450E-01   2.39630E+01   1.00000E-01   1.00000E+00   2.50000E+00   1.00000E-01   4.70360E-01\n",
      "   3    40        9   2.07333E-02   6.70055E-01   2.63440E+01   1.00000E-01   1.00000E+00   2.50000E+00   1.00000E-01   4.94811E-01\n",
      "   3    50       10   1.78547E-02   7.53659E-01   2.59048E+01   1.00000E-01   1.00000E+00   2.50000E+00   1.00000E-01   5.05079E-01\n",
      "   3    60       11   1.65587E-02   8.38355E-01   2.43178E+01   1.00000E-01   1.00000E+00   2.50000E+00   1.00000E-01   5.08553E-01\n",
      "   3    70       12   1.60303E-02   9.24735E-01   2.26651E+01   1.00000E-01   1.00000E+00   2.50000E+00   1.00000E-01   5.09698E-01\n",
      "   3    80       13   1.58360E-02   1.01309E+00   2.12286E+01   1.00000E-01   1.00000E+00   2.50000E+00   1.00000E-01   5.10273E-01\n",
      "   3    90       14   1.57741E-02   1.10337E+00   2.00528E+01   1.00000E-01   1.00000E+00   2.50000E+00   1.00000E-01   5.11179E-01\n",
      "   3   100       15   1.57431E-02   1.19533E+00   1.91192E+01   1.00000E-01   1.00000E+00   2.50000E+00   1.00000E-01   5.12940E-01\n",
      "   3   110       16   1.56915E-02   1.28872E+00   1.83943E+01   1.00000E-01   1.00000E+00   2.50000E+00   1.00000E-01   5.15879E-01\n",
      "   3   120       17   1.55944E-02   1.38330E+00   1.78454E+01   1.00000E-01   1.00000E+00   2.50000E+00   1.00000E-01   5.20209E-01\n",
      "   3   130       18   1.54413E-02   1.47887E+00   1.74449E+01   1.00000E-01   1.00000E+00   2.50000E+00   1.00000E-01   5.26099E-01\n",
      "   3   140       19   1.52288E-02   1.57525E+00   1.71704E+01   1.00000E-01   1.00000E+00   2.50000E+00   1.00000E-01   5.33705E-01\n",
      "   3   150       20   1.49577E-02   1.67231E+00   1.70012E+01   1.00000E-01   1.00000E+00   2.50000E+00   1.00000E-01   5.43185E-01\n",
      "   3   160       21   1.46330E-02   1.76992E+00   1.69108E+01   1.00000E-01   1.00000E+00   2.50000E+00   1.00000E-01   5.54679E-01\n",
      "   3   170       22   1.42654E-02   1.86797E+00   1.68430E+01   1.00000E-01   1.00000E+00   2.50000E+00   1.00000E-01   5.68208E-01\n",
      "   3   180       23   1.38645E-02   1.96627E+00   1.66497E+01   1.00000E-01   1.00000E+00   2.50000E+00   1.00000E-01   5.82919E-01\n",
      "   3   190       24   1.33711E-02   2.06450E+00   1.62054E+01   1.00000E-01   1.00000E+00   2.50000E+00   1.00000E-01   5.96163E-01\n",
      "   3   200       25   1.25858E-02   2.16284E+00   1.57810E+01   1.00000E-01   1.00000E+00   2.50000E+00   1.00000E-01   6.09173E-01\n",
      "   3   210       26   1.13065E-02   2.26152E+00   1.57942E+01   1.00000E-01   1.00000E+00   2.50000E+00   1.00000E-01   6.27344E-01\n",
      "   3   220       27   9.76155E-03   2.36018E+00   1.62843E+01   1.00000E-01   1.00000E+00   2.50000E+00   1.00000E-01   6.51262E-01\n",
      "   3   230       28   8.21511E-03   2.45862E+00   1.71619E+01   1.00000E-01   1.00000E+00   2.50000E+00   1.00000E-01   6.79213E-01\n",
      "   3   240       29   6.79516E-03   2.55680E+00   1.84022E+01   1.00000E-01   1.00000E+00   2.50000E+00   1.00000E-01   7.09841E-01\n",
      "   3   250       30   5.54987E-03   2.65474E+00   2.00365E+01   1.00000E-01   1.00000E+00   2.50000E+00   1.00000E-01   7.42069E-01\n",
      "   3   260       31   4.48794E-03   2.75250E+00   2.21444E+01   1.00000E-01   1.00000E+00   2.50000E+00   1.00000E-01   7.74920E-01\n",
      "   3   270       32   3.59905E-03   2.85013E+00   2.48644E+01   1.00000E-01   1.00000E+00   2.50000E+00   1.00000E-01   8.07434E-01\n",
      "   3   280       33   2.86472E-03   2.94762E+00   2.84247E+01   1.00000E-01   1.00000E+00   2.50000E+00   1.00000E-01   8.38664E-01\n",
      "   3   290       34   2.26429E-03   3.04484E+00   3.32044E+01   1.00000E-01   1.00000E+00   2.50000E+00   1.00000E-01   8.67702E-01\n",
      "   3   300       35   1.77827E-03   3.14129E+00   3.98597E+01   1.00000E-01   1.00000E+00   2.50000E+00   1.00000E-01   8.93731E-01\n",
      "   3   310       36   1.39008E-03   3.23571E+00   4.95935E+01   1.00000E-01   1.00000E+00   2.50000E+00   1.00000E-01   9.16103E-01\n",
      "   3   320       37   1.08725E-03   3.32514E+00   6.47958E+01   1.00000E-01   1.00000E+00   2.50000E+00   1.00000E-01   9.34415E-01\n",
      "   3   330       38   8.62167E-04   3.40205E+00   9.10636E+01   1.00000E-01   1.00000E+00   2.50000E+00   1.00000E-01   9.48560E-01\n",
      "   3   340       39   7.42139E-04   3.41739E+00   1.40574E+02   1.00000E-01   1.00000E+00   2.50000E+00   1.00000E-01   9.57457E-01\n",
      "   3   345  LP   40   7.40787E-04   3.38882E+00   1.53359E+02   1.00000E-01   1.00000E+00   2.50000E+00   1.00000E-01   9.58489E-01\n",
      "   3   350       41   7.41393E-04   3.35232E+00   1.65346E+02   1.00000E-01   1.00000E+00   2.50000E+00   1.00000E-01   9.59522E-01\n",
      "   3   358  LP   42   7.42788E-04   3.29746E+00   1.78204E+02   1.00000E-01   1.00000E+00   2.50000E+00   1.00000E-01   9.60747E-01\n",
      "   3   360       43   7.42487E-04   3.28415E+00   1.80012E+02   1.00000E-01   1.00000E+00   2.50000E+00   1.00000E-01   9.60944E-01\n",
      "   3   370       44   7.17088E-04   3.26735E+00   1.56704E+02   1.00000E-01   1.00000E+00   2.50000E+00   1.00000E-01   9.58355E-01\n",
      "   3   380       45   6.86068E-04   3.30803E+00   1.03511E+02   1.00000E-01   1.00000E+00   2.50000E+00   1.00000E-01   9.51393E-01\n",
      "   3   389  LP   46   6.68118E-04   3.34260E+00   4.48610E+01   1.00000E-01   1.00000E+00   2.50000E+00   1.00000E-01   9.41661E-01\n",
      "   3   390       47   6.69998E-04   3.33873E+00   5.09913E+01   1.00000E-01   1.00000E+00   2.50000E+00   1.00000E-01   9.44195E-01\n",
      "   3   400       48   6.97700E-04   3.28980E+00   1.27529E+02   1.00000E-01   1.00000E+00   2.50000E+00   1.00000E-01   9.54638E-01\n",
      "   3   410       49   7.30729E-04   3.26009E+00   1.72184E+02   1.00000E-01   1.00000E+00   2.50000E+00   1.00000E-01   9.60150E-01\n",
      "   3   419  LP   50   7.42788E-04   3.29750E+00   1.78198E+02   1.00000E-01   1.00000E+00   2.50000E+00   1.00000E-01   9.60749E-01\n",
      "   3   420       51   7.42738E-04   3.30435E+00   1.76982E+02   1.00000E-01   1.00000E+00   2.50000E+00   1.00000E-01   9.60626E-01\n",
      "   3   430       52   7.40877E-04   3.37617E+00   1.57859E+02   1.00000E-01   1.00000E+00   2.50000E+00   1.00000E-01   9.58868E-01\n",
      "   3   432  LP   53   7.40787E-04   3.38881E+00   1.53362E+02   1.00000E-01   1.00000E+00   2.50000E+00   1.00000E-01   9.58486E-01\n",
      "   3   440       54   7.66672E-04   3.43001E+00   1.19029E+02   1.00000E-01   1.00000E+00   2.50000E+00   1.00000E-01   9.55050E-01\n",
      "   3   450       55   9.42494E-04   3.37391E+00   7.86457E+01   1.00000E-01   1.00000E+00   2.50000E+00   1.00000E-01   9.43433E-01\n",
      "   3   460       56   1.19797E-03   3.29052E+00   5.78598E+01   1.00000E-01   1.00000E+00   2.50000E+00   1.00000E-01   9.27638E-01\n",
      "   3   470       57   1.53351E-03   3.19857E+00   4.52430E+01   1.00000E-01   1.00000E+00   2.50000E+00   1.00000E-01   9.07683E-01\n",
      "   3   480       58   1.95884E-03   3.10311E+00   3.69307E+01   1.00000E-01   1.00000E+00   2.50000E+00   1.00000E-01   8.83795E-01\n",
      "   3   490       59   2.48814E-03   3.00626E+00   3.11255E+01   1.00000E-01   1.00000E+00   2.50000E+00   1.00000E-01   8.56481E-01\n",
      "   3   500       60   3.13932E-03   2.90890E+00   2.68896E+01   1.00000E-01   1.00000E+00   2.50000E+00   1.00000E-01   8.26468E-01\n",
      "   3   510       61   3.93263E-03   2.81135E+00   2.36982E+01   1.00000E-01   1.00000E+00   2.50000E+00   1.00000E-01   7.94616E-01\n",
      "   3   520       62   4.88835E-03   2.71367E+00   2.12428E+01   1.00000E-01   1.00000E+00   2.50000E+00   1.00000E-01   7.61854E-01\n",
      "   3   530       63   6.02264E-03   2.61585E+00   1.93360E+01   1.00000E-01   1.00000E+00   2.50000E+00   1.00000E-01   7.29135E-01\n",
      "   3   540       64   7.33997E-03   2.51782E+00   1.78650E+01   1.00000E-01   1.00000E+00   2.50000E+00   1.00000E-01   6.97422E-01\n",
      "   3   550       65   8.81919E-03   2.41954E+00   1.67698E+01   1.00000E-01   1.00000E+00   2.50000E+00   1.00000E-01   6.67720E-01\n"
     ]
    },
    {
     "name": "stdout",
     "output_type": "stream",
     "text": [
      "   3   560       66   1.03869E-02   2.32100E+00   1.60394E+01   1.00000E-01   1.00000E+00   2.50000E+00   1.00000E-01   6.41184E-01\n",
      "   3   570       67   1.18659E-02   2.22229E+00   1.57260E+01   1.00000E-01   1.00000E+00   2.50000E+00   1.00000E-01   6.19351E-01\n",
      "   3   580       68   1.29537E-02   2.12372E+00   1.59156E+01   1.00000E-01   1.00000E+00   2.50000E+00   1.00000E-01   6.03645E-01\n",
      "   3   590       69   1.35868E-02   2.02548E+00   1.64036E+01   1.00000E-01   1.00000E+00   2.50000E+00   1.00000E-01   5.91175E-01\n",
      "   3   600       70   1.40288E-02   1.92720E+00   1.67559E+01   1.00000E-01   1.00000E+00   2.50000E+00   1.00000E-01   5.77084E-01\n",
      "   3   610       71   1.44156E-02   1.82897E+00   1.68737E+01   1.00000E-01   1.00000E+00   2.50000E+00   1.00000E-01   5.62604E-01\n",
      "   3   620       72   1.47679E-02   1.73108E+00   1.69397E+01   1.00000E-01   1.00000E+00   2.50000E+00   1.00000E-01   5.49864E-01\n",
      "   3   630       73   1.50722E-02   1.63367E+00   1.70572E+01   1.00000E-01   1.00000E+00   2.50000E+00   1.00000E-01   5.39184E-01\n",
      "   3   640       74   1.53203E-02   1.53687E+00   1.72657E+01   1.00000E-01   1.00000E+00   2.50000E+00   1.00000E-01   5.30468E-01\n",
      "   3   650       75   1.55091E-02   1.44079E+00   1.75878E+01   1.00000E-01   1.00000E+00   2.50000E+00   1.00000E-01   5.23562E-01\n",
      "   3   660       76   1.56393E-02   1.34559E+00   1.80443E+01   1.00000E-01   1.00000E+00   2.50000E+00   1.00000E-01   5.18311E-01\n",
      "   3   670       77   1.57165E-02   1.25145E+00   1.86595E+01   1.00000E-01   1.00000E+00   2.50000E+00   1.00000E-01   5.14555E-01\n",
      "   3   680       78   1.57558E-02   1.15860E+00   1.94632E+01   1.00000E-01   1.00000E+00   2.50000E+00   1.00000E-01   5.12114E-01\n",
      "   3   690       79   1.57908E-02   1.06728E+00   2.04894E+01   1.00000E-01   1.00000E+00   2.50000E+00   1.00000E-01   5.10740E-01\n",
      "   3   700       80   1.58892E-02   9.77746E-01   2.17684E+01   1.00000E-01   1.00000E+00   2.50000E+00   1.00000E-01   5.10044E-01\n",
      "   3   710       81   1.61835E-02   8.90179E-01   2.33030E+01   1.00000E-01   1.00000E+00   2.50000E+00   1.00000E-01   5.09381E-01\n",
      "   3   720       82   1.69444E-02   8.04532E-01   2.49893E+01   1.00000E-01   1.00000E+00   2.50000E+00   1.00000E-01   5.07606E-01\n",
      "   3   730       83   1.87611E-02   7.20321E-01   2.63215E+01   1.00000E-01   1.00000E+00   2.50000E+00   1.00000E-01   5.02227E-01\n",
      "   3   740       84   2.23663E-02   6.37317E-01   2.57871E+01   1.00000E-01   1.00000E+00   2.50000E+00   1.00000E-01   4.87102E-01\n",
      "   3   750       85   2.53756E-02   5.61093E-01   2.20561E+01   1.00000E-01   1.00000E+00   2.50000E+00   1.00000E-01   4.55957E-01\n",
      "   3   751  LP   86   2.53756E-02   5.60877E-01   2.20377E+01   1.00000E-01   1.00000E+00   2.50000E+00   1.00000E-01   4.55827E-01\n",
      "   3   760       87   2.23054E-02   5.23074E-01   1.56691E+01   1.00000E-01   1.00000E+00   2.50000E+00   1.00000E-01   4.18784E-01\n",
      "   3   770       88   1.98047E-02   5.10038E-01   6.93279E+00   1.00000E-01   1.00000E+00   2.50000E+00   1.00000E-01   3.67923E-01\n",
      "   3   771  MX   89   1.98047E-02   5.10038E-01   6.93279E+00   1.00000E-01   1.00000E+00   2.50000E+00   1.00000E-01   3.67923E-01\n",
      "\n",
      " Total Time    0.299E+01\n",
      "P2Y ... done\n"
     ]
    },
    {
     "name": "stderr",
     "output_type": "stream",
     "text": [
      "Note: The following floating-point exceptions are signalling: IEEE_UNDERFLOW_FLAG IEEE_DENORMAL\n"
     ]
    }
   ],
   "source": [
    "PO2 = run(Eq('HB2'),c ='P2Y.per',SP=['BP0'],DS=1e-3,EPSL=1e-4,EPSU=1e-4,EPSS=1e-4,NPR=10)"
   ]
  },
  {
   "cell_type": "code",
   "execution_count": null,
   "metadata": {},
   "outputs": [],
   "source": [
    "PO = PO1 + PO2"
   ]
  },
  {
   "cell_type": "code",
   "execution_count": null,
   "metadata": {},
   "outputs": [],
   "source": [
    "Is_1 = run(e='P2Y',c='P2Y.per',dat='p2y_per09',ISW=1,PAR={1:0.09},ISP=2,EPSL= 1e-12, EPSU = 1e-12,NTST=200)\n",
    "Is_2 = run(e='P2Y',c='P2Y.per',dat='p2y_per09', DS='-',ISW=1,SP=['BP0'],PAR={1:0.09},ISP=2,EPSL= 1e-12, EPSU = 1e-12,NTST=200)\n",
    "Is = Is_1 + Is_2"
   ]
  },
  {
   "cell_type": "code",
   "execution_count": null,
   "metadata": {},
   "outputs": [],
   "source": [
    "import pandas as pd\n",
    "import matplotlib.pyplot as plt"
   ]
  },
  {
   "cell_type": "code",
   "execution_count": null,
   "metadata": {},
   "outputs": [],
   "source": [
    "def auto_to_csv(branch,name,solution_type):\n",
    "    \"\"\" The goal of this function is to save as a csv file the results of an AUTO continuation \n",
    "        and return a panda dataframe of the data\"\"\"\n",
    "    \"\"\" Input:\n",
    "        branch: an AUTO branch solution acquired using run(blablabla)\n",
    "        name: The name of the output csv file, must be a string\n",
    "        solution_type: 'EQ' for equilibrium, 'PR' for periodic orbit, 'HB' for Hopf two parameters continuation\n",
    "            'LPPR' Limit point of periodic orbit\n",
    "        \n",
    "        Output:\n",
    "        panda dataframe of the branch solution\"\"\"\n",
    "    \n",
    "    \n",
    "    \"\"\"Relabelling the branch solution \"\"\"\n",
    "    branch = rl(branch)\n",
    "    \"\"\"Saving the branch solution\"\"\"\n",
    "    sv(branch,name)\n",
    "    \n",
    "    \"\"\"Acquire the b. file\"\"\"\n",
    "    print(\"Acquire the b. file\")\n",
    "    name_b = 'b.' + name\n",
    "    content = None\n",
    "    with open(name_b, 'r') as f:\n",
    "        content = f.readlines()\n",
    "    \n",
    "    \n",
    "    print(\"Read file\")\n",
    "    \"\"\"Read the file from the beginning of the interesting part (depends on its type)\"\"\"\n",
    "    \n",
    "    for i in range(len(content)):\n",
    "    \n",
    "        if \"PT\" in content[i]:\n",
    "            init = i\n",
    "            break\n",
    "\n",
    "\n",
    "\n",
    "            \n",
    "    content_csv = [[el for el in content[init].split(' ') if len(el) > 0 and el != '\\n']]\n",
    "    print(content_csv)\n",
    "        \n",
    "    \n",
    "        \n",
    "    print(\"Rename branch\")\n",
    "    \"\"\" Rename the branch\"\"\"\n",
    "    content_csv[0][0] = 'branch'\n",
    "    column_names = content_csv[0]\n",
    "    \n",
    "    \n",
    "    \n",
    "    print(\"Split content\")\n",
    "    \"\"\"Split and read the content\"\"\"\n",
    "    for line in content:\n",
    "        dummy = line.split(' ')\n",
    "        dummy = [el for el in dummy if len(el) > 0 and el != '\\n']\n",
    "        if dummy[0] == '0':\n",
    "            continue\n",
    "\n",
    "        for el_i, el in enumerate(dummy):\n",
    "            if el_i < 4:\n",
    "                dummy[el_i] = int(el)\n",
    "            else:\n",
    "                dummy[el_i] = float(el)\n",
    "\n",
    "        if len(dummy) > 1:\n",
    "            content_csv.append(dummy)\n",
    "        \n",
    "    # transform into panda data frame\n",
    "        \n",
    "    df = pd.DataFrame(content_csv, columns=column_names)\n",
    "    \n",
    "    # Export to csv\n",
    "    name_csv = name + '.csv'\n",
    "    df[1:-1].to_csv(name_csv)\n",
    "\n",
    "        \n",
    "    \n",
    "    \n",
    "    \n",
    "    return df[1:-1]"
   ]
  },
  {
   "cell_type": "code",
   "execution_count": null,
   "metadata": {},
   "outputs": [],
   "source": [
    "df_eq = auto_to_csv(Eq,'Eq','EQ')"
   ]
  },
  {
   "cell_type": "code",
   "execution_count": null,
   "metadata": {},
   "outputs": [],
   "source": [
    "df_PR = auto_to_csv(PO,'PO','PR')"
   ]
  },
  {
   "cell_type": "code",
   "execution_count": null,
   "metadata": {},
   "outputs": [],
   "source": []
  },
  {
   "cell_type": "code",
   "execution_count": null,
   "metadata": {},
   "outputs": [],
   "source": [
    "df_HB12P = auto_to_csv(HB12P,'HB12P','HB')"
   ]
  },
  {
   "cell_type": "code",
   "execution_count": null,
   "metadata": {},
   "outputs": [],
   "source": [
    "df_HB22P = auto_to_csv(HB22P,'HB22P','HB')"
   ]
  },
  {
   "cell_type": "code",
   "execution_count": null,
   "metadata": {},
   "outputs": [],
   "source": [
    "df_HB12Pm = auto_to_csv(HB12Pm,'HB12Pm','HB')"
   ]
  },
  {
   "cell_type": "code",
   "execution_count": null,
   "metadata": {},
   "outputs": [],
   "source": [
    "df_HB22Pm = auto_to_csv(HB22Pm,'HB22Pm','HB')"
   ]
  },
  {
   "cell_type": "code",
   "execution_count": null,
   "metadata": {},
   "outputs": [],
   "source": [
    "df_Hom1 = auto_to_csv(Hom1,'Hom1','HB')"
   ]
  },
  {
   "cell_type": "code",
   "execution_count": null,
   "metadata": {},
   "outputs": [],
   "source": [
    "df_Hom_2 = auto_to_csv(Hom_2,'Hom_2','HB')"
   ]
  },
  {
   "cell_type": "code",
   "execution_count": null,
   "metadata": {},
   "outputs": [],
   "source": []
  },
  {
   "cell_type": "code",
   "execution_count": null,
   "metadata": {},
   "outputs": [],
   "source": [
    "import plotly.plotly as py\n",
    "from plotly.graph_objs import *\n",
    "from plotly.offline import iplot, init_notebook_mode\n",
    "init_notebook_mode(connected=True)"
   ]
  },
  {
   "cell_type": "code",
   "execution_count": null,
   "metadata": {},
   "outputs": [],
   "source": [
    "trace_eq = Scatter(x=df_eq['V_plc'],\n",
    "                  y=df_eq['PAR(22)'],\n",
    "                  name='Equilibria',\n",
    "                  mode = 'lines')\n",
    "trace_per = Scatter(x=df_PR['V_plc'],\n",
    "                  y=df_PR['PAR(22)'],\n",
    "                  name='Periodic Orbit',\n",
    "                   mode='lines')\n",
    "trace_per_min = Scatter(x=df_PR['V_plc'],\n",
    "                  y=df_PR['PAR(32)'],\n",
    "                  name='Periodic Orbit',\n",
    "                   mode='lines')\n",
    "data = [trace_eq,trace_per,trace_per_min]\n",
    "layout = Layout(title=\"Bifurcation diagram\",\n",
    "               xaxis=dict(title='V_plc'),\n",
    "               yaxis=dict(title='[Ca]'))\n",
    "fig = Figure(data=data, layout=layout)\n",
    "iplot(fig)"
   ]
  },
  {
   "cell_type": "code",
   "execution_count": null,
   "metadata": {},
   "outputs": [],
   "source": []
  },
  {
   "cell_type": "code",
   "execution_count": null,
   "metadata": {},
   "outputs": [],
   "source": [
    "Is_3 = run(e='PKC_HR_IPR',c='PKC_HR_IPR.per',dat='per6',ISW=1,PAR={1:0.6},ISP=2,EPSL= 1e-12, EPSU = 1e-12,NTST=200)\n",
    "Is_4 = run(e='PKC_HR_IPR',c='PKC_HR_IPR.per',dat='per6', DS='-',ISW=1,SP=['BP0'],PAR={1:0.6},ISP=2,EPSL= 1e-12, EPSU = 1e-12,NTST=200)\n",
    "Is2 = Is_3 + Is_4"
   ]
  },
  {
   "cell_type": "code",
   "execution_count": null,
   "metadata": {},
   "outputs": [],
   "source": [
    "Is_5 = run(e='PKC_HR_IPR',c='PKC_HR_IPR.per',dat='per3',ISW=1,PAR={1:0.3},ISP=2,EPSL= 1e-12, EPSU = 1e-12,NTST=200)\n",
    "Is_6 = run(e='PKC_HR_IPR',c='PKC_HR_IPR.per',dat='per3', DS='-',ISW=1,SP=['BP0'],PAR={1:0.3},ISP=2,EPSL= 1e-12, EPSU = 1e-12,NTST=200)\n",
    "Is3 = Is_5 + Is_6"
   ]
  },
  {
   "cell_type": "code",
   "execution_count": null,
   "metadata": {},
   "outputs": [],
   "source": [
    "#Is_3 = run(e='PKC_HR_IPR',c='PKC_HR_IPR.per',dat='per3',ISW=1,PAR={1:0.3},ISP=2,EPSL= 1e-12, EPSU = 1e-12,NTST=200)\n",
    "#Is_4 = run(e='PKC_HR_IPR',c='PKC_HR_IPR.per',dat='per3', DS='-',ISW=1,SP=['BP0'],PAR={1:0.3},ISP=2,EPSL= 1e-12, EPSU = 1e-12,NTST=200)\n",
    "#Is2 = Is_3 + Is_4"
   ]
  },
  {
   "cell_type": "code",
   "execution_count": null,
   "metadata": {},
   "outputs": [],
   "source": [
    "Is_5 = run(e='PKC_HR_IPR',c='PKC_HR_IPR.per',dat='per6',ISW=1,PAR={1:0.6},ISP=2,EPSL= 1e-12, EPSU = 1e-12,NTST=200)\n",
    "Is_6 = run(e='PKC_HR_IPR',c='PKC_HR_IPR.per',dat='per6', DS='-',ISW=1,SP=['BP0'],PAR={1:0.6},ISP=2,EPSL= 1e-12, EPSU = 1e-12,NTST=200)\n",
    "Is3 = Is_5 + Is_6"
   ]
  },
  {
   "cell_type": "code",
   "execution_count": null,
   "metadata": {},
   "outputs": [],
   "source": []
  },
  {
   "cell_type": "code",
   "execution_count": null,
   "metadata": {},
   "outputs": [],
   "source": [
    "df_Is = auto_to_csv(Is,'Is','IS')"
   ]
  },
  {
   "cell_type": "code",
   "execution_count": null,
   "metadata": {},
   "outputs": [],
   "source": [
    "df_Is2 = auto_to_csv(Is2,'Is2','IS2')"
   ]
  },
  {
   "cell_type": "code",
   "execution_count": null,
   "metadata": {},
   "outputs": [],
   "source": [
    "df_Is3 = auto_to_csv(Is3,'Is3','IS3')"
   ]
  },
  {
   "cell_type": "code",
   "execution_count": null,
   "metadata": {},
   "outputs": [],
   "source": []
  },
  {
   "cell_type": "code",
   "execution_count": null,
   "metadata": {},
   "outputs": [],
   "source": []
  },
  {
   "cell_type": "code",
   "execution_count": null,
   "metadata": {},
   "outputs": [],
   "source": [
    "trace_eq = Scatter(x=df_eq['V_plc'],\n",
    "                  y=df_eq['PAR(5)'],\n",
    "                  name='Equilibria',\n",
    "                  mode = 'lines')\n",
    "trace_per = Scatter(x=df_PR['V_plc'],\n",
    "                  y=df_PR['PAR(5)'],\n",
    "                  name='Periodic Orbit',\n",
    "                   mode='lines')\n",
    "trace_per_min = Scatter(x=df_PR['V_plc'],\n",
    "                  y=df_PR['PAR(32)'],\n",
    "                  name='Periodic Orbit',\n",
    "                   mode='lines')\n",
    "tr_is = Scatter(x=df_Is['V_plc'],\n",
    "                  y=df_Is['PAR(5)'],\n",
    "                  name='Isola',\n",
    "                  mode='lines')\n",
    "tr_is_min = Scatter(x=df_Is['V_plc'],\n",
    "                  y=df_Is['PAR(32)'],\n",
    "                  name='Isola',\n",
    "                  mode='lines')\n",
    "tr_is2 = Scatter(x=df_Is2['V_plc'],\n",
    "                  y=df_Is2['PAR(5)'],\n",
    "                  name='Isola',\n",
    "                  mode='lines')\n",
    "tr_is2_min = Scatter(x=df_Is2['V_plc'],\n",
    "                  y=df_Is2['PAR(32)'],\n",
    "                  name='Isola',\n",
    "                  mode='lines')\n",
    "tr_is3 = Scatter(x=df_Is3['V_plc'],\n",
    "                  y=df_Is3['PAR(5)'],\n",
    "                  name='Isola',\n",
    "                  mode='lines')\n",
    "tr_is3_min = Scatter(x=df_Is3['V_plc'],\n",
    "                  y=df_Is3['PAR(32)'],\n",
    "                  name='Isola',\n",
    "                  mode='lines')\n",
    "data = [trace_eq,trace_per,trace_per_min,tr_is,tr_is_min,tr_is2,tr_is2_min,tr_is3,tr_is3_min]\n",
    "# data = [trace_eq,trace_per,trace_per_min,tr_is,tr_is_min,tr_is2,tr_is2_min]\n",
    "layout = Layout(title=\"Bifurcation diagram\",\n",
    "               xaxis=dict(title='V_plc'),\n",
    "               yaxis=dict(title='[Ca]'))\n",
    "fig = Figure(data=data, layout=layout)\n",
    "iplot(fig)"
   ]
  },
  {
   "cell_type": "code",
   "execution_count": null,
   "metadata": {},
   "outputs": [],
   "source": [
    "HB12P = run(Eq('HB1'),c ='PKC_HR_IPR.eq',ISW=2,ICP=[1,2],DS=1e-3)"
   ]
  },
  {
   "cell_type": "code",
   "execution_count": null,
   "metadata": {},
   "outputs": [],
   "source": [
    "HB22P = run(Eq('HB2'),c ='PKC_HR_IPR.eq',ISW=2,ICP=[1,2],DS=1e-3,NMX=100000)"
   ]
  },
  {
   "cell_type": "code",
   "execution_count": null,
   "metadata": {
    "scrolled": true
   },
   "outputs": [],
   "source": [
    "PD2P = run(PO1('PD1'),c='PKC_HR_IPR.per',ISW=2,ICP=[1,2,11],DS=1e-4)\n",
    "PD2P1 = run(PD2P('EP1'))"
   ]
  },
  {
   "cell_type": "code",
   "execution_count": null,
   "metadata": {
    "scrolled": true
   },
   "outputs": [],
   "source": [
    "SNP2P = run(PO1('LP3'),c='PKC_HR_IPR.per',ISW=2,ICP=[1,2,11],DS=1e-4)\n",
    "SNP2P1 = run(SNP2P('EP1'))    "
   ]
  },
  {
   "cell_type": "code",
   "execution_count": null,
   "metadata": {},
   "outputs": [],
   "source": [
    "df_HB12P = auto_to_csv(HB12P,'HB12P','HB_1')\n",
    "df_HB22P = auto_to_csv(HB22P,'HB22P','HB_2')\n",
    "df_PD2P1 = auto_to_csv(PD2P1,'PD2P1','PD_1')\n",
    "df_SNP2P1 = auto_to_csv(SNP2P1,'SNP2P1','SNP_1')"
   ]
  },
  {
   "cell_type": "code",
   "execution_count": null,
   "metadata": {},
   "outputs": [],
   "source": [
    "slice1 = run(e='PKC_HR_IPR',c='PKC_HR_IPR.eq',PAR={2:0.01})"
   ]
  },
  {
   "cell_type": "code",
   "execution_count": null,
   "metadata": {},
   "outputs": [],
   "source": [
    "slicePO = run(slice1('HB1'),c='PKC_HR_IPR.per',SP=['BP0'])"
   ]
  },
  {
   "cell_type": "code",
   "execution_count": null,
   "metadata": {},
   "outputs": [],
   "source": [
    "slice2 = run(e='PKC_HR_IPR',c='PKC_HR_IPR.eq',PAR={2:0.2})"
   ]
  },
  {
   "cell_type": "code",
   "execution_count": null,
   "metadata": {},
   "outputs": [],
   "source": [
    "slicePO2 = run(slice1('HB2'),c='PKC_HR_IPR.per',SP=['BP0'])"
   ]
  },
  {
   "cell_type": "code",
   "execution_count": null,
   "metadata": {},
   "outputs": [],
   "source": [
    "slice3 = run(e='PKC_HR_IPR',c='PKC_HR_IPR.eq',PAR={2:14})"
   ]
  },
  {
   "cell_type": "code",
   "execution_count": null,
   "metadata": {},
   "outputs": [],
   "source": [
    "slicePO3 = run(slice3('HB1'),c='PKC_HR_IPR.per',SP=['BP0'])"
   ]
  },
  {
   "cell_type": "code",
   "execution_count": null,
   "metadata": {},
   "outputs": [],
   "source": [
    "slice4 = run(e='PKC_HR_IPR',c='PKC_HR_IPR.eq',PAR={2:20})"
   ]
  },
  {
   "cell_type": "code",
   "execution_count": null,
   "metadata": {},
   "outputs": [],
   "source": [
    "slicePO4 = run(slice4('HB1'),c='PKC_HR_IPR.per',SP=['BP0'])"
   ]
  },
  {
   "cell_type": "code",
   "execution_count": null,
   "metadata": {},
   "outputs": [],
   "source": []
  },
  {
   "cell_type": "code",
   "execution_count": null,
   "metadata": {},
   "outputs": [],
   "source": [
    "import pandas as pd\n",
    "import matplotlib.pyplot as plt"
   ]
  },
  {
   "cell_type": "code",
   "execution_count": null,
   "metadata": {},
   "outputs": [],
   "source": [
    "def auto_to_csv(branch,name,solution_type):\n",
    "    \"\"\" The goal of this function is to save as a csv file the results of an AUTO continuation \n",
    "        and return a panda dataframe of the data\"\"\"\n",
    "    \"\"\" Input:\n",
    "        branch: an AUTO branch solution acquired using run(blablabla)\n",
    "        name: The name of the output csv file, must be a string\n",
    "        solution_type: 'EQ' for equilibrium, 'PR' for periodic orbit, 'HB' for Hopf two parameters continuation\n",
    "            'LPPR' Limit point of periodic orbit\n",
    "        \n",
    "        Output:\n",
    "        panda dataframe of the branch solution\"\"\"\n",
    "    \n",
    "    \n",
    "    \"\"\"Relabelling the branch solution \"\"\"\n",
    "    branch = rl(branch)\n",
    "    \"\"\"Saving the branch solution\"\"\"\n",
    "    sv(branch,name)\n",
    "    \n",
    "    \"\"\"Acquire the b. file\"\"\"\n",
    "    print(\"Acquire the b. file\")\n",
    "    name_b = 'b.' + name\n",
    "    content = None\n",
    "    with open(name_b, 'r') as f:\n",
    "        content = f.readlines()\n",
    "    \n",
    "    \n",
    "    print(\"Read file\")\n",
    "    \"\"\"Read the file from the beginning of the interesting part (depends on its type)\"\"\"\n",
    "    \n",
    "    for i in range(len(content)):\n",
    "    \n",
    "        if \"PT\" in content[i]:\n",
    "            init = i\n",
    "            break\n",
    "\n",
    "\n",
    "\n",
    "            \n",
    "    content_csv = [[el for el in content[init].split(' ') if len(el) > 0 and el != '\\n']]\n",
    "    print(content_csv)\n",
    "        \n",
    "    \n",
    "        \n",
    "    print(\"Rename branch\")\n",
    "    \"\"\" Rename the branch\"\"\"\n",
    "    content_csv[0][0] = 'branch'\n",
    "    column_names = content_csv[0]\n",
    "    \n",
    "    \n",
    "    \n",
    "    print(\"Split content\")\n",
    "    \"\"\"Split and read the content\"\"\"\n",
    "    for line in content:\n",
    "        dummy = line.split(' ')\n",
    "        dummy = [el for el in dummy if len(el) > 0 and el != '\\n']\n",
    "        if dummy[0] == '0':\n",
    "            continue\n",
    "\n",
    "        for el_i, el in enumerate(dummy):\n",
    "            if el_i < 4:\n",
    "                dummy[el_i] = int(el)\n",
    "            else:\n",
    "                dummy[el_i] = float(el)\n",
    "\n",
    "        if len(dummy) > 1:\n",
    "            content_csv.append(dummy)\n",
    "        \n",
    "    # transform into panda data frame\n",
    "        \n",
    "    df = pd.DataFrame(content_csv, columns=column_names)\n",
    "    \n",
    "    # Export to csv\n",
    "    name_csv = name + '.csv'\n",
    "    df[1:-1].to_csv(name_csv)\n",
    "\n",
    "        \n",
    "    \n",
    "    \n",
    "    \n",
    "    return df[1:-1]"
   ]
  },
  {
   "cell_type": "code",
   "execution_count": null,
   "metadata": {},
   "outputs": [],
   "source": [
    "df_eq = auto_to_csv(slice1,'slice1','EQ')"
   ]
  },
  {
   "cell_type": "code",
   "execution_count": null,
   "metadata": {},
   "outputs": [],
   "source": [
    "df_PR = auto_to_csv(slicePO,'slicePO','PR')"
   ]
  },
  {
   "cell_type": "code",
   "execution_count": null,
   "metadata": {},
   "outputs": [],
   "source": []
  },
  {
   "cell_type": "code",
   "execution_count": null,
   "metadata": {},
   "outputs": [],
   "source": []
  },
  {
   "cell_type": "code",
   "execution_count": null,
   "metadata": {},
   "outputs": [],
   "source": []
  },
  {
   "cell_type": "code",
   "execution_count": null,
   "metadata": {},
   "outputs": [],
   "source": [
    "trace_eq = Scatter(x=df_eqs[8]['ct'],\n",
    "                  y=df_eqs[8]['PAR(5)'],\n",
    "                  name='Equilibria',\n",
    "                  mode = 'lines')\n",
    "trace_per = Scatter(x=df_PRs[8]['ct'],\n",
    "                  y=df_PRs[8]['PAR(5)'],\n",
    "                  name='Periodic Orbit',\n",
    "                   mode='lines')\n",
    "trace_per_min = Scatter(x=df_PRs[8]['ct'],\n",
    "                  y=df_PRs[8]['PAR(8)'],\n",
    "                  name='Periodic Orbit',\n",
    "                   mode='lines')\n",
    "data = [trace_eq,trace_per,trace_per_min]\n",
    "layout = Layout(title=\"Bifurcation diagram\",\n",
    "               xaxis=dict(title='Agonist'),\n",
    "               yaxis=dict(title='[Ca]'))\n",
    "fig = Figure(data=data, layout=layout)\n",
    "iplot(fig)"
   ]
  },
  {
   "cell_type": "code",
   "execution_count": null,
   "metadata": {},
   "outputs": [],
   "source": [
    "df_per1[1:-1].to_csv('per1.csv')"
   ]
  },
  {
   "cell_type": "code",
   "execution_count": null,
   "metadata": {},
   "outputs": [],
   "source": [
    "df_per2[1:-1].to_csv('per2.csv')"
   ]
  },
  {
   "cell_type": "code",
   "execution_count": null,
   "metadata": {},
   "outputs": [],
   "source": [
    "df_per2[1:-1]"
   ]
  },
  {
   "cell_type": "code",
   "execution_count": null,
   "metadata": {},
   "outputs": [],
   "source": []
  }
 ],
 "metadata": {
  "anaconda-cloud": {},
  "kernelspec": {
   "display_name": "Python 2",
   "language": "python",
   "name": "python2"
  },
  "language_info": {
   "codemirror_mode": {
    "name": "ipython",
    "version": 2
   },
   "file_extension": ".py",
   "mimetype": "text/x-python",
   "name": "python",
   "nbconvert_exporter": "python",
   "pygments_lexer": "ipython2",
   "version": "2.7.14"
  }
 },
 "nbformat": 4,
 "nbformat_minor": 2
}
